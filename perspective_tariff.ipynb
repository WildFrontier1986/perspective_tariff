{
 "cells": [
  {
   "cell_type": "markdown",
   "metadata": {
    "toc": true
   },
   "source": [
    "<h1>Содержание<span class=\"tocSkip\"></span></h1>\n",
    "<div class=\"toc\"><ul class=\"toc-item\"><li><span><a href=\"#Изучение-данных-из-файлов\" data-toc-modified-id=\"Изучение-данных-из-файлов-1\"><span class=\"toc-item-num\">1&nbsp;&nbsp;</span>Изучение данных из файлов</a></span><ul class=\"toc-item\"><li><span><a href=\"#Загрузка-файлов\" data-toc-modified-id=\"Загрузка-файлов-1.1\"><span class=\"toc-item-num\">1.1&nbsp;&nbsp;</span>Загрузка файлов</a></span></li><li><span><a href=\"#Проверка-данных\" data-toc-modified-id=\"Проверка-данных-1.2\"><span class=\"toc-item-num\">1.2&nbsp;&nbsp;</span>Проверка данных</a></span><ul class=\"toc-item\"><li><span><a href=\"#Проверка-датафрейма-df_users\" data-toc-modified-id=\"Проверка-датафрейма-df_users-1.2.1\"><span class=\"toc-item-num\">1.2.1&nbsp;&nbsp;</span>Проверка датафрейма df_users</a></span></li><li><span><a href=\"#Проверка-датафрейма-df_calls\" data-toc-modified-id=\"Проверка-датафрейма-df_calls-1.2.2\"><span class=\"toc-item-num\">1.2.2&nbsp;&nbsp;</span>Проверка датафрейма df_calls</a></span></li><li><span><a href=\"#Проверка-датафрейма-df_messages\" data-toc-modified-id=\"Проверка-датафрейма-df_messages-1.2.3\"><span class=\"toc-item-num\">1.2.3&nbsp;&nbsp;</span>Проверка датафрейма df_messages</a></span></li><li><span><a href=\"#Проверка-датафрейма-df_internet\" data-toc-modified-id=\"Проверка-датафрейма-df_internet-1.2.4\"><span class=\"toc-item-num\">1.2.4&nbsp;&nbsp;</span>Проверка датафрейма df_internet</a></span></li><li><span><a href=\"#Проверка-датафрейма-df_tariffs\" data-toc-modified-id=\"Проверка-датафрейма-df_tariffs-1.2.5\"><span class=\"toc-item-num\">1.2.5&nbsp;&nbsp;</span>Проверка датафрейма df_tariffs</a></span></li></ul></li><li><span><a href=\"#Вывод\" data-toc-modified-id=\"Вывод-1.3\"><span class=\"toc-item-num\">1.3&nbsp;&nbsp;</span>Вывод</a></span></li></ul></li><li><span><a href=\"#Предобработка-данных\" data-toc-modified-id=\"Предобработка-данных-2\"><span class=\"toc-item-num\">2&nbsp;&nbsp;</span>Предобработка данных</a></span><ul class=\"toc-item\"><li><span><a href=\"#Замена-типа-данных-в-колонках\" data-toc-modified-id=\"Замена-типа-данных-в-колонках-2.1\"><span class=\"toc-item-num\">2.1&nbsp;&nbsp;</span>Замена типа данных в колонках</a></span><ul class=\"toc-item\"><li><span><a href=\"#Замена-типа-данных-в--датафрейме-df_users\" data-toc-modified-id=\"Замена-типа-данных-в--датафрейме-df_users-2.1.1\"><span class=\"toc-item-num\">2.1.1&nbsp;&nbsp;</span>Замена типа данных в  датафрейме df_users</a></span></li><li><span><a href=\"#Замена-типа-данных-в--датафрейме-df_calls\" data-toc-modified-id=\"Замена-типа-данных-в--датафрейме-df_calls-2.1.2\"><span class=\"toc-item-num\">2.1.2&nbsp;&nbsp;</span>Замена типа данных в  датафрейме df_calls</a></span></li><li><span><a href=\"#Замена-типа-данных-в--датафрейме-df_messages\" data-toc-modified-id=\"Замена-типа-данных-в--датафрейме-df_messages-2.1.3\"><span class=\"toc-item-num\">2.1.3&nbsp;&nbsp;</span>Замена типа данных в  датафрейме df_messages</a></span></li><li><span><a href=\"#Замена-типа-данных-в--датафрейме-df_internet\" data-toc-modified-id=\"Замена-типа-данных-в--датафрейме-df_internet-2.1.4\"><span class=\"toc-item-num\">2.1.4&nbsp;&nbsp;</span>Замена типа данных в  датафрейме df_internet</a></span></li></ul></li><li><span><a href=\"#Декомпозиция\" data-toc-modified-id=\"Декомпозиция-2.2\"><span class=\"toc-item-num\">2.2&nbsp;&nbsp;</span>Декомпозиция</a></span><ul class=\"toc-item\"><li><span><a href=\"#Декомпозиция-датафрейма-df_internet\" data-toc-modified-id=\"Декомпозиция-датафрейма-df_internet-2.2.1\"><span class=\"toc-item-num\">2.2.1&nbsp;&nbsp;</span>Декомпозиция датафрейма df_internet</a></span></li></ul></li><li><span><a href=\"#Вывод\" data-toc-modified-id=\"Вывод-2.3\"><span class=\"toc-item-num\">2.3&nbsp;&nbsp;</span>Вывод</a></span></li></ul></li><li><span><a href=\"#Работа-с-таблицами.-Расчёты-и-добавление-результатов-в-таблицу\" data-toc-modified-id=\"Работа-с-таблицами.-Расчёты-и-добавление-результатов-в-таблицу-3\"><span class=\"toc-item-num\">3&nbsp;&nbsp;</span>Работа с таблицами. Расчёты и добавление результатов в таблицу</a></span><ul class=\"toc-item\"><li><span><a href=\"#Добавление-колонок-в-датафреймы\" data-toc-modified-id=\"Добавление-колонок-в-датафреймы-3.1\"><span class=\"toc-item-num\">3.1&nbsp;&nbsp;</span>Добавление колонок в датафреймы</a></span><ul class=\"toc-item\"><li><span><a href=\"#Добавление-колонки-с-названиями-месяцев\" data-toc-modified-id=\"Добавление-колонки-с-названиями-месяцев-3.1.1\"><span class=\"toc-item-num\">3.1.1&nbsp;&nbsp;</span>Добавление колонки с названиями месяцев</a></span></li></ul></li><li><span><a href=\"#Обработка-данных-в-датафрейме-df_calls\" data-toc-modified-id=\"Обработка-данных-в-датафрейме-df_calls-3.2\"><span class=\"toc-item-num\">3.2&nbsp;&nbsp;</span>Обработка данных в датафрейме df_calls</a></span></li><li><span><a href=\"#Создание-сводных-таблиц\" data-toc-modified-id=\"Создание-сводных-таблиц-3.3\"><span class=\"toc-item-num\">3.3&nbsp;&nbsp;</span>Создание сводных таблиц</a></span><ul class=\"toc-item\"><li><span><a href=\"#Создание-сводной-таблицы-df_calls_out_count\" data-toc-modified-id=\"Создание-сводной-таблицы-df_calls_out_count-3.3.1\"><span class=\"toc-item-num\">3.3.1&nbsp;&nbsp;</span>Создание сводной таблицы df_calls_out_count</a></span></li><li><span><a href=\"#Создание-сводной-таблицы-df_calls_duration\" data-toc-modified-id=\"Создание-сводной-таблицы-df_calls_duration-3.3.2\"><span class=\"toc-item-num\">3.3.2&nbsp;&nbsp;</span>Создание сводной таблицы df_calls_duration</a></span></li><li><span><a href=\"#Создание-сводной-таблицы-df_messages_count\" data-toc-modified-id=\"Создание-сводной-таблицы-df_messages_count-3.3.3\"><span class=\"toc-item-num\">3.3.3&nbsp;&nbsp;</span>Создание сводной таблицы df_messages_count</a></span></li><li><span><a href=\"#Создание-сводной-таблицы-df_internet_mb\" data-toc-modified-id=\"Создание-сводной-таблицы-df_internet_mb-3.3.4\"><span class=\"toc-item-num\">3.3.4&nbsp;&nbsp;</span>Создание сводной таблицы df_internet_mb</a></span></li></ul></li><li><span><a href=\"#Объединение-сводных-таблиц-с-дальнейшей-предобработкой\" data-toc-modified-id=\"Объединение-сводных-таблиц-с-дальнейшей-предобработкой-3.4\"><span class=\"toc-item-num\">3.4&nbsp;&nbsp;</span>Объединение сводных таблиц с дальнейшей предобработкой</a></span><ul class=\"toc-item\"><li><span><a href=\"#Формирование-объединённой-таблицы-df_calls_total\" data-toc-modified-id=\"Формирование-объединённой-таблицы-df_calls_total-3.4.1\"><span class=\"toc-item-num\">3.4.1&nbsp;&nbsp;</span>Формирование объединённой таблицы df_calls_total</a></span></li><li><span><a href=\"#Формирование-объединённой-таблицы-df_merged1\" data-toc-modified-id=\"Формирование-объединённой-таблицы-df_merged1-3.4.2\"><span class=\"toc-item-num\">3.4.2&nbsp;&nbsp;</span>Формирование объединённой таблицы df_merged1</a></span></li><li><span><a href=\"#Предобработка-объединённой-таблицы-df_merged1\" data-toc-modified-id=\"Предобработка-объединённой-таблицы-df_merged1-3.4.3\"><span class=\"toc-item-num\">3.4.3&nbsp;&nbsp;</span>Предобработка объединённой таблицы df_merged1</a></span></li><li><span><a href=\"#Формирование-объединённой-таблицы-df_full\" data-toc-modified-id=\"Формирование-объединённой-таблицы-df_full-3.4.4\"><span class=\"toc-item-num\">3.4.4&nbsp;&nbsp;</span>Формирование объединённой таблицы df_full</a></span></li><li><span><a href=\"#Предобработка-объединённой-таблицы-df_full.-Проведение-расчётов-и-добавление-колонок\" data-toc-modified-id=\"Предобработка-объединённой-таблицы-df_full.-Проведение-расчётов-и-добавление-колонок-3.4.5\"><span class=\"toc-item-num\">3.4.5&nbsp;&nbsp;</span>Предобработка объединённой таблицы df_full. Проведение расчётов и добавление колонок</a></span></li></ul></li><li><span><a href=\"#Вывод\" data-toc-modified-id=\"Вывод-3.5\"><span class=\"toc-item-num\">3.5&nbsp;&nbsp;</span>Вывод</a></span></li></ul></li><li><span><a href=\"#Исследовательский-анализ-данных\" data-toc-modified-id=\"Исследовательский-анализ-данных-4\"><span class=\"toc-item-num\">4&nbsp;&nbsp;</span>Исследовательский анализ данных</a></span><ul class=\"toc-item\"><li><span><a href=\"#Изучение-месячных-показателей-пользователей-тарифов-Smart-и-Ultra:-количество-звонков,-сообщений-и-интернет-трафика\" data-toc-modified-id=\"Изучение-месячных-показателей-пользователей-тарифов-Smart-и-Ultra:-количество-звонков,-сообщений-и-интернет-трафика-4.1\"><span class=\"toc-item-num\">4.1&nbsp;&nbsp;</span>Изучение месячных показателей пользователей тарифов Smart и Ultra: количество звонков, сообщений и интернет-трафика</a></span><ul class=\"toc-item\"><li><span><a href=\"#Изучение-табличных-данных\" data-toc-modified-id=\"Изучение-табличных-данных-4.1.1\"><span class=\"toc-item-num\">4.1.1&nbsp;&nbsp;</span>Изучение табличных данных</a></span></li><li><span><a href=\"#Изучение-метрик-локации-данных\" data-toc-modified-id=\"Изучение-метрик-локации-данных-4.1.2\"><span class=\"toc-item-num\">4.1.2&nbsp;&nbsp;</span>Изучение метрик локации данных</a></span></li><li><span><a href=\"#Изучение-гистограмм\" data-toc-modified-id=\"Изучение-гистограмм-4.1.3\"><span class=\"toc-item-num\">4.1.3&nbsp;&nbsp;</span>Изучение гистограмм</a></span></li></ul></li><li><span><a href=\"#Вывод\" data-toc-modified-id=\"Вывод-4.2\"><span class=\"toc-item-num\">4.2&nbsp;&nbsp;</span>Вывод</a></span></li></ul></li><li><span><a href=\"#Статистический-анализ-данных\" data-toc-modified-id=\"Статистический-анализ-данных-5\"><span class=\"toc-item-num\">5&nbsp;&nbsp;</span>Статистический анализ данных</a></span><ul class=\"toc-item\"><li><span><a href=\"#Проверка-гипотез\" data-toc-modified-id=\"Проверка-гипотез-5.1\"><span class=\"toc-item-num\">5.1&nbsp;&nbsp;</span>Проверка гипотез</a></span><ul class=\"toc-item\"><li><span><a href=\"#Средние-выручки-пользователей-тарифов-Ultra-и-Smart-различаются\" data-toc-modified-id=\"Средние-выручки-пользователей-тарифов-Ultra-и-Smart-различаются-5.1.1\"><span class=\"toc-item-num\">5.1.1&nbsp;&nbsp;</span>Средние выручки пользователей тарифов Ultra и Smart различаются</a></span></li><li><span><a href=\"#Средние-выручки-пользователей-из-Москвы-и-других-регионов-различаются\" data-toc-modified-id=\"Средние-выручки-пользователей-из-Москвы-и-других-регионов-различаются-5.1.2\"><span class=\"toc-item-num\">5.1.2&nbsp;&nbsp;</span>Средние выручки пользователей из Москвы и других регионов различаются</a></span></li></ul></li><li><span><a href=\"#Вывод\" data-toc-modified-id=\"Вывод-5.2\"><span class=\"toc-item-num\">5.2&nbsp;&nbsp;</span>Вывод</a></span></li></ul></li><li><span><a href=\"#Общий-вывод\" data-toc-modified-id=\"Общий-вывод-6\"><span class=\"toc-item-num\">6&nbsp;&nbsp;</span>Общий вывод</a></span></li></ul></div>"
   ]
  },
  {
   "cell_type": "markdown",
   "metadata": {},
   "source": [
    "# Статистический анализ данных о тарифах оператора сотовой связи \"Мегалайн\"\n",
    "\n",
    "Клиентам предлагают два тарифных плана: «Смарт» и «Ультра». Чтобы скорректировать рекламный бюджет, коммерческий департамент хочет понять, какой тариф приносит больше денег.\n",
    "\n",
    "Необходимо сделать предварительный анализ тарифов на небольшой выборке клиентов. В распоряжении данные 500 пользователей «Мегалайна»: кто они, откуда, каким тарифом пользуются, сколько звонков и сообщений каждый отправил за 2018 год. Нужно проанализировать поведение клиентов и сделать вывод — какой тариф лучше."
   ]
  },
  {
   "cell_type": "markdown",
   "metadata": {},
   "source": [
    "## Изучение данных из файлов"
   ]
  },
  {
   "cell_type": "markdown",
   "metadata": {},
   "source": [
    "### Загрузка файлов"
   ]
  },
  {
   "cell_type": "code",
   "execution_count": 250,
   "metadata": {},
   "outputs": [],
   "source": [
    "# 1. Подключение модуля pathlib\n",
    "import pathlib\n",
    "# 2. Подключение класса Path модуля pathlib\n",
    "from pathlib import Path\n",
    "\n",
    "# 3. Подключение библиотеки Pandas\n",
    "import pandas as pd\n",
    "# 4. Подключение библиотеки numpy\n",
    "import numpy as np\n",
    "\n",
    "# 5. Подключение модуля pyplot библиотеки matplotlib\n",
    "import matplotlib.pyplot as plt\n",
    "# 6. Подключение модуля scipy.stats из библиотеки scipy\n",
    "from scipy import stats as st"
   ]
  },
  {
   "cell_type": "code",
   "execution_count": 251,
   "metadata": {},
   "outputs": [],
   "source": [
    "# Создание датафрейма 'df_users'\n",
    "try:\n",
    "    df_users = pd.read_csv('/datasets/users.csv')\n",
    "except:\n",
    "    df_users = pd.read_csv(\n",
    "        Path(\n",
    "            pathlib.Path.cwd(),\n",
    "            'datasets',\n",
    "            'users.csv'\n",
    "        )\n",
    "    )"
   ]
  },
  {
   "cell_type": "code",
   "execution_count": 252,
   "metadata": {},
   "outputs": [],
   "source": [
    "# Создание датафрейма 'df_calls'\n",
    "try:\n",
    "    df_calls = pd.read_csv('/datasets/calls.csv')\n",
    "except:\n",
    "    df_calls = pd.read_csv(\n",
    "        Path(\n",
    "            pathlib.Path.cwd(),\n",
    "            'datasets',\n",
    "            'calls.csv'\n",
    "        )\n",
    "    )"
   ]
  },
  {
   "cell_type": "code",
   "execution_count": 253,
   "metadata": {},
   "outputs": [],
   "source": [
    "# Создание датафрейма 'df_messages'\n",
    "try:\n",
    "    df_messages = pd.read_csv('/datasets/messages.csv')\n",
    "except:\n",
    "    df_messages = pd.read_csv(\n",
    "        Path(\n",
    "            pathlib.Path.cwd(),\n",
    "            'datasets',\n",
    "            'messages.csv'\n",
    "        )\n",
    "    )"
   ]
  },
  {
   "cell_type": "code",
   "execution_count": 254,
   "metadata": {},
   "outputs": [],
   "source": [
    "# Создание датафрейма 'df_internet'\n",
    "try:\n",
    "    df_internet = pd.read_csv('/datasets/internet.csv')\n",
    "except:\n",
    "    df_internet = pd.read_csv(\n",
    "        Path(\n",
    "            pathlib.Path.cwd(),\n",
    "            'datasets',\n",
    "            'internet.csv'\n",
    "        )\n",
    "    )"
   ]
  },
  {
   "cell_type": "code",
   "execution_count": 255,
   "metadata": {},
   "outputs": [],
   "source": [
    "# Создание датафрейма 'df_tariffs'\n",
    "try:\n",
    "    df_tariffs = pd.read_csv('/datasets/tariffs.csv')\n",
    "except:\n",
    "    df_tariffs = pd.read_csv(\n",
    "        Path(\n",
    "            pathlib.Path.cwd(),\n",
    "            'datasets',\n",
    "            'tariffs.csv'\n",
    "        )\n",
    "    )"
   ]
  },
  {
   "cell_type": "code",
   "execution_count": 256,
   "metadata": {},
   "outputs": [],
   "source": [
    "# Отключение ограничения на количество\n",
    "# выводимых колонок\n",
    "pd.set_option('display.max_columns', None)"
   ]
  },
  {
   "cell_type": "markdown",
   "metadata": {},
   "source": [
    "### Проверка данных"
   ]
  },
  {
   "cell_type": "markdown",
   "metadata": {},
   "source": [
    "#### Проверка датафрейма df_users"
   ]
  },
  {
   "cell_type": "code",
   "execution_count": 257,
   "metadata": {},
   "outputs": [
    {
     "data": {
      "text/html": [
       "<div>\n",
       "<style scoped>\n",
       "    .dataframe tbody tr th:only-of-type {\n",
       "        vertical-align: middle;\n",
       "    }\n",
       "\n",
       "    .dataframe tbody tr th {\n",
       "        vertical-align: top;\n",
       "    }\n",
       "\n",
       "    .dataframe thead th {\n",
       "        text-align: right;\n",
       "    }\n",
       "</style>\n",
       "<table border=\"1\" class=\"dataframe\">\n",
       "  <thead>\n",
       "    <tr style=\"text-align: right;\">\n",
       "      <th></th>\n",
       "      <th>user_id</th>\n",
       "      <th>age</th>\n",
       "      <th>churn_date</th>\n",
       "      <th>city</th>\n",
       "      <th>first_name</th>\n",
       "      <th>last_name</th>\n",
       "      <th>reg_date</th>\n",
       "      <th>tariff</th>\n",
       "    </tr>\n",
       "  </thead>\n",
       "  <tbody>\n",
       "    <tr>\n",
       "      <th>0</th>\n",
       "      <td>1000</td>\n",
       "      <td>52</td>\n",
       "      <td>NaN</td>\n",
       "      <td>Краснодар</td>\n",
       "      <td>Рафаил</td>\n",
       "      <td>Верещагин</td>\n",
       "      <td>2018-05-25</td>\n",
       "      <td>ultra</td>\n",
       "    </tr>\n",
       "    <tr>\n",
       "      <th>1</th>\n",
       "      <td>1001</td>\n",
       "      <td>41</td>\n",
       "      <td>NaN</td>\n",
       "      <td>Москва</td>\n",
       "      <td>Иван</td>\n",
       "      <td>Ежов</td>\n",
       "      <td>2018-11-01</td>\n",
       "      <td>smart</td>\n",
       "    </tr>\n",
       "    <tr>\n",
       "      <th>2</th>\n",
       "      <td>1002</td>\n",
       "      <td>59</td>\n",
       "      <td>NaN</td>\n",
       "      <td>Стерлитамак</td>\n",
       "      <td>Евгений</td>\n",
       "      <td>Абрамович</td>\n",
       "      <td>2018-06-17</td>\n",
       "      <td>smart</td>\n",
       "    </tr>\n",
       "    <tr>\n",
       "      <th>3</th>\n",
       "      <td>1003</td>\n",
       "      <td>23</td>\n",
       "      <td>NaN</td>\n",
       "      <td>Москва</td>\n",
       "      <td>Белла</td>\n",
       "      <td>Белякова</td>\n",
       "      <td>2018-08-17</td>\n",
       "      <td>ultra</td>\n",
       "    </tr>\n",
       "    <tr>\n",
       "      <th>4</th>\n",
       "      <td>1004</td>\n",
       "      <td>68</td>\n",
       "      <td>NaN</td>\n",
       "      <td>Новокузнецк</td>\n",
       "      <td>Татьяна</td>\n",
       "      <td>Авдеенко</td>\n",
       "      <td>2018-05-14</td>\n",
       "      <td>ultra</td>\n",
       "    </tr>\n",
       "    <tr>\n",
       "      <th>...</th>\n",
       "      <td>...</td>\n",
       "      <td>...</td>\n",
       "      <td>...</td>\n",
       "      <td>...</td>\n",
       "      <td>...</td>\n",
       "      <td>...</td>\n",
       "      <td>...</td>\n",
       "      <td>...</td>\n",
       "    </tr>\n",
       "    <tr>\n",
       "      <th>495</th>\n",
       "      <td>1495</td>\n",
       "      <td>65</td>\n",
       "      <td>NaN</td>\n",
       "      <td>Иркутск</td>\n",
       "      <td>Авксентий</td>\n",
       "      <td>Фокин</td>\n",
       "      <td>2018-08-28</td>\n",
       "      <td>ultra</td>\n",
       "    </tr>\n",
       "    <tr>\n",
       "      <th>496</th>\n",
       "      <td>1496</td>\n",
       "      <td>36</td>\n",
       "      <td>NaN</td>\n",
       "      <td>Вологда</td>\n",
       "      <td>Трифон</td>\n",
       "      <td>Блохин</td>\n",
       "      <td>2018-01-27</td>\n",
       "      <td>smart</td>\n",
       "    </tr>\n",
       "    <tr>\n",
       "      <th>497</th>\n",
       "      <td>1497</td>\n",
       "      <td>32</td>\n",
       "      <td>NaN</td>\n",
       "      <td>Челябинск</td>\n",
       "      <td>Каролина</td>\n",
       "      <td>Агеева</td>\n",
       "      <td>2018-10-09</td>\n",
       "      <td>smart</td>\n",
       "    </tr>\n",
       "    <tr>\n",
       "      <th>498</th>\n",
       "      <td>1498</td>\n",
       "      <td>68</td>\n",
       "      <td>2018-10-25</td>\n",
       "      <td>Владикавказ</td>\n",
       "      <td>Всеволод</td>\n",
       "      <td>Акимчин</td>\n",
       "      <td>2018-07-19</td>\n",
       "      <td>smart</td>\n",
       "    </tr>\n",
       "    <tr>\n",
       "      <th>499</th>\n",
       "      <td>1499</td>\n",
       "      <td>35</td>\n",
       "      <td>NaN</td>\n",
       "      <td>Пермь</td>\n",
       "      <td>Гектор</td>\n",
       "      <td>Корнилов</td>\n",
       "      <td>2018-09-27</td>\n",
       "      <td>smart</td>\n",
       "    </tr>\n",
       "  </tbody>\n",
       "</table>\n",
       "<p>500 rows × 8 columns</p>\n",
       "</div>"
      ],
      "text/plain": [
       "     user_id  age  churn_date         city first_name  last_name    reg_date  \\\n",
       "0       1000   52         NaN    Краснодар     Рафаил  Верещагин  2018-05-25   \n",
       "1       1001   41         NaN       Москва       Иван       Ежов  2018-11-01   \n",
       "2       1002   59         NaN  Стерлитамак    Евгений  Абрамович  2018-06-17   \n",
       "3       1003   23         NaN       Москва      Белла   Белякова  2018-08-17   \n",
       "4       1004   68         NaN  Новокузнецк    Татьяна   Авдеенко  2018-05-14   \n",
       "..       ...  ...         ...          ...        ...        ...         ...   \n",
       "495     1495   65         NaN      Иркутск  Авксентий      Фокин  2018-08-28   \n",
       "496     1496   36         NaN      Вологда     Трифон     Блохин  2018-01-27   \n",
       "497     1497   32         NaN    Челябинск   Каролина     Агеева  2018-10-09   \n",
       "498     1498   68  2018-10-25  Владикавказ   Всеволод    Акимчин  2018-07-19   \n",
       "499     1499   35         NaN        Пермь     Гектор   Корнилов  2018-09-27   \n",
       "\n",
       "    tariff  \n",
       "0    ultra  \n",
       "1    smart  \n",
       "2    smart  \n",
       "3    ultra  \n",
       "4    ultra  \n",
       "..     ...  \n",
       "495  ultra  \n",
       "496  smart  \n",
       "497  smart  \n",
       "498  smart  \n",
       "499  smart  \n",
       "\n",
       "[500 rows x 8 columns]"
      ]
     },
     "execution_count": 257,
     "metadata": {},
     "output_type": "execute_result"
    }
   ],
   "source": [
    "# Вывод на экран датафрейма df_users\n",
    "df_users"
   ]
  },
  {
   "cell_type": "markdown",
   "metadata": {},
   "source": [
    "<div class=\"alert alert-block alert-warning\"><span style=\"color:green\"><font size=\"3\" face=\"Arial\"><b>Промежуточные выводы 1.1.1:<b/></span>\n",
    "    \n",
    "<span style=\"color:steelblue\"><font size=\"3\" face=\"Courier\"><b>Датафрейм df_users содержит 500 строк и 8 колонок.</b></span></div>"
   ]
  },
  {
   "cell_type": "code",
   "execution_count": 258,
   "metadata": {},
   "outputs": [
    {
     "data": {
      "text/plain": [
       "Index(['user_id', 'age', 'churn_date', 'city', 'first_name', 'last_name',\n",
       "       'reg_date', 'tariff'],\n",
       "      dtype='object')"
      ]
     },
     "execution_count": 258,
     "metadata": {},
     "output_type": "execute_result"
    }
   ],
   "source": [
    "# Вывод названий колонок в df_users\n",
    "df_users.columns"
   ]
  },
  {
   "cell_type": "markdown",
   "metadata": {},
   "source": [
    "<div class=\"alert alert-block alert-warning\"><span style=\"color:green\"><font size=\"3\" face=\"Arial\"><b>Промежуточные выводы 1.1.2:<b/></span>\n",
    "    \n",
    "<span style=\"color:steelblue\"><font size=\"3\" face=\"Courier\"><b>Названия колонок написаны с соблюдением змеиного стиля.</b></span></div>"
   ]
  },
  {
   "cell_type": "code",
   "execution_count": 259,
   "metadata": {
    "scrolled": true
   },
   "outputs": [
    {
     "name": "stdout",
     "output_type": "stream",
     "text": [
      "<class 'pandas.core.frame.DataFrame'>\n",
      "RangeIndex: 500 entries, 0 to 499\n",
      "Data columns (total 8 columns):\n",
      " #   Column      Non-Null Count  Dtype \n",
      "---  ------      --------------  ----- \n",
      " 0   user_id     500 non-null    int64 \n",
      " 1   age         500 non-null    int64 \n",
      " 2   churn_date  38 non-null     object\n",
      " 3   city        500 non-null    object\n",
      " 4   first_name  500 non-null    object\n",
      " 5   last_name   500 non-null    object\n",
      " 6   reg_date    500 non-null    object\n",
      " 7   tariff      500 non-null    object\n",
      "dtypes: int64(2), object(6)\n",
      "memory usage: 31.4+ KB\n"
     ]
    }
   ],
   "source": [
    "# Вывод общей информации по df_users\n",
    "df_users.info()"
   ]
  },
  {
   "cell_type": "markdown",
   "metadata": {},
   "source": [
    "<div class=\"alert alert-block alert-warning\"><span style=\"color:green\"><font size=\"3\" face=\"Arial\"><b>Промежуточные выводы 1.1.3:<b/></span>\n",
    "    \n",
    "<span style=\"color:steelblue\"><font size=\"3\" face=\"Courier\"><b>Несоответствие типа данных в колонках 'churn_date' и 'reg_date'.\\\n",
    "    Текущий тип 'object' необходимо заменить на 'datetime64'.</b></span></div>"
   ]
  },
  {
   "cell_type": "code",
   "execution_count": 260,
   "metadata": {
    "scrolled": true
   },
   "outputs": [
    {
     "data": {
      "text/plain": [
       "user_id         0\n",
       "age             0\n",
       "churn_date    462\n",
       "city            0\n",
       "first_name      0\n",
       "last_name       0\n",
       "reg_date        0\n",
       "tariff          0\n",
       "dtype: int64"
      ]
     },
     "execution_count": 260,
     "metadata": {},
     "output_type": "execute_result"
    }
   ],
   "source": [
    "# Вывод количества пропусков в df_users\n",
    "df_users.isna().sum()"
   ]
  },
  {
   "cell_type": "markdown",
   "metadata": {},
   "source": [
    "<div class=\"alert alert-block alert-warning\"><span style=\"color:green\"><font size=\"3\" face=\"Arial\"><b>Промежуточные выводы 1.1.4:<b/></span>\n",
    "    \n",
    "<span style=\"color:steelblue\"><font size=\"3\" face=\"Courier\"><b>Пропуски обнаружены в колонке 'churn_date'.\\\n",
    "    Так как в колонке содержится информация о дате прекращения пользования тарифом, то пропуски оставляю без изменений.</b></span></div>"
   ]
  },
  {
   "cell_type": "code",
   "execution_count": 261,
   "metadata": {},
   "outputs": [
    {
     "data": {
      "text/html": [
       "<div>\n",
       "<style scoped>\n",
       "    .dataframe tbody tr th:only-of-type {\n",
       "        vertical-align: middle;\n",
       "    }\n",
       "\n",
       "    .dataframe tbody tr th {\n",
       "        vertical-align: top;\n",
       "    }\n",
       "\n",
       "    .dataframe thead th {\n",
       "        text-align: right;\n",
       "    }\n",
       "</style>\n",
       "<table border=\"1\" class=\"dataframe\">\n",
       "  <thead>\n",
       "    <tr style=\"text-align: right;\">\n",
       "      <th></th>\n",
       "      <th>user_id</th>\n",
       "      <th>age</th>\n",
       "    </tr>\n",
       "  </thead>\n",
       "  <tbody>\n",
       "    <tr>\n",
       "      <th>count</th>\n",
       "      <td>500.000000</td>\n",
       "      <td>500.00000</td>\n",
       "    </tr>\n",
       "    <tr>\n",
       "      <th>mean</th>\n",
       "      <td>1249.500000</td>\n",
       "      <td>46.58800</td>\n",
       "    </tr>\n",
       "    <tr>\n",
       "      <th>std</th>\n",
       "      <td>144.481833</td>\n",
       "      <td>16.66763</td>\n",
       "    </tr>\n",
       "    <tr>\n",
       "      <th>min</th>\n",
       "      <td>1000.000000</td>\n",
       "      <td>18.00000</td>\n",
       "    </tr>\n",
       "    <tr>\n",
       "      <th>25%</th>\n",
       "      <td>1124.750000</td>\n",
       "      <td>32.00000</td>\n",
       "    </tr>\n",
       "    <tr>\n",
       "      <th>50%</th>\n",
       "      <td>1249.500000</td>\n",
       "      <td>46.00000</td>\n",
       "    </tr>\n",
       "    <tr>\n",
       "      <th>75%</th>\n",
       "      <td>1374.250000</td>\n",
       "      <td>62.00000</td>\n",
       "    </tr>\n",
       "    <tr>\n",
       "      <th>max</th>\n",
       "      <td>1499.000000</td>\n",
       "      <td>75.00000</td>\n",
       "    </tr>\n",
       "  </tbody>\n",
       "</table>\n",
       "</div>"
      ],
      "text/plain": [
       "           user_id        age\n",
       "count   500.000000  500.00000\n",
       "mean   1249.500000   46.58800\n",
       "std     144.481833   16.66763\n",
       "min    1000.000000   18.00000\n",
       "25%    1124.750000   32.00000\n",
       "50%    1249.500000   46.00000\n",
       "75%    1374.250000   62.00000\n",
       "max    1499.000000   75.00000"
      ]
     },
     "execution_count": 261,
     "metadata": {},
     "output_type": "execute_result"
    }
   ],
   "source": [
    "# Вывод списка характерных значений в колонках df_users\n",
    "df_users.describe()"
   ]
  },
  {
   "cell_type": "code",
   "execution_count": 262,
   "metadata": {},
   "outputs": [
    {
     "data": {
      "text/plain": [
       "0"
      ]
     },
     "execution_count": 262,
     "metadata": {},
     "output_type": "execute_result"
    }
   ],
   "source": [
    "# Поиск явных дубликатов в df_users\n",
    "df_users.duplicated().sum()"
   ]
  },
  {
   "cell_type": "markdown",
   "metadata": {},
   "source": [
    "<div class=\"alert alert-block alert-warning\"><span style=\"color:green\"><font size=\"3\" face=\"Arial\"><b>Промежуточные выводы 1.1.5:<b/></span>\n",
    "    \n",
    "<span style=\"color:steelblue\"><font size=\"3\" face=\"Courier\"><b>Явные дубликаты не обнаружены.</b></span></div>"
   ]
  },
  {
   "cell_type": "code",
   "execution_count": 263,
   "metadata": {
    "scrolled": true
   },
   "outputs": [
    {
     "data": {
      "text/plain": [
       "array(['Ёлчина', 'Ёркин', 'Ёркина', 'Ёрохов', 'Ёрохова', 'Абаимов',\n",
       "       'Абакумов', 'Абакшина', 'Абалакова', 'Абалдуева', 'Абалкин',\n",
       "       'Абашкин', 'Абашкина', 'Абдулина', 'Абоимов', 'Абрамович',\n",
       "       'Абрамцев', 'Абрамычева', 'Абрашина', 'Абрикосова', 'Авдеев',\n",
       "       'Авдеенко', 'Авдонюшкин', 'Авдушева', 'Авдышев', 'Авдюков',\n",
       "       'Авраамова', 'Авраменко', 'Авринский', 'Аврорин', 'Авроров',\n",
       "       'Авросимова', 'Авросинова', 'Авсейкина', 'Авчинникова', 'Агаев',\n",
       "       'Агаева', 'Агапеева', 'Агеева', 'Адаменко', 'Адамов', 'Азаров',\n",
       "       'Азерников', 'Азимова', 'Акимов', 'Акимчин', 'Акимычева',\n",
       "       'Акиндинов', 'Акинин', 'Акинфьев', 'Аксёнов', 'Акуленко',\n",
       "       'Александрова', 'Александрович', 'Александрюк', 'Алексеева',\n",
       "       'Алексеенко', 'Алексеичев', 'Аленникова', 'Алесин', 'Алехина',\n",
       "       'Алешин', 'Алешина', 'Алешкова', 'Алиев', 'Алфеева', 'Алфимов',\n",
       "       'Алфимова', 'Алымова', 'Алютин', 'Алюшина', 'Алёшко', 'Алёшкова',\n",
       "       'Амелин', 'Амелишко', 'Амельченко', 'Ананьева', 'Андреенко',\n",
       "       'Андрейкин', 'Андрейчук', 'Андрианов', 'Андропов', 'Андропова',\n",
       "       'Андрющенко', 'Аникина', 'Аничкина', 'Анищенко', 'Антипов',\n",
       "       'Антоненко', 'Антонова', 'Антропов', 'Антропова', 'Аракина',\n",
       "       'Аракчеев', 'Аркадьев', 'Арсенкова', 'Артемчук', 'Артемьев',\n",
       "       'Артёменко', 'Артёмов', 'Артёшин', 'Архипова', 'Асафьева',\n",
       "       'Астапенко', 'Астапов', 'Астафьева', 'Афанасенко', 'Афанасова',\n",
       "       'Афинин', 'Афонасьева', 'Афонин', 'Афонина', 'Ахмадулин',\n",
       "       'Ахматов', 'Ахматулин', 'Ахматулина', 'Ахмедов', 'Бабушкина',\n",
       "       'Барсуков', 'Басова', 'Безруков', 'Беликова', 'Белова',\n",
       "       'Белозёров', 'Белоусова', 'Беляев', 'Беляева', 'Белякова',\n",
       "       'Березина', 'Блинова', 'Блохин', 'Блохина', 'Боброва', 'Бобылёв',\n",
       "       'Богданов', 'Богданова', 'Болдырев', 'Болдырева', 'Бондарев',\n",
       "       'Борисова', 'Бородин', 'Бородина', 'Булгаков', 'Бычкова',\n",
       "       'Васильева', 'Верещагин', 'Верещагина', 'Веселов', 'Вешнякова',\n",
       "       'Вишневский', 'Вишняков', 'Воронин', 'Воронина', 'Гаврилова',\n",
       "       'Галкин', 'Глушков', 'Голованова', 'Гончаров', 'Горбачева',\n",
       "       'Горбунов', 'Горлов', 'Григорьев', 'Григорьева', 'Гришина',\n",
       "       'Громова', 'Давыдов', 'Демидов', 'Демьянов', 'Демьянова',\n",
       "       'Денисова', 'Добрынин', 'Добрынина', 'Дорофеева', 'Дроздов',\n",
       "       'Дубинина', 'Дьячкова', 'Евсеев', 'Ежов', 'Елизаров', 'Емельянова',\n",
       "       'Еремин', 'Ермилов', 'Ермолаев', 'Ерофеев', 'Ерофеева', 'Ефремов',\n",
       "       'Жарова', 'Жданов', 'Жукова', 'Завьялова', 'Зайцев', 'Зеленина',\n",
       "       'Зимина', 'Золотов', 'Золотова', 'Зубков', 'Зубкова', 'Зуев',\n",
       "       'Зыков', 'Иванов', 'Иванова', 'Игнатова', 'Игнатьев', 'Игнатьева',\n",
       "       'Измайлова', 'Ильин', 'Ильина', 'Кабанова', 'Казакова', 'Казанцев',\n",
       "       'Калинина', 'Капустин', 'Карасев', 'Карасева', 'Карташова',\n",
       "       'Касьянова', 'Киреева', 'Кириллов', 'Киселёв', 'Климова',\n",
       "       'Ковалева', 'Козлов', 'Козлова', 'Козырева', 'Колесова', 'Колобов',\n",
       "       'Кольцова', 'Кондратов', 'Коновалова', 'Кононов', 'Константинова',\n",
       "       'Корнеева', 'Корнилов', 'Корнилова', 'Корольков', 'Королькова',\n",
       "       'Короткова', 'Коршунов', 'Костин', 'Костина', 'Кочергина',\n",
       "       'Кочетков', 'Кочетов', 'Кошелева', 'Кравцов', 'Красильников',\n",
       "       'Круглов', 'Крылова', 'Крюков', 'Крюкова', 'Крючков', 'Кузнецов',\n",
       "       'Кукушкин', 'Кулагина', 'Кулешова', 'Куприянов', 'Курочкин',\n",
       "       'Лазарева', 'Лапина', 'Лаптева', 'Ларин', 'Ларина', 'Ларионова',\n",
       "       'Латышева', 'Лебедев', 'Левин', 'Леонтьев', 'Литвинов', 'Лобанова',\n",
       "       'Логинов', 'Лосева', 'Лукин', 'Любимов', 'Макаров', 'Макарова',\n",
       "       'Макеев', 'Малахов', 'Малинин', 'Малинина', 'Малышев', 'Мальцев',\n",
       "       'Мамонтова', 'Марков', 'Масленникова', 'Матвеев', 'Медведев',\n",
       "       'Мельникова', 'Меркулова', 'Минаев', 'Минаева', 'Мишин',\n",
       "       'Молчанова', 'Моргунов', 'Морозов', 'Муравьева', 'Муравьёв',\n",
       "       'Мясникова', 'Наумов', 'Некрасов', 'Нестеров', 'Нестерова',\n",
       "       'Нечаева', 'Никонов', 'Никулин', 'Новикова', 'Носкова',\n",
       "       'Овчинников', 'Одинцов', 'Одинцова', 'Озерова', 'Орлов',\n",
       "       'Павловский', 'Панов', 'Пантелеева', 'Панфилов', 'Панфилова',\n",
       "       'Парфенов', 'Петухова', 'Пирогова', 'Платонова', 'Покровский',\n",
       "       'Поликарпова', 'Поляков', 'Пономарев', 'Пономарева', 'Пономарёв',\n",
       "       'Попов', 'Прокофьева', 'Пугачева', 'Ракова', 'Родина', 'Родионов',\n",
       "       'Родионова', 'Розанова', 'Рудаков', 'Румянцева', 'Русанова',\n",
       "       'Рыбакова', 'Рябов', 'Савельева', 'Сазонов', 'Сазонова',\n",
       "       'Сальников', 'Сафонова', 'Сахарова', 'Свиридов', 'Севастьянова',\n",
       "       'Седова', 'Селезнев', 'Селезнева', 'Селиванова', 'Семенова',\n",
       "       'Семин', 'Семина', 'Семёнов', 'Сергеева', 'Серебрякова', 'Серов',\n",
       "       'Силин', 'Симонова', 'Синицын', 'Ситникова', 'Соколов', 'Соловьев',\n",
       "       'Соловьёв', 'Сомова', 'Сорокин', 'Софронов', 'Спиридонова',\n",
       "       'Субботина', 'Суслов', 'Суслова', 'Сухарев', 'Сухарева', 'Сухова',\n",
       "       'Сысоев', 'Тарасов', 'Тарасова', 'Терехова', 'Тетерина',\n",
       "       'Тимофеев', 'Тимофеева', 'Тихомирова', 'Тихонов', 'Толкачев',\n",
       "       'Третьякова', 'Троицкий', 'Трофимов', 'Трофимова', 'Трошин',\n",
       "       'Уваров', 'Устинов', 'Устинова', 'Фадеева', 'Федосеев', 'Фетисова',\n",
       "       'Филатов', 'Фокин', 'Фокина', 'Фомин', 'Фролов', 'Фёдоров',\n",
       "       'Худяков', 'Чернов', 'Черный', 'Чернышев', 'Черняев', 'Чеснокова',\n",
       "       'Чижова', 'Чистякова', 'Чумаков', 'Шарапов', 'Шарапова', 'Шарова',\n",
       "       'Швецов', 'Шевцов', 'Шевцова', 'Щербакова', 'Яшина'], dtype=object)"
      ]
     },
     "execution_count": 263,
     "metadata": {},
     "output_type": "execute_result"
    }
   ],
   "source": [
    "# Поиск неявных дубликатов в 'last_name'\n",
    "df_users['last_name'].sort_values().unique()"
   ]
  },
  {
   "cell_type": "code",
   "execution_count": 264,
   "metadata": {
    "scrolled": true
   },
   "outputs": [
    {
     "data": {
      "text/plain": [
       "array(['smart', 'ultra'], dtype=object)"
      ]
     },
     "execution_count": 264,
     "metadata": {},
     "output_type": "execute_result"
    }
   ],
   "source": [
    "# Поиск неявных дубликатов в 'tariff'\n",
    "df_users['tariff'].sort_values().unique()"
   ]
  },
  {
   "cell_type": "markdown",
   "metadata": {},
   "source": [
    "<div class=\"alert alert-block alert-warning\"><span style=\"color:green\"><font size=\"3\" face=\"Arial\"><b>Промежуточные выводы 1.1.6:<b/></span>\n",
    "    \n",
    "<span style=\"color:steelblue\"><font size=\"3\" face=\"Courier\"><b>Неявные дубликаты в 'last_name' и 'tariff' не обнаружены.</b></span></div>"
   ]
  },
  {
   "cell_type": "markdown",
   "metadata": {},
   "source": [
    "#### Проверка датафрейма df_calls"
   ]
  },
  {
   "cell_type": "code",
   "execution_count": 265,
   "metadata": {},
   "outputs": [
    {
     "data": {
      "text/html": [
       "<div>\n",
       "<style scoped>\n",
       "    .dataframe tbody tr th:only-of-type {\n",
       "        vertical-align: middle;\n",
       "    }\n",
       "\n",
       "    .dataframe tbody tr th {\n",
       "        vertical-align: top;\n",
       "    }\n",
       "\n",
       "    .dataframe thead th {\n",
       "        text-align: right;\n",
       "    }\n",
       "</style>\n",
       "<table border=\"1\" class=\"dataframe\">\n",
       "  <thead>\n",
       "    <tr style=\"text-align: right;\">\n",
       "      <th></th>\n",
       "      <th>id</th>\n",
       "      <th>call_date</th>\n",
       "      <th>duration</th>\n",
       "      <th>user_id</th>\n",
       "    </tr>\n",
       "  </thead>\n",
       "  <tbody>\n",
       "    <tr>\n",
       "      <th>0</th>\n",
       "      <td>1000_0</td>\n",
       "      <td>2018-07-25</td>\n",
       "      <td>0.00</td>\n",
       "      <td>1000</td>\n",
       "    </tr>\n",
       "    <tr>\n",
       "      <th>1</th>\n",
       "      <td>1000_1</td>\n",
       "      <td>2018-08-17</td>\n",
       "      <td>0.00</td>\n",
       "      <td>1000</td>\n",
       "    </tr>\n",
       "    <tr>\n",
       "      <th>2</th>\n",
       "      <td>1000_2</td>\n",
       "      <td>2018-06-11</td>\n",
       "      <td>2.85</td>\n",
       "      <td>1000</td>\n",
       "    </tr>\n",
       "    <tr>\n",
       "      <th>3</th>\n",
       "      <td>1000_3</td>\n",
       "      <td>2018-09-21</td>\n",
       "      <td>13.80</td>\n",
       "      <td>1000</td>\n",
       "    </tr>\n",
       "    <tr>\n",
       "      <th>4</th>\n",
       "      <td>1000_4</td>\n",
       "      <td>2018-12-15</td>\n",
       "      <td>5.18</td>\n",
       "      <td>1000</td>\n",
       "    </tr>\n",
       "    <tr>\n",
       "      <th>...</th>\n",
       "      <td>...</td>\n",
       "      <td>...</td>\n",
       "      <td>...</td>\n",
       "      <td>...</td>\n",
       "    </tr>\n",
       "    <tr>\n",
       "      <th>202602</th>\n",
       "      <td>1499_215</td>\n",
       "      <td>2018-12-26</td>\n",
       "      <td>0.76</td>\n",
       "      <td>1499</td>\n",
       "    </tr>\n",
       "    <tr>\n",
       "      <th>202603</th>\n",
       "      <td>1499_216</td>\n",
       "      <td>2018-10-18</td>\n",
       "      <td>18.83</td>\n",
       "      <td>1499</td>\n",
       "    </tr>\n",
       "    <tr>\n",
       "      <th>202604</th>\n",
       "      <td>1499_217</td>\n",
       "      <td>2018-11-10</td>\n",
       "      <td>10.81</td>\n",
       "      <td>1499</td>\n",
       "    </tr>\n",
       "    <tr>\n",
       "      <th>202605</th>\n",
       "      <td>1499_218</td>\n",
       "      <td>2018-10-06</td>\n",
       "      <td>4.27</td>\n",
       "      <td>1499</td>\n",
       "    </tr>\n",
       "    <tr>\n",
       "      <th>202606</th>\n",
       "      <td>1499_219</td>\n",
       "      <td>2018-12-14</td>\n",
       "      <td>19.62</td>\n",
       "      <td>1499</td>\n",
       "    </tr>\n",
       "  </tbody>\n",
       "</table>\n",
       "<p>202607 rows × 4 columns</p>\n",
       "</div>"
      ],
      "text/plain": [
       "              id   call_date  duration  user_id\n",
       "0         1000_0  2018-07-25      0.00     1000\n",
       "1         1000_1  2018-08-17      0.00     1000\n",
       "2         1000_2  2018-06-11      2.85     1000\n",
       "3         1000_3  2018-09-21     13.80     1000\n",
       "4         1000_4  2018-12-15      5.18     1000\n",
       "...          ...         ...       ...      ...\n",
       "202602  1499_215  2018-12-26      0.76     1499\n",
       "202603  1499_216  2018-10-18     18.83     1499\n",
       "202604  1499_217  2018-11-10     10.81     1499\n",
       "202605  1499_218  2018-10-06      4.27     1499\n",
       "202606  1499_219  2018-12-14     19.62     1499\n",
       "\n",
       "[202607 rows x 4 columns]"
      ]
     },
     "execution_count": 265,
     "metadata": {},
     "output_type": "execute_result"
    }
   ],
   "source": [
    "# Вывод на экран датафрейма df_calls\n",
    "df_calls"
   ]
  },
  {
   "cell_type": "markdown",
   "metadata": {},
   "source": [
    "<div class=\"alert alert-block alert-warning\"><span style=\"color:green\"><font size=\"3\" face=\"Arial\"><b>Промежуточные выводы 1.2.1:<b/></span>\n",
    "    \n",
    "<span style=\"color:steelblue\"><font size=\"3\" face=\"Courier\"><b>1. Датафрейм df_calls содержит 202607 строк и 4 колонки.\\\n",
    "    2. Минуты необходимо округлить в большую сторону.</b></span></div>"
   ]
  },
  {
   "cell_type": "code",
   "execution_count": 266,
   "metadata": {},
   "outputs": [
    {
     "data": {
      "text/plain": [
       "Index(['id', 'call_date', 'duration', 'user_id'], dtype='object')"
      ]
     },
     "execution_count": 266,
     "metadata": {},
     "output_type": "execute_result"
    }
   ],
   "source": [
    "# Вывод названий колонок в df_calls\n",
    "df_calls.columns"
   ]
  },
  {
   "cell_type": "markdown",
   "metadata": {},
   "source": [
    "<div class=\"alert alert-block alert-warning\"><span style=\"color:green\"><font size=\"3\" face=\"Arial\"><b>Промежуточные выводы 1.2.2:<b/></span>\n",
    "    \n",
    "<span style=\"color:steelblue\"><font size=\"3\" face=\"Courier\"><b>Названия колонок написаны с соблюдением змеиного стиля.</b></span></div>"
   ]
  },
  {
   "cell_type": "code",
   "execution_count": 267,
   "metadata": {},
   "outputs": [
    {
     "name": "stdout",
     "output_type": "stream",
     "text": [
      "<class 'pandas.core.frame.DataFrame'>\n",
      "RangeIndex: 202607 entries, 0 to 202606\n",
      "Data columns (total 4 columns):\n",
      " #   Column     Non-Null Count   Dtype  \n",
      "---  ------     --------------   -----  \n",
      " 0   id         202607 non-null  object \n",
      " 1   call_date  202607 non-null  object \n",
      " 2   duration   202607 non-null  float64\n",
      " 3   user_id    202607 non-null  int64  \n",
      "dtypes: float64(1), int64(1), object(2)\n",
      "memory usage: 6.2+ MB\n"
     ]
    }
   ],
   "source": [
    "# Вывод общей информации по df_calls\n",
    "df_calls.info()"
   ]
  },
  {
   "cell_type": "markdown",
   "metadata": {},
   "source": [
    "<div class=\"alert alert-block alert-warning\"><span style=\"color:green\"><font size=\"3\" face=\"Arial\"><b>Промежуточные выводы 1.2.3:<b/></span>\n",
    "    \n",
    "<span style=\"color:steelblue\"><font size=\"3\" face=\"Courier\"><b>1.1 Несоответствие типа данных в колонке 'call_date'.\\\n",
    "    Текущий тип 'object' необходимо заменить на 'datetime64'.\\\n",
    "    1.2 Пропуски в df_calls отсутствуют.</b></span></div>"
   ]
  },
  {
   "cell_type": "code",
   "execution_count": 268,
   "metadata": {},
   "outputs": [
    {
     "data": {
      "text/html": [
       "<div>\n",
       "<style scoped>\n",
       "    .dataframe tbody tr th:only-of-type {\n",
       "        vertical-align: middle;\n",
       "    }\n",
       "\n",
       "    .dataframe tbody tr th {\n",
       "        vertical-align: top;\n",
       "    }\n",
       "\n",
       "    .dataframe thead th {\n",
       "        text-align: right;\n",
       "    }\n",
       "</style>\n",
       "<table border=\"1\" class=\"dataframe\">\n",
       "  <thead>\n",
       "    <tr style=\"text-align: right;\">\n",
       "      <th></th>\n",
       "      <th>duration</th>\n",
       "      <th>user_id</th>\n",
       "    </tr>\n",
       "  </thead>\n",
       "  <tbody>\n",
       "    <tr>\n",
       "      <th>count</th>\n",
       "      <td>202607.000000</td>\n",
       "      <td>202607.000000</td>\n",
       "    </tr>\n",
       "    <tr>\n",
       "      <th>mean</th>\n",
       "      <td>6.755887</td>\n",
       "      <td>1253.940619</td>\n",
       "    </tr>\n",
       "    <tr>\n",
       "      <th>std</th>\n",
       "      <td>5.843365</td>\n",
       "      <td>144.722751</td>\n",
       "    </tr>\n",
       "    <tr>\n",
       "      <th>min</th>\n",
       "      <td>0.000000</td>\n",
       "      <td>1000.000000</td>\n",
       "    </tr>\n",
       "    <tr>\n",
       "      <th>25%</th>\n",
       "      <td>1.300000</td>\n",
       "      <td>1126.000000</td>\n",
       "    </tr>\n",
       "    <tr>\n",
       "      <th>50%</th>\n",
       "      <td>6.000000</td>\n",
       "      <td>1260.000000</td>\n",
       "    </tr>\n",
       "    <tr>\n",
       "      <th>75%</th>\n",
       "      <td>10.700000</td>\n",
       "      <td>1379.000000</td>\n",
       "    </tr>\n",
       "    <tr>\n",
       "      <th>max</th>\n",
       "      <td>38.000000</td>\n",
       "      <td>1499.000000</td>\n",
       "    </tr>\n",
       "  </tbody>\n",
       "</table>\n",
       "</div>"
      ],
      "text/plain": [
       "            duration        user_id\n",
       "count  202607.000000  202607.000000\n",
       "mean        6.755887    1253.940619\n",
       "std         5.843365     144.722751\n",
       "min         0.000000    1000.000000\n",
       "25%         1.300000    1126.000000\n",
       "50%         6.000000    1260.000000\n",
       "75%        10.700000    1379.000000\n",
       "max        38.000000    1499.000000"
      ]
     },
     "execution_count": 268,
     "metadata": {},
     "output_type": "execute_result"
    }
   ],
   "source": [
    "# Вывод списка характерных значений в колонках df_calls\n",
    "df_calls.describe()"
   ]
  },
  {
   "cell_type": "code",
   "execution_count": 269,
   "metadata": {},
   "outputs": [
    {
     "data": {
      "text/plain": [
       "0"
      ]
     },
     "execution_count": 269,
     "metadata": {},
     "output_type": "execute_result"
    }
   ],
   "source": [
    "# Поиск явных дубликатов в df_calls\n",
    "df_calls.duplicated().sum()"
   ]
  },
  {
   "cell_type": "markdown",
   "metadata": {},
   "source": [
    "<div class=\"alert alert-block alert-warning\"><span style=\"color:green\"><font size=\"3\" face=\"Arial\"><b>Промежуточные выводы 1.2.4:<b/></span>\n",
    "    \n",
    "<span style=\"color:steelblue\"><font size=\"3\" face=\"Courier\"><b>Явные дубликаты не обнаружены.</b></span></div>"
   ]
  },
  {
   "cell_type": "markdown",
   "metadata": {},
   "source": [
    "#### Проверка датафрейма df_messages"
   ]
  },
  {
   "cell_type": "code",
   "execution_count": 270,
   "metadata": {},
   "outputs": [
    {
     "data": {
      "text/html": [
       "<div>\n",
       "<style scoped>\n",
       "    .dataframe tbody tr th:only-of-type {\n",
       "        vertical-align: middle;\n",
       "    }\n",
       "\n",
       "    .dataframe tbody tr th {\n",
       "        vertical-align: top;\n",
       "    }\n",
       "\n",
       "    .dataframe thead th {\n",
       "        text-align: right;\n",
       "    }\n",
       "</style>\n",
       "<table border=\"1\" class=\"dataframe\">\n",
       "  <thead>\n",
       "    <tr style=\"text-align: right;\">\n",
       "      <th></th>\n",
       "      <th>id</th>\n",
       "      <th>message_date</th>\n",
       "      <th>user_id</th>\n",
       "    </tr>\n",
       "  </thead>\n",
       "  <tbody>\n",
       "    <tr>\n",
       "      <th>0</th>\n",
       "      <td>1000_0</td>\n",
       "      <td>2018-06-27</td>\n",
       "      <td>1000</td>\n",
       "    </tr>\n",
       "    <tr>\n",
       "      <th>1</th>\n",
       "      <td>1000_1</td>\n",
       "      <td>2018-10-08</td>\n",
       "      <td>1000</td>\n",
       "    </tr>\n",
       "    <tr>\n",
       "      <th>2</th>\n",
       "      <td>1000_2</td>\n",
       "      <td>2018-08-04</td>\n",
       "      <td>1000</td>\n",
       "    </tr>\n",
       "    <tr>\n",
       "      <th>3</th>\n",
       "      <td>1000_3</td>\n",
       "      <td>2018-06-16</td>\n",
       "      <td>1000</td>\n",
       "    </tr>\n",
       "    <tr>\n",
       "      <th>4</th>\n",
       "      <td>1000_4</td>\n",
       "      <td>2018-12-05</td>\n",
       "      <td>1000</td>\n",
       "    </tr>\n",
       "    <tr>\n",
       "      <th>...</th>\n",
       "      <td>...</td>\n",
       "      <td>...</td>\n",
       "      <td>...</td>\n",
       "    </tr>\n",
       "    <tr>\n",
       "      <th>123031</th>\n",
       "      <td>1499_179</td>\n",
       "      <td>2018-12-12</td>\n",
       "      <td>1499</td>\n",
       "    </tr>\n",
       "    <tr>\n",
       "      <th>123032</th>\n",
       "      <td>1499_180</td>\n",
       "      <td>2018-09-28</td>\n",
       "      <td>1499</td>\n",
       "    </tr>\n",
       "    <tr>\n",
       "      <th>123033</th>\n",
       "      <td>1499_181</td>\n",
       "      <td>2018-09-27</td>\n",
       "      <td>1499</td>\n",
       "    </tr>\n",
       "    <tr>\n",
       "      <th>123034</th>\n",
       "      <td>1499_182</td>\n",
       "      <td>2018-11-15</td>\n",
       "      <td>1499</td>\n",
       "    </tr>\n",
       "    <tr>\n",
       "      <th>123035</th>\n",
       "      <td>1499_183</td>\n",
       "      <td>2018-11-16</td>\n",
       "      <td>1499</td>\n",
       "    </tr>\n",
       "  </tbody>\n",
       "</table>\n",
       "<p>123036 rows × 3 columns</p>\n",
       "</div>"
      ],
      "text/plain": [
       "              id message_date  user_id\n",
       "0         1000_0   2018-06-27     1000\n",
       "1         1000_1   2018-10-08     1000\n",
       "2         1000_2   2018-08-04     1000\n",
       "3         1000_3   2018-06-16     1000\n",
       "4         1000_4   2018-12-05     1000\n",
       "...          ...          ...      ...\n",
       "123031  1499_179   2018-12-12     1499\n",
       "123032  1499_180   2018-09-28     1499\n",
       "123033  1499_181   2018-09-27     1499\n",
       "123034  1499_182   2018-11-15     1499\n",
       "123035  1499_183   2018-11-16     1499\n",
       "\n",
       "[123036 rows x 3 columns]"
      ]
     },
     "execution_count": 270,
     "metadata": {},
     "output_type": "execute_result"
    }
   ],
   "source": [
    "# Вывод на экран датафрейма df_messages\n",
    "df_messages"
   ]
  },
  {
   "cell_type": "markdown",
   "metadata": {},
   "source": [
    "<div class=\"alert alert-block alert-warning\"><span style=\"color:green\"><font size=\"3\" face=\"Arial\"><b>Промежуточные выводы 1.3.1:<b/></span>\n",
    "    \n",
    "<span style=\"color:steelblue\"><font size=\"3\" face=\"Courier\"><b>Датафрейм df_messages содержит 123036 строк и 3 колонки.</b></span></div>"
   ]
  },
  {
   "cell_type": "code",
   "execution_count": 271,
   "metadata": {},
   "outputs": [
    {
     "data": {
      "text/plain": [
       "Index(['id', 'message_date', 'user_id'], dtype='object')"
      ]
     },
     "execution_count": 271,
     "metadata": {},
     "output_type": "execute_result"
    }
   ],
   "source": [
    "# Вывод названий колонок в df_messages\n",
    "df_messages.columns"
   ]
  },
  {
   "cell_type": "markdown",
   "metadata": {},
   "source": [
    "<div class=\"alert alert-block alert-warning\"><span style=\"color:green\"><font size=\"3\" face=\"Arial\"><b>Промежуточные выводы 1.3.2:<b/></span>\n",
    "    \n",
    "<span style=\"color:steelblue\"><font size=\"3\" face=\"Courier\"><b>Названия колонок написаны с соблюдением змеиного стиля.</b></span></div>"
   ]
  },
  {
   "cell_type": "code",
   "execution_count": 272,
   "metadata": {},
   "outputs": [
    {
     "name": "stdout",
     "output_type": "stream",
     "text": [
      "<class 'pandas.core.frame.DataFrame'>\n",
      "RangeIndex: 123036 entries, 0 to 123035\n",
      "Data columns (total 3 columns):\n",
      " #   Column        Non-Null Count   Dtype \n",
      "---  ------        --------------   ----- \n",
      " 0   id            123036 non-null  object\n",
      " 1   message_date  123036 non-null  object\n",
      " 2   user_id       123036 non-null  int64 \n",
      "dtypes: int64(1), object(2)\n",
      "memory usage: 2.8+ MB\n"
     ]
    }
   ],
   "source": [
    "# Вывод общей информации по датафрейму df_messages\n",
    "df_messages.info()"
   ]
  },
  {
   "cell_type": "markdown",
   "metadata": {},
   "source": [
    "<div class=\"alert alert-block alert-warning\"><span style=\"color:green\"><font size=\"3\" face=\"Arial\"><b>Промежуточные выводы 1.3.3:<b/></span>\n",
    "    \n",
    "<span style=\"color:steelblue\"><font size=\"3\" face=\"Courier\"><b>1.1 Несоответствие типа данных в колонке 'message_date'.\\\n",
    "    Текущий тип 'object' необходимо заменить на 'datetime64'.\\\n",
    "    1.2 Пропуски в df_messages отсутствуют.</b></span></div>"
   ]
  },
  {
   "cell_type": "code",
   "execution_count": 273,
   "metadata": {},
   "outputs": [
    {
     "data": {
      "text/html": [
       "<div>\n",
       "<style scoped>\n",
       "    .dataframe tbody tr th:only-of-type {\n",
       "        vertical-align: middle;\n",
       "    }\n",
       "\n",
       "    .dataframe tbody tr th {\n",
       "        vertical-align: top;\n",
       "    }\n",
       "\n",
       "    .dataframe thead th {\n",
       "        text-align: right;\n",
       "    }\n",
       "</style>\n",
       "<table border=\"1\" class=\"dataframe\">\n",
       "  <thead>\n",
       "    <tr style=\"text-align: right;\">\n",
       "      <th></th>\n",
       "      <th>user_id</th>\n",
       "    </tr>\n",
       "  </thead>\n",
       "  <tbody>\n",
       "    <tr>\n",
       "      <th>count</th>\n",
       "      <td>123036.000000</td>\n",
       "    </tr>\n",
       "    <tr>\n",
       "      <th>mean</th>\n",
       "      <td>1256.989410</td>\n",
       "    </tr>\n",
       "    <tr>\n",
       "      <th>std</th>\n",
       "      <td>143.523967</td>\n",
       "    </tr>\n",
       "    <tr>\n",
       "      <th>min</th>\n",
       "      <td>1000.000000</td>\n",
       "    </tr>\n",
       "    <tr>\n",
       "      <th>25%</th>\n",
       "      <td>1134.000000</td>\n",
       "    </tr>\n",
       "    <tr>\n",
       "      <th>50%</th>\n",
       "      <td>1271.000000</td>\n",
       "    </tr>\n",
       "    <tr>\n",
       "      <th>75%</th>\n",
       "      <td>1381.000000</td>\n",
       "    </tr>\n",
       "    <tr>\n",
       "      <th>max</th>\n",
       "      <td>1499.000000</td>\n",
       "    </tr>\n",
       "  </tbody>\n",
       "</table>\n",
       "</div>"
      ],
      "text/plain": [
       "             user_id\n",
       "count  123036.000000\n",
       "mean     1256.989410\n",
       "std       143.523967\n",
       "min      1000.000000\n",
       "25%      1134.000000\n",
       "50%      1271.000000\n",
       "75%      1381.000000\n",
       "max      1499.000000"
      ]
     },
     "execution_count": 273,
     "metadata": {},
     "output_type": "execute_result"
    }
   ],
   "source": [
    "# Вывод списка характерных значений в колонках df_messages\n",
    "df_messages.describe()"
   ]
  },
  {
   "cell_type": "code",
   "execution_count": 274,
   "metadata": {},
   "outputs": [
    {
     "data": {
      "text/plain": [
       "0"
      ]
     },
     "execution_count": 274,
     "metadata": {},
     "output_type": "execute_result"
    }
   ],
   "source": [
    "# Поиск явных дубликатов в df_messages\n",
    "df_messages.duplicated().sum()"
   ]
  },
  {
   "cell_type": "markdown",
   "metadata": {},
   "source": [
    "<div class=\"alert alert-block alert-warning\"><span style=\"color:green\"><font size=\"3\" face=\"Arial\"><b>Промежуточные выводы 1.3.4:<b/></span>\n",
    "    \n",
    "<span style=\"color:steelblue\"><font size=\"3\" face=\"Courier\"><b>Явные дубликаты не обнаружены.</b></span></div>"
   ]
  },
  {
   "cell_type": "markdown",
   "metadata": {},
   "source": [
    "#### Проверка датафрейма df_internet"
   ]
  },
  {
   "cell_type": "code",
   "execution_count": 275,
   "metadata": {},
   "outputs": [
    {
     "data": {
      "text/html": [
       "<div>\n",
       "<style scoped>\n",
       "    .dataframe tbody tr th:only-of-type {\n",
       "        vertical-align: middle;\n",
       "    }\n",
       "\n",
       "    .dataframe tbody tr th {\n",
       "        vertical-align: top;\n",
       "    }\n",
       "\n",
       "    .dataframe thead th {\n",
       "        text-align: right;\n",
       "    }\n",
       "</style>\n",
       "<table border=\"1\" class=\"dataframe\">\n",
       "  <thead>\n",
       "    <tr style=\"text-align: right;\">\n",
       "      <th></th>\n",
       "      <th>Unnamed: 0</th>\n",
       "      <th>id</th>\n",
       "      <th>mb_used</th>\n",
       "      <th>session_date</th>\n",
       "      <th>user_id</th>\n",
       "    </tr>\n",
       "  </thead>\n",
       "  <tbody>\n",
       "    <tr>\n",
       "      <th>0</th>\n",
       "      <td>0</td>\n",
       "      <td>1000_0</td>\n",
       "      <td>112.95</td>\n",
       "      <td>2018-11-25</td>\n",
       "      <td>1000</td>\n",
       "    </tr>\n",
       "    <tr>\n",
       "      <th>1</th>\n",
       "      <td>1</td>\n",
       "      <td>1000_1</td>\n",
       "      <td>1052.81</td>\n",
       "      <td>2018-09-07</td>\n",
       "      <td>1000</td>\n",
       "    </tr>\n",
       "    <tr>\n",
       "      <th>2</th>\n",
       "      <td>2</td>\n",
       "      <td>1000_2</td>\n",
       "      <td>1197.26</td>\n",
       "      <td>2018-06-25</td>\n",
       "      <td>1000</td>\n",
       "    </tr>\n",
       "    <tr>\n",
       "      <th>3</th>\n",
       "      <td>3</td>\n",
       "      <td>1000_3</td>\n",
       "      <td>550.27</td>\n",
       "      <td>2018-08-22</td>\n",
       "      <td>1000</td>\n",
       "    </tr>\n",
       "    <tr>\n",
       "      <th>4</th>\n",
       "      <td>4</td>\n",
       "      <td>1000_4</td>\n",
       "      <td>302.56</td>\n",
       "      <td>2018-09-24</td>\n",
       "      <td>1000</td>\n",
       "    </tr>\n",
       "    <tr>\n",
       "      <th>...</th>\n",
       "      <td>...</td>\n",
       "      <td>...</td>\n",
       "      <td>...</td>\n",
       "      <td>...</td>\n",
       "      <td>...</td>\n",
       "    </tr>\n",
       "    <tr>\n",
       "      <th>149391</th>\n",
       "      <td>149391</td>\n",
       "      <td>1499_152</td>\n",
       "      <td>318.90</td>\n",
       "      <td>2018-10-03</td>\n",
       "      <td>1499</td>\n",
       "    </tr>\n",
       "    <tr>\n",
       "      <th>149392</th>\n",
       "      <td>149392</td>\n",
       "      <td>1499_153</td>\n",
       "      <td>490.13</td>\n",
       "      <td>2018-12-14</td>\n",
       "      <td>1499</td>\n",
       "    </tr>\n",
       "    <tr>\n",
       "      <th>149393</th>\n",
       "      <td>149393</td>\n",
       "      <td>1499_154</td>\n",
       "      <td>0.00</td>\n",
       "      <td>2018-10-27</td>\n",
       "      <td>1499</td>\n",
       "    </tr>\n",
       "    <tr>\n",
       "      <th>149394</th>\n",
       "      <td>149394</td>\n",
       "      <td>1499_155</td>\n",
       "      <td>1246.32</td>\n",
       "      <td>2018-11-26</td>\n",
       "      <td>1499</td>\n",
       "    </tr>\n",
       "    <tr>\n",
       "      <th>149395</th>\n",
       "      <td>149395</td>\n",
       "      <td>1499_156</td>\n",
       "      <td>544.37</td>\n",
       "      <td>2018-10-26</td>\n",
       "      <td>1499</td>\n",
       "    </tr>\n",
       "  </tbody>\n",
       "</table>\n",
       "<p>149396 rows × 5 columns</p>\n",
       "</div>"
      ],
      "text/plain": [
       "        Unnamed: 0        id  mb_used session_date  user_id\n",
       "0                0    1000_0   112.95   2018-11-25     1000\n",
       "1                1    1000_1  1052.81   2018-09-07     1000\n",
       "2                2    1000_2  1197.26   2018-06-25     1000\n",
       "3                3    1000_3   550.27   2018-08-22     1000\n",
       "4                4    1000_4   302.56   2018-09-24     1000\n",
       "...            ...       ...      ...          ...      ...\n",
       "149391      149391  1499_152   318.90   2018-10-03     1499\n",
       "149392      149392  1499_153   490.13   2018-12-14     1499\n",
       "149393      149393  1499_154     0.00   2018-10-27     1499\n",
       "149394      149394  1499_155  1246.32   2018-11-26     1499\n",
       "149395      149395  1499_156   544.37   2018-10-26     1499\n",
       "\n",
       "[149396 rows x 5 columns]"
      ]
     },
     "execution_count": 275,
     "metadata": {},
     "output_type": "execute_result"
    }
   ],
   "source": [
    "# Вывод на экран датафрейма df_internet\n",
    "df_internet"
   ]
  },
  {
   "cell_type": "markdown",
   "metadata": {},
   "source": [
    "<div class=\"alert alert-block alert-warning\"><span style=\"color:green\"><font size=\"3\" face=\"Arial\"><b>Промежуточные выводы 1.4.1:<b/></span>\n",
    "    \n",
    "<span style=\"color:steelblue\"><font size=\"3\" face=\"Courier\"><b>Датафрейм df_internet содержит 149396 строк и 5 колонок.</b></span></div>"
   ]
  },
  {
   "cell_type": "code",
   "execution_count": 276,
   "metadata": {},
   "outputs": [
    {
     "data": {
      "text/plain": [
       "Index(['Unnamed: 0', 'id', 'mb_used', 'session_date', 'user_id'], dtype='object')"
      ]
     },
     "execution_count": 276,
     "metadata": {},
     "output_type": "execute_result"
    }
   ],
   "source": [
    "# Вывод названий колонок в df_internet\n",
    "df_internet.columns"
   ]
  },
  {
   "cell_type": "markdown",
   "metadata": {},
   "source": [
    "<div class=\"alert alert-block alert-warning\"><span style=\"color:green\"><font size=\"3\" face=\"Arial\"><b>Промежуточные выводы 1.4.2:<b/></span>\n",
    "    \n",
    "<span style=\"color:steelblue\"><font size=\"3\" face=\"Courier\"><b>Название колонки 'Unnamed: 0' написано с нарушением змеиного стиля.\\\n",
    "    Так как данная колонка дублирует индексы, то её полностью удаляю.</b></span></div>"
   ]
  },
  {
   "cell_type": "code",
   "execution_count": 277,
   "metadata": {},
   "outputs": [
    {
     "name": "stdout",
     "output_type": "stream",
     "text": [
      "<class 'pandas.core.frame.DataFrame'>\n",
      "RangeIndex: 149396 entries, 0 to 149395\n",
      "Data columns (total 5 columns):\n",
      " #   Column        Non-Null Count   Dtype  \n",
      "---  ------        --------------   -----  \n",
      " 0   Unnamed: 0    149396 non-null  int64  \n",
      " 1   id            149396 non-null  object \n",
      " 2   mb_used       149396 non-null  float64\n",
      " 3   session_date  149396 non-null  object \n",
      " 4   user_id       149396 non-null  int64  \n",
      "dtypes: float64(1), int64(2), object(2)\n",
      "memory usage: 5.7+ MB\n"
     ]
    }
   ],
   "source": [
    "# Вывод общей информации по датафрейму df_internet\n",
    "df_internet.info()"
   ]
  },
  {
   "cell_type": "markdown",
   "metadata": {},
   "source": [
    "<div class=\"alert alert-block alert-warning\"><span style=\"color:green\"><font size=\"3\" face=\"Arial\"><b>Промежуточные выводы 1.4.3:<b/></span>\n",
    "    \n",
    "<span style=\"color:steelblue\"><font size=\"3\" face=\"Courier\"><b>1.1 Несоответствие типа данных в колонке 'session_date'.\\\n",
    "    Текущий тип 'object' необходимо заменить на 'datetime64'.\\\n",
    "    1.2 Пропуски в df_internet отсутствуют.</b></span></div>"
   ]
  },
  {
   "cell_type": "code",
   "execution_count": 278,
   "metadata": {},
   "outputs": [
    {
     "data": {
      "text/html": [
       "<div>\n",
       "<style scoped>\n",
       "    .dataframe tbody tr th:only-of-type {\n",
       "        vertical-align: middle;\n",
       "    }\n",
       "\n",
       "    .dataframe tbody tr th {\n",
       "        vertical-align: top;\n",
       "    }\n",
       "\n",
       "    .dataframe thead th {\n",
       "        text-align: right;\n",
       "    }\n",
       "</style>\n",
       "<table border=\"1\" class=\"dataframe\">\n",
       "  <thead>\n",
       "    <tr style=\"text-align: right;\">\n",
       "      <th></th>\n",
       "      <th>Unnamed: 0</th>\n",
       "      <th>mb_used</th>\n",
       "      <th>user_id</th>\n",
       "    </tr>\n",
       "  </thead>\n",
       "  <tbody>\n",
       "    <tr>\n",
       "      <th>count</th>\n",
       "      <td>149396.000000</td>\n",
       "      <td>149396.000000</td>\n",
       "      <td>149396.000000</td>\n",
       "    </tr>\n",
       "    <tr>\n",
       "      <th>mean</th>\n",
       "      <td>74697.500000</td>\n",
       "      <td>370.192426</td>\n",
       "      <td>1252.099842</td>\n",
       "    </tr>\n",
       "    <tr>\n",
       "      <th>std</th>\n",
       "      <td>43127.054745</td>\n",
       "      <td>278.300951</td>\n",
       "      <td>144.050823</td>\n",
       "    </tr>\n",
       "    <tr>\n",
       "      <th>min</th>\n",
       "      <td>0.000000</td>\n",
       "      <td>0.000000</td>\n",
       "      <td>1000.000000</td>\n",
       "    </tr>\n",
       "    <tr>\n",
       "      <th>25%</th>\n",
       "      <td>37348.750000</td>\n",
       "      <td>138.187500</td>\n",
       "      <td>1130.000000</td>\n",
       "    </tr>\n",
       "    <tr>\n",
       "      <th>50%</th>\n",
       "      <td>74697.500000</td>\n",
       "      <td>348.015000</td>\n",
       "      <td>1251.000000</td>\n",
       "    </tr>\n",
       "    <tr>\n",
       "      <th>75%</th>\n",
       "      <td>112046.250000</td>\n",
       "      <td>559.552500</td>\n",
       "      <td>1380.000000</td>\n",
       "    </tr>\n",
       "    <tr>\n",
       "      <th>max</th>\n",
       "      <td>149395.000000</td>\n",
       "      <td>1724.830000</td>\n",
       "      <td>1499.000000</td>\n",
       "    </tr>\n",
       "  </tbody>\n",
       "</table>\n",
       "</div>"
      ],
      "text/plain": [
       "          Unnamed: 0        mb_used        user_id\n",
       "count  149396.000000  149396.000000  149396.000000\n",
       "mean    74697.500000     370.192426    1252.099842\n",
       "std     43127.054745     278.300951     144.050823\n",
       "min         0.000000       0.000000    1000.000000\n",
       "25%     37348.750000     138.187500    1130.000000\n",
       "50%     74697.500000     348.015000    1251.000000\n",
       "75%    112046.250000     559.552500    1380.000000\n",
       "max    149395.000000    1724.830000    1499.000000"
      ]
     },
     "execution_count": 278,
     "metadata": {},
     "output_type": "execute_result"
    }
   ],
   "source": [
    "# Вывод списка характерных значений в колонках df_internet\n",
    "df_internet.describe()"
   ]
  },
  {
   "cell_type": "code",
   "execution_count": 279,
   "metadata": {},
   "outputs": [
    {
     "data": {
      "text/plain": [
       "0"
      ]
     },
     "execution_count": 279,
     "metadata": {},
     "output_type": "execute_result"
    }
   ],
   "source": [
    "# Поиск явных дубликатов в df_internet\n",
    "df_internet.duplicated().sum()"
   ]
  },
  {
   "cell_type": "markdown",
   "metadata": {},
   "source": [
    "<div class=\"alert alert-block alert-warning\"><span style=\"color:green\"><font size=\"3\" face=\"Arial\"><b>Промежуточные выводы 1.4.4:<b/></span>\n",
    "    \n",
    "<span style=\"color:steelblue\"><font size=\"3\" face=\"Courier\"><b>Явные дубликаты не обнаружены.</b></span></div>"
   ]
  },
  {
   "cell_type": "markdown",
   "metadata": {},
   "source": [
    "#### Проверка датафрейма df_tariffs"
   ]
  },
  {
   "cell_type": "code",
   "execution_count": 280,
   "metadata": {},
   "outputs": [
    {
     "data": {
      "text/html": [
       "<div>\n",
       "<style scoped>\n",
       "    .dataframe tbody tr th:only-of-type {\n",
       "        vertical-align: middle;\n",
       "    }\n",
       "\n",
       "    .dataframe tbody tr th {\n",
       "        vertical-align: top;\n",
       "    }\n",
       "\n",
       "    .dataframe thead th {\n",
       "        text-align: right;\n",
       "    }\n",
       "</style>\n",
       "<table border=\"1\" class=\"dataframe\">\n",
       "  <thead>\n",
       "    <tr style=\"text-align: right;\">\n",
       "      <th></th>\n",
       "      <th>messages_included</th>\n",
       "      <th>mb_per_month_included</th>\n",
       "      <th>minutes_included</th>\n",
       "      <th>rub_monthly_fee</th>\n",
       "      <th>rub_per_gb</th>\n",
       "      <th>rub_per_message</th>\n",
       "      <th>rub_per_minute</th>\n",
       "      <th>tariff_name</th>\n",
       "    </tr>\n",
       "  </thead>\n",
       "  <tbody>\n",
       "    <tr>\n",
       "      <th>0</th>\n",
       "      <td>50</td>\n",
       "      <td>15360</td>\n",
       "      <td>500</td>\n",
       "      <td>550</td>\n",
       "      <td>200</td>\n",
       "      <td>3</td>\n",
       "      <td>3</td>\n",
       "      <td>smart</td>\n",
       "    </tr>\n",
       "    <tr>\n",
       "      <th>1</th>\n",
       "      <td>1000</td>\n",
       "      <td>30720</td>\n",
       "      <td>3000</td>\n",
       "      <td>1950</td>\n",
       "      <td>150</td>\n",
       "      <td>1</td>\n",
       "      <td>1</td>\n",
       "      <td>ultra</td>\n",
       "    </tr>\n",
       "  </tbody>\n",
       "</table>\n",
       "</div>"
      ],
      "text/plain": [
       "   messages_included  mb_per_month_included  minutes_included  \\\n",
       "0                 50                  15360               500   \n",
       "1               1000                  30720              3000   \n",
       "\n",
       "   rub_monthly_fee  rub_per_gb  rub_per_message  rub_per_minute tariff_name  \n",
       "0              550         200                3               3       smart  \n",
       "1             1950         150                1               1       ultra  "
      ]
     },
     "execution_count": 280,
     "metadata": {},
     "output_type": "execute_result"
    }
   ],
   "source": [
    "# Вывод на экран датафрейма df_tariffs\n",
    "df_tariffs"
   ]
  },
  {
   "cell_type": "markdown",
   "metadata": {},
   "source": [
    "<div class=\"alert alert-block alert-warning\"><span style=\"color:green\"><font size=\"3\" face=\"Arial\"><b>Промежуточные выводы 1.5.1:<b/></span>\n",
    "    \n",
    "<span style=\"color:steelblue\"><font size=\"3\" face=\"Courier\"><b>Датафрейм df_tariffs содержит 2 строки и 8 колонок</b></span></div>"
   ]
  },
  {
   "cell_type": "code",
   "execution_count": 281,
   "metadata": {},
   "outputs": [
    {
     "data": {
      "text/plain": [
       "Index(['messages_included', 'mb_per_month_included', 'minutes_included',\n",
       "       'rub_monthly_fee', 'rub_per_gb', 'rub_per_message', 'rub_per_minute',\n",
       "       'tariff_name'],\n",
       "      dtype='object')"
      ]
     },
     "execution_count": 281,
     "metadata": {},
     "output_type": "execute_result"
    }
   ],
   "source": [
    "# Вывод названий колонок в df_tariffs\n",
    "df_tariffs.columns"
   ]
  },
  {
   "cell_type": "markdown",
   "metadata": {},
   "source": [
    "<div class=\"alert alert-block alert-warning\"><span style=\"color:green\"><font size=\"3\" face=\"Arial\"><b>Промежуточные выводы 1.5.2:<b/></span>\n",
    "    \n",
    "<span style=\"color:steelblue\"><font size=\"3\" face=\"Courier\"><b>Названия колонок написаны с соблюдением змеиного стиля.</b></span></div>"
   ]
  },
  {
   "cell_type": "code",
   "execution_count": 282,
   "metadata": {},
   "outputs": [
    {
     "name": "stdout",
     "output_type": "stream",
     "text": [
      "<class 'pandas.core.frame.DataFrame'>\n",
      "RangeIndex: 2 entries, 0 to 1\n",
      "Data columns (total 8 columns):\n",
      " #   Column                 Non-Null Count  Dtype \n",
      "---  ------                 --------------  ----- \n",
      " 0   messages_included      2 non-null      int64 \n",
      " 1   mb_per_month_included  2 non-null      int64 \n",
      " 2   minutes_included       2 non-null      int64 \n",
      " 3   rub_monthly_fee        2 non-null      int64 \n",
      " 4   rub_per_gb             2 non-null      int64 \n",
      " 5   rub_per_message        2 non-null      int64 \n",
      " 6   rub_per_minute         2 non-null      int64 \n",
      " 7   tariff_name            2 non-null      object\n",
      "dtypes: int64(7), object(1)\n",
      "memory usage: 256.0+ bytes\n"
     ]
    }
   ],
   "source": [
    "# Вывод общей информации по датафрейму df_tariffs\n",
    "df_tariffs.info()"
   ]
  },
  {
   "cell_type": "markdown",
   "metadata": {},
   "source": [
    "<div class=\"alert alert-block alert-warning\"><span style=\"color:green\"><font size=\"3\" face=\"Arial\"><b>Промежуточные выводы 1.5.3:<b/></span>\n",
    "    \n",
    "<span style=\"color:steelblue\"><font size=\"3\" face=\"Courier\"><b>Отклонения в типах данных, а также пропуски не найдены.</b></span></div>"
   ]
  },
  {
   "cell_type": "markdown",
   "metadata": {},
   "source": [
    "### Вывод"
   ]
  },
  {
   "cell_type": "markdown",
   "metadata": {},
   "source": [
    "<div class=\"alert alert-block alert-warning\">\n",
    "    \n",
    "<span style=\"color:steelblue\"><font size=\"3\" face=\"Courier\"><b>1. Обнаружены пропуски, которые оставляю без изменений.\\\n",
    "    2. Выявлено несоответствие типов данных содержимому в некоторых колонках.\\\n",
    "    Необходимо изменить тип данных после заполнения пропусков.\\\n",
    "    3. Явные дубликаты не обнаружены.\\\n",
    "    4. В датафрейме df_internet необходимо удалить колонку 'Unnamed: 0'.</b></span></div>"
   ]
  },
  {
   "cell_type": "markdown",
   "metadata": {},
   "source": [
    "## Предобработка данных"
   ]
  },
  {
   "cell_type": "markdown",
   "metadata": {},
   "source": [
    "### Замена типа данных в колонках"
   ]
  },
  {
   "cell_type": "markdown",
   "metadata": {},
   "source": [
    "#### Замена типа данных в  датафрейме df_users"
   ]
  },
  {
   "cell_type": "code",
   "execution_count": 283,
   "metadata": {},
   "outputs": [],
   "source": [
    "# Список столбцов для замены типа данных в df_users\n",
    "df_users_to_dt = ['churn_date', 'reg_date']"
   ]
  },
  {
   "cell_type": "code",
   "execution_count": 284,
   "metadata": {},
   "outputs": [],
   "source": [
    "# Цикл для замены типа данных в df_users\n",
    "# по списку df_users_to_dt\n",
    "for column in df_users_to_dt:\n",
    "    df_users[column] = df_users[column].astype('datetime64')"
   ]
  },
  {
   "cell_type": "code",
   "execution_count": 285,
   "metadata": {
    "scrolled": true
   },
   "outputs": [
    {
     "data": {
      "text/plain": [
       "user_id                int64\n",
       "age                    int64\n",
       "churn_date    datetime64[ns]\n",
       "city                  object\n",
       "first_name            object\n",
       "last_name             object\n",
       "reg_date      datetime64[ns]\n",
       "tariff                object\n",
       "dtype: object"
      ]
     },
     "execution_count": 285,
     "metadata": {},
     "output_type": "execute_result"
    }
   ],
   "source": [
    "# Вывод типа данных в df_users\n",
    "df_users.dtypes"
   ]
  },
  {
   "cell_type": "markdown",
   "metadata": {},
   "source": [
    "#### Замена типа данных в  датафрейме df_calls"
   ]
  },
  {
   "cell_type": "code",
   "execution_count": 286,
   "metadata": {},
   "outputs": [],
   "source": [
    "# Замена типа данных в колонке 'call_date'\n",
    "# датафрейма 'df_calls'\n",
    "df_calls['call_date'] = df_calls['call_date'].astype('datetime64')"
   ]
  },
  {
   "cell_type": "code",
   "execution_count": 287,
   "metadata": {},
   "outputs": [
    {
     "data": {
      "text/plain": [
       "id                   object\n",
       "call_date    datetime64[ns]\n",
       "duration            float64\n",
       "user_id               int64\n",
       "dtype: object"
      ]
     },
     "execution_count": 287,
     "metadata": {},
     "output_type": "execute_result"
    }
   ],
   "source": [
    "# Вывод типа данных в df_calls\n",
    "df_calls.dtypes"
   ]
  },
  {
   "cell_type": "markdown",
   "metadata": {},
   "source": [
    "#### Замена типа данных в  датафрейме df_messages"
   ]
  },
  {
   "cell_type": "code",
   "execution_count": 288,
   "metadata": {},
   "outputs": [],
   "source": [
    "# Замена типа данных в колонке 'message_date'\n",
    "# датафрейма 'df_messages'\n",
    "df_messages['message_date'] = df_messages['message_date'].astype('datetime64')"
   ]
  },
  {
   "cell_type": "code",
   "execution_count": 289,
   "metadata": {},
   "outputs": [
    {
     "data": {
      "text/plain": [
       "id                      object\n",
       "message_date    datetime64[ns]\n",
       "user_id                  int64\n",
       "dtype: object"
      ]
     },
     "execution_count": 289,
     "metadata": {},
     "output_type": "execute_result"
    }
   ],
   "source": [
    "# Вывод типа данных в df_messages\n",
    "df_messages.dtypes"
   ]
  },
  {
   "cell_type": "markdown",
   "metadata": {},
   "source": [
    "#### Замена типа данных в  датафрейме df_internet"
   ]
  },
  {
   "cell_type": "code",
   "execution_count": 290,
   "metadata": {},
   "outputs": [],
   "source": [
    "# Замена типа данных в колонке 'session_date'\n",
    "# датафрейма 'df_internet'\n",
    "df_internet['session_date'] = df_internet['session_date'].astype('datetime64')"
   ]
  },
  {
   "cell_type": "code",
   "execution_count": 291,
   "metadata": {},
   "outputs": [
    {
     "data": {
      "text/plain": [
       "Unnamed: 0               int64\n",
       "id                      object\n",
       "mb_used                float64\n",
       "session_date    datetime64[ns]\n",
       "user_id                  int64\n",
       "dtype: object"
      ]
     },
     "execution_count": 291,
     "metadata": {},
     "output_type": "execute_result"
    }
   ],
   "source": [
    "# Вывод типа данных в df_internet\n",
    "df_internet.dtypes"
   ]
  },
  {
   "cell_type": "markdown",
   "metadata": {},
   "source": [
    "### Декомпозиция"
   ]
  },
  {
   "cell_type": "markdown",
   "metadata": {},
   "source": [
    "#### Декомпозиция датафрейма df_internet"
   ]
  },
  {
   "cell_type": "code",
   "execution_count": 292,
   "metadata": {},
   "outputs": [],
   "source": [
    "# Декомпозиция df_internet удалением колонки 'Unnamed: 0'\n",
    "df_internet.drop('Unnamed: 0', axis=1, inplace=True)"
   ]
  },
  {
   "cell_type": "code",
   "execution_count": 293,
   "metadata": {},
   "outputs": [
    {
     "data": {
      "text/html": [
       "<div>\n",
       "<style scoped>\n",
       "    .dataframe tbody tr th:only-of-type {\n",
       "        vertical-align: middle;\n",
       "    }\n",
       "\n",
       "    .dataframe tbody tr th {\n",
       "        vertical-align: top;\n",
       "    }\n",
       "\n",
       "    .dataframe thead th {\n",
       "        text-align: right;\n",
       "    }\n",
       "</style>\n",
       "<table border=\"1\" class=\"dataframe\">\n",
       "  <thead>\n",
       "    <tr style=\"text-align: right;\">\n",
       "      <th></th>\n",
       "      <th>id</th>\n",
       "      <th>mb_used</th>\n",
       "      <th>session_date</th>\n",
       "      <th>user_id</th>\n",
       "    </tr>\n",
       "  </thead>\n",
       "  <tbody>\n",
       "    <tr>\n",
       "      <th>0</th>\n",
       "      <td>1000_0</td>\n",
       "      <td>112.95</td>\n",
       "      <td>2018-11-25</td>\n",
       "      <td>1000</td>\n",
       "    </tr>\n",
       "    <tr>\n",
       "      <th>1</th>\n",
       "      <td>1000_1</td>\n",
       "      <td>1052.81</td>\n",
       "      <td>2018-09-07</td>\n",
       "      <td>1000</td>\n",
       "    </tr>\n",
       "    <tr>\n",
       "      <th>2</th>\n",
       "      <td>1000_2</td>\n",
       "      <td>1197.26</td>\n",
       "      <td>2018-06-25</td>\n",
       "      <td>1000</td>\n",
       "    </tr>\n",
       "    <tr>\n",
       "      <th>3</th>\n",
       "      <td>1000_3</td>\n",
       "      <td>550.27</td>\n",
       "      <td>2018-08-22</td>\n",
       "      <td>1000</td>\n",
       "    </tr>\n",
       "    <tr>\n",
       "      <th>4</th>\n",
       "      <td>1000_4</td>\n",
       "      <td>302.56</td>\n",
       "      <td>2018-09-24</td>\n",
       "      <td>1000</td>\n",
       "    </tr>\n",
       "  </tbody>\n",
       "</table>\n",
       "</div>"
      ],
      "text/plain": [
       "       id  mb_used session_date  user_id\n",
       "0  1000_0   112.95   2018-11-25     1000\n",
       "1  1000_1  1052.81   2018-09-07     1000\n",
       "2  1000_2  1197.26   2018-06-25     1000\n",
       "3  1000_3   550.27   2018-08-22     1000\n",
       "4  1000_4   302.56   2018-09-24     1000"
      ]
     },
     "execution_count": 293,
     "metadata": {},
     "output_type": "execute_result"
    }
   ],
   "source": [
    "# Вывод первых пяти строк df_internet\n",
    "df_internet.head()"
   ]
  },
  {
   "cell_type": "markdown",
   "metadata": {},
   "source": [
    "### Вывод"
   ]
  },
  {
   "cell_type": "markdown",
   "metadata": {},
   "source": [
    "<div class=\"alert alert-block alert-warning\">\n",
    "    \n",
    "<span style=\"color:steelblue\"><font size=\"3\" face=\"Courier\"><b>Замена типа данных и декомпозиция выполнены успешно.</b></span></div>"
   ]
  },
  {
   "cell_type": "markdown",
   "metadata": {},
   "source": [
    "## Работа с таблицами. Расчёты и добавление результатов в таблицу"
   ]
  },
  {
   "cell_type": "markdown",
   "metadata": {},
   "source": [
    "### Добавление колонок в датафреймы"
   ]
  },
  {
   "cell_type": "markdown",
   "metadata": {},
   "source": [
    "#### Добавление колонки с названиями месяцев"
   ]
  },
  {
   "cell_type": "code",
   "execution_count": 294,
   "metadata": {},
   "outputs": [],
   "source": [
    "# Список названий месяцев года на английском\n",
    "month_names_eng = [\n",
    "    'January',\n",
    "    'February',\n",
    "    'March',\n",
    "    'April',\n",
    "    'May',\n",
    "    'June',\n",
    "    'July',\n",
    "    'August',\n",
    "    'September',\n",
    "    'October',\n",
    "    'November',\n",
    "    'December'\n",
    "]"
   ]
  },
  {
   "cell_type": "code",
   "execution_count": 295,
   "metadata": {},
   "outputs": [],
   "source": [
    "# Список названий месяцев года на русском\n",
    "month_names_rus = [\n",
    "    'Январь',\n",
    "    'Февраль',\n",
    "    'Март',\n",
    "    'Апрель',\n",
    "    'Май',\n",
    "    'Июнь',\n",
    "    'Июль',\n",
    "    'Август',\n",
    "    'Сентябрь',\n",
    "    'Октябрь',\n",
    "    'Ноябрь',\n",
    "    'Декабрь'\n",
    "]"
   ]
  },
  {
   "cell_type": "code",
   "execution_count": 296,
   "metadata": {},
   "outputs": [],
   "source": [
    "# Создание списка датафреймов для добавления колонки 'month'\n",
    "df_list = [df_calls, df_messages, df_internet]"
   ]
  },
  {
   "cell_type": "code",
   "execution_count": 297,
   "metadata": {},
   "outputs": [],
   "source": [
    "# Создание списка названий колонок в соответствующих\n",
    "# датафреймах для добавления колонки 'month'\n",
    "columns_list = ['call_date', 'message_date', 'session_date']"
   ]
  },
  {
   "cell_type": "code",
   "execution_count": 298,
   "metadata": {},
   "outputs": [],
   "source": [
    "# Создание функции, добавляющей колонку\n",
    "# 'month' с названием месяца на русском\n",
    "# 1. Объявление функции add_month()\n",
    "def add_month(data, column_old, column_new='month'):\n",
    "    # 2.1. Вложенный цикл для перебора значений\n",
    "    # в списке df_list\n",
    "    for i in range(len(data)):\n",
    "        # 2.2. Добавление колонки 'month' в data\n",
    "        data[i][column_new] = data[i][column_old[i]].dt.strftime('%B')\n",
    "        # 3.1. Вложенный цикл второго периода\n",
    "        # для перебора названий месяцев\n",
    "        for j in range(len(month_names_eng)):\n",
    "            # 3.2. Замена названий месяцев с\n",
    "            # английского на русский язык\n",
    "            data[i][column_new] = data[i][column_new].str.replace(\n",
    "                month_names_eng[j],\n",
    "                month_names_rus[j]\n",
    "            )\n",
    "    # 4. Взовращение функции\n",
    "    return data[i][column_new]"
   ]
  },
  {
   "cell_type": "code",
   "execution_count": 299,
   "metadata": {
    "scrolled": false
   },
   "outputs": [
    {
     "data": {
      "text/html": [
       "<div>\n",
       "<style scoped>\n",
       "    .dataframe tbody tr th:only-of-type {\n",
       "        vertical-align: middle;\n",
       "    }\n",
       "\n",
       "    .dataframe tbody tr th {\n",
       "        vertical-align: top;\n",
       "    }\n",
       "\n",
       "    .dataframe thead th {\n",
       "        text-align: right;\n",
       "    }\n",
       "</style>\n",
       "<table border=\"1\" class=\"dataframe\">\n",
       "  <thead>\n",
       "    <tr style=\"text-align: right;\">\n",
       "      <th></th>\n",
       "      <th>id</th>\n",
       "      <th>call_date</th>\n",
       "      <th>duration</th>\n",
       "      <th>user_id</th>\n",
       "      <th>month</th>\n",
       "    </tr>\n",
       "  </thead>\n",
       "  <tbody>\n",
       "    <tr>\n",
       "      <th>0</th>\n",
       "      <td>1000_0</td>\n",
       "      <td>2018-07-25</td>\n",
       "      <td>0.00</td>\n",
       "      <td>1000</td>\n",
       "      <td>Июль</td>\n",
       "    </tr>\n",
       "    <tr>\n",
       "      <th>1</th>\n",
       "      <td>1000_1</td>\n",
       "      <td>2018-08-17</td>\n",
       "      <td>0.00</td>\n",
       "      <td>1000</td>\n",
       "      <td>Август</td>\n",
       "    </tr>\n",
       "    <tr>\n",
       "      <th>2</th>\n",
       "      <td>1000_2</td>\n",
       "      <td>2018-06-11</td>\n",
       "      <td>2.85</td>\n",
       "      <td>1000</td>\n",
       "      <td>Июнь</td>\n",
       "    </tr>\n",
       "    <tr>\n",
       "      <th>3</th>\n",
       "      <td>1000_3</td>\n",
       "      <td>2018-09-21</td>\n",
       "      <td>13.80</td>\n",
       "      <td>1000</td>\n",
       "      <td>Сентябрь</td>\n",
       "    </tr>\n",
       "    <tr>\n",
       "      <th>4</th>\n",
       "      <td>1000_4</td>\n",
       "      <td>2018-12-15</td>\n",
       "      <td>5.18</td>\n",
       "      <td>1000</td>\n",
       "      <td>Декабрь</td>\n",
       "    </tr>\n",
       "  </tbody>\n",
       "</table>\n",
       "</div>"
      ],
      "text/plain": [
       "       id  call_date  duration  user_id     month\n",
       "0  1000_0 2018-07-25      0.00     1000      Июль\n",
       "1  1000_1 2018-08-17      0.00     1000    Август\n",
       "2  1000_2 2018-06-11      2.85     1000      Июнь\n",
       "3  1000_3 2018-09-21     13.80     1000  Сентябрь\n",
       "4  1000_4 2018-12-15      5.18     1000   Декабрь"
      ]
     },
     "metadata": {},
     "output_type": "display_data"
    },
    {
     "data": {
      "text/html": [
       "<div>\n",
       "<style scoped>\n",
       "    .dataframe tbody tr th:only-of-type {\n",
       "        vertical-align: middle;\n",
       "    }\n",
       "\n",
       "    .dataframe tbody tr th {\n",
       "        vertical-align: top;\n",
       "    }\n",
       "\n",
       "    .dataframe thead th {\n",
       "        text-align: right;\n",
       "    }\n",
       "</style>\n",
       "<table border=\"1\" class=\"dataframe\">\n",
       "  <thead>\n",
       "    <tr style=\"text-align: right;\">\n",
       "      <th></th>\n",
       "      <th>id</th>\n",
       "      <th>message_date</th>\n",
       "      <th>user_id</th>\n",
       "      <th>month</th>\n",
       "    </tr>\n",
       "  </thead>\n",
       "  <tbody>\n",
       "    <tr>\n",
       "      <th>0</th>\n",
       "      <td>1000_0</td>\n",
       "      <td>2018-06-27</td>\n",
       "      <td>1000</td>\n",
       "      <td>Июнь</td>\n",
       "    </tr>\n",
       "    <tr>\n",
       "      <th>1</th>\n",
       "      <td>1000_1</td>\n",
       "      <td>2018-10-08</td>\n",
       "      <td>1000</td>\n",
       "      <td>Октябрь</td>\n",
       "    </tr>\n",
       "    <tr>\n",
       "      <th>2</th>\n",
       "      <td>1000_2</td>\n",
       "      <td>2018-08-04</td>\n",
       "      <td>1000</td>\n",
       "      <td>Август</td>\n",
       "    </tr>\n",
       "    <tr>\n",
       "      <th>3</th>\n",
       "      <td>1000_3</td>\n",
       "      <td>2018-06-16</td>\n",
       "      <td>1000</td>\n",
       "      <td>Июнь</td>\n",
       "    </tr>\n",
       "    <tr>\n",
       "      <th>4</th>\n",
       "      <td>1000_4</td>\n",
       "      <td>2018-12-05</td>\n",
       "      <td>1000</td>\n",
       "      <td>Декабрь</td>\n",
       "    </tr>\n",
       "  </tbody>\n",
       "</table>\n",
       "</div>"
      ],
      "text/plain": [
       "       id message_date  user_id    month\n",
       "0  1000_0   2018-06-27     1000     Июнь\n",
       "1  1000_1   2018-10-08     1000  Октябрь\n",
       "2  1000_2   2018-08-04     1000   Август\n",
       "3  1000_3   2018-06-16     1000     Июнь\n",
       "4  1000_4   2018-12-05     1000  Декабрь"
      ]
     },
     "metadata": {},
     "output_type": "display_data"
    },
    {
     "data": {
      "text/html": [
       "<div>\n",
       "<style scoped>\n",
       "    .dataframe tbody tr th:only-of-type {\n",
       "        vertical-align: middle;\n",
       "    }\n",
       "\n",
       "    .dataframe tbody tr th {\n",
       "        vertical-align: top;\n",
       "    }\n",
       "\n",
       "    .dataframe thead th {\n",
       "        text-align: right;\n",
       "    }\n",
       "</style>\n",
       "<table border=\"1\" class=\"dataframe\">\n",
       "  <thead>\n",
       "    <tr style=\"text-align: right;\">\n",
       "      <th></th>\n",
       "      <th>id</th>\n",
       "      <th>mb_used</th>\n",
       "      <th>session_date</th>\n",
       "      <th>user_id</th>\n",
       "      <th>month</th>\n",
       "    </tr>\n",
       "  </thead>\n",
       "  <tbody>\n",
       "    <tr>\n",
       "      <th>0</th>\n",
       "      <td>1000_0</td>\n",
       "      <td>112.95</td>\n",
       "      <td>2018-11-25</td>\n",
       "      <td>1000</td>\n",
       "      <td>Ноябрь</td>\n",
       "    </tr>\n",
       "    <tr>\n",
       "      <th>1</th>\n",
       "      <td>1000_1</td>\n",
       "      <td>1052.81</td>\n",
       "      <td>2018-09-07</td>\n",
       "      <td>1000</td>\n",
       "      <td>Сентябрь</td>\n",
       "    </tr>\n",
       "    <tr>\n",
       "      <th>2</th>\n",
       "      <td>1000_2</td>\n",
       "      <td>1197.26</td>\n",
       "      <td>2018-06-25</td>\n",
       "      <td>1000</td>\n",
       "      <td>Июнь</td>\n",
       "    </tr>\n",
       "    <tr>\n",
       "      <th>3</th>\n",
       "      <td>1000_3</td>\n",
       "      <td>550.27</td>\n",
       "      <td>2018-08-22</td>\n",
       "      <td>1000</td>\n",
       "      <td>Август</td>\n",
       "    </tr>\n",
       "    <tr>\n",
       "      <th>4</th>\n",
       "      <td>1000_4</td>\n",
       "      <td>302.56</td>\n",
       "      <td>2018-09-24</td>\n",
       "      <td>1000</td>\n",
       "      <td>Сентябрь</td>\n",
       "    </tr>\n",
       "  </tbody>\n",
       "</table>\n",
       "</div>"
      ],
      "text/plain": [
       "       id  mb_used session_date  user_id     month\n",
       "0  1000_0   112.95   2018-11-25     1000    Ноябрь\n",
       "1  1000_1  1052.81   2018-09-07     1000  Сентябрь\n",
       "2  1000_2  1197.26   2018-06-25     1000      Июнь\n",
       "3  1000_3   550.27   2018-08-22     1000    Август\n",
       "4  1000_4   302.56   2018-09-24     1000  Сентябрь"
      ]
     },
     "metadata": {},
     "output_type": "display_data"
    }
   ],
   "source": [
    "# Применение функции add_month() для добавления\n",
    "# колонки с обработкой ошибок try-except\n",
    "try:\n",
    "    add_month(df_list, columns_list)\n",
    "    # Вывод первых пяти строк df_calls\n",
    "    display(df_calls.head())\n",
    "    # Вывод первых пяти строк df_messages\n",
    "    display(df_messages.head())\n",
    "    # Вывод первых пяти строк df_internet\n",
    "    display(df_internet.head())\n",
    "except:\n",
    "    print('Проверь алгоритм работы функции \"add_month()\"!')"
   ]
  },
  {
   "cell_type": "markdown",
   "metadata": {},
   "source": [
    "### Обработка данных в датафрейме df_calls"
   ]
  },
  {
   "cell_type": "code",
   "execution_count": 300,
   "metadata": {},
   "outputs": [],
   "source": [
    "# Округление минут до большего целого числа в\n",
    "# колонке 'duration' датафрейма df_merged1\n",
    "df_calls['duration'] = np.ceil(df_calls['duration'])"
   ]
  },
  {
   "cell_type": "code",
   "execution_count": 301,
   "metadata": {},
   "outputs": [
    {
     "data": {
      "text/html": [
       "<div>\n",
       "<style scoped>\n",
       "    .dataframe tbody tr th:only-of-type {\n",
       "        vertical-align: middle;\n",
       "    }\n",
       "\n",
       "    .dataframe tbody tr th {\n",
       "        vertical-align: top;\n",
       "    }\n",
       "\n",
       "    .dataframe thead th {\n",
       "        text-align: right;\n",
       "    }\n",
       "</style>\n",
       "<table border=\"1\" class=\"dataframe\">\n",
       "  <thead>\n",
       "    <tr style=\"text-align: right;\">\n",
       "      <th></th>\n",
       "      <th>id</th>\n",
       "      <th>call_date</th>\n",
       "      <th>duration</th>\n",
       "      <th>user_id</th>\n",
       "      <th>month</th>\n",
       "    </tr>\n",
       "  </thead>\n",
       "  <tbody>\n",
       "    <tr>\n",
       "      <th>0</th>\n",
       "      <td>1000_0</td>\n",
       "      <td>2018-07-25</td>\n",
       "      <td>0.0</td>\n",
       "      <td>1000</td>\n",
       "      <td>Июль</td>\n",
       "    </tr>\n",
       "    <tr>\n",
       "      <th>1</th>\n",
       "      <td>1000_1</td>\n",
       "      <td>2018-08-17</td>\n",
       "      <td>0.0</td>\n",
       "      <td>1000</td>\n",
       "      <td>Август</td>\n",
       "    </tr>\n",
       "    <tr>\n",
       "      <th>2</th>\n",
       "      <td>1000_2</td>\n",
       "      <td>2018-06-11</td>\n",
       "      <td>3.0</td>\n",
       "      <td>1000</td>\n",
       "      <td>Июнь</td>\n",
       "    </tr>\n",
       "    <tr>\n",
       "      <th>3</th>\n",
       "      <td>1000_3</td>\n",
       "      <td>2018-09-21</td>\n",
       "      <td>14.0</td>\n",
       "      <td>1000</td>\n",
       "      <td>Сентябрь</td>\n",
       "    </tr>\n",
       "    <tr>\n",
       "      <th>4</th>\n",
       "      <td>1000_4</td>\n",
       "      <td>2018-12-15</td>\n",
       "      <td>6.0</td>\n",
       "      <td>1000</td>\n",
       "      <td>Декабрь</td>\n",
       "    </tr>\n",
       "  </tbody>\n",
       "</table>\n",
       "</div>"
      ],
      "text/plain": [
       "       id  call_date  duration  user_id     month\n",
       "0  1000_0 2018-07-25       0.0     1000      Июль\n",
       "1  1000_1 2018-08-17       0.0     1000    Август\n",
       "2  1000_2 2018-06-11       3.0     1000      Июнь\n",
       "3  1000_3 2018-09-21      14.0     1000  Сентябрь\n",
       "4  1000_4 2018-12-15       6.0     1000   Декабрь"
      ]
     },
     "execution_count": 301,
     "metadata": {},
     "output_type": "execute_result"
    }
   ],
   "source": [
    "# Вывод первых пяти строк df_calls\n",
    "df_calls.head()"
   ]
  },
  {
   "cell_type": "markdown",
   "metadata": {},
   "source": [
    "<div class=\"alert alert-block alert-warning\"><span style=\"color:green\"><font size=\"3\" face=\"Arial\"><b>Промежуточные выводы 3.1:<b/></span>\n",
    "    \n",
    "<span style=\"color:steelblue\"><font size=\"3\" face=\"Courier\"><b>1. Колонки с названиями месяцев на русском языке успешно добавлены.\\\n",
    "    2. Минуты округлены в большую сторону.</b></span></div>"
   ]
  },
  {
   "cell_type": "markdown",
   "metadata": {},
   "source": [
    "### Создание сводных таблиц"
   ]
  },
  {
   "cell_type": "code",
   "execution_count": 302,
   "metadata": {},
   "outputs": [],
   "source": [
    "# Создание функции для формирования сводной таблицы\n",
    "# 1. Объявление функции make_pivot()\n",
    "def make_pivot(data, indexes, column_val, func_app, columns_name=None):\n",
    "    # 2. Создание нового датафрейма с\n",
    "    # формированием сводной таблицы\n",
    "    data_new = (data\n",
    "                .pivot_table(index=indexes,\n",
    "                             values=column_val,\n",
    "                             aggfunc=func_app,\n",
    "                             columns=columns_name)\n",
    "                ).reset_index()\n",
    "    # 3. Возвращение функции\n",
    "    return data_new"
   ]
  },
  {
   "cell_type": "code",
   "execution_count": 303,
   "metadata": {},
   "outputs": [],
   "source": [
    "# Список индексов для формирования сводных таблиц\n",
    "indexes_list = ['user_id', 'month']"
   ]
  },
  {
   "cell_type": "markdown",
   "metadata": {},
   "source": [
    "#### Создание сводной таблицы df_calls_out_count"
   ]
  },
  {
   "cell_type": "code",
   "execution_count": 304,
   "metadata": {},
   "outputs": [],
   "source": [
    "# Формирование датафрейма df_calls_out с\n",
    "# количеством исходящих звонков в df_calls\n",
    "df_calls_out = df_calls.query('duration > 0')"
   ]
  },
  {
   "cell_type": "code",
   "execution_count": 305,
   "metadata": {},
   "outputs": [
    {
     "data": {
      "text/html": [
       "<div>\n",
       "<style scoped>\n",
       "    .dataframe tbody tr th:only-of-type {\n",
       "        vertical-align: middle;\n",
       "    }\n",
       "\n",
       "    .dataframe tbody tr th {\n",
       "        vertical-align: top;\n",
       "    }\n",
       "\n",
       "    .dataframe thead th {\n",
       "        text-align: right;\n",
       "    }\n",
       "</style>\n",
       "<table border=\"1\" class=\"dataframe\">\n",
       "  <thead>\n",
       "    <tr style=\"text-align: right;\">\n",
       "      <th></th>\n",
       "      <th>user_id</th>\n",
       "      <th>month</th>\n",
       "      <th>id</th>\n",
       "    </tr>\n",
       "  </thead>\n",
       "  <tbody>\n",
       "    <tr>\n",
       "      <th>0</th>\n",
       "      <td>1000</td>\n",
       "      <td>Август</td>\n",
       "      <td>42</td>\n",
       "    </tr>\n",
       "    <tr>\n",
       "      <th>1</th>\n",
       "      <td>1000</td>\n",
       "      <td>Декабрь</td>\n",
       "      <td>38</td>\n",
       "    </tr>\n",
       "    <tr>\n",
       "      <th>2</th>\n",
       "      <td>1000</td>\n",
       "      <td>Июль</td>\n",
       "      <td>41</td>\n",
       "    </tr>\n",
       "    <tr>\n",
       "      <th>3</th>\n",
       "      <td>1000</td>\n",
       "      <td>Июнь</td>\n",
       "      <td>28</td>\n",
       "    </tr>\n",
       "    <tr>\n",
       "      <th>4</th>\n",
       "      <td>1000</td>\n",
       "      <td>Май</td>\n",
       "      <td>17</td>\n",
       "    </tr>\n",
       "  </tbody>\n",
       "</table>\n",
       "</div>"
      ],
      "text/plain": [
       "   user_id    month  id\n",
       "0     1000   Август  42\n",
       "1     1000  Декабрь  38\n",
       "2     1000     Июль  41\n",
       "3     1000     Июнь  28\n",
       "4     1000      Май  17"
      ]
     },
     "metadata": {},
     "output_type": "display_data"
    }
   ],
   "source": [
    "# Формирование и вывод сводной таблицы df_calls_out_count\n",
    "# с количеством совершённых звонков с обработкой\n",
    "# ошибок try-except\n",
    "try:\n",
    "    df_calls_out_count = make_pivot(\n",
    "        df_calls_out,\n",
    "        indexes_list,\n",
    "        'id',\n",
    "        'count'\n",
    "    )\n",
    "    display(df_calls_out_count.head())\n",
    "except:\n",
    "    print('Проверь алгоритм работы функции \"make_pivot()\"!')"
   ]
  },
  {
   "cell_type": "markdown",
   "metadata": {},
   "source": [
    "#### Создание сводной таблицы df_calls_duration"
   ]
  },
  {
   "cell_type": "code",
   "execution_count": 306,
   "metadata": {
    "scrolled": true
   },
   "outputs": [
    {
     "data": {
      "text/html": [
       "<div>\n",
       "<style scoped>\n",
       "    .dataframe tbody tr th:only-of-type {\n",
       "        vertical-align: middle;\n",
       "    }\n",
       "\n",
       "    .dataframe tbody tr th {\n",
       "        vertical-align: top;\n",
       "    }\n",
       "\n",
       "    .dataframe thead th {\n",
       "        text-align: right;\n",
       "    }\n",
       "</style>\n",
       "<table border=\"1\" class=\"dataframe\">\n",
       "  <thead>\n",
       "    <tr style=\"text-align: right;\">\n",
       "      <th></th>\n",
       "      <th>user_id</th>\n",
       "      <th>month</th>\n",
       "      <th>duration</th>\n",
       "    </tr>\n",
       "  </thead>\n",
       "  <tbody>\n",
       "    <tr>\n",
       "      <th>0</th>\n",
       "      <td>1000</td>\n",
       "      <td>Август</td>\n",
       "      <td>408.0</td>\n",
       "    </tr>\n",
       "    <tr>\n",
       "      <th>1</th>\n",
       "      <td>1000</td>\n",
       "      <td>Декабрь</td>\n",
       "      <td>333.0</td>\n",
       "    </tr>\n",
       "    <tr>\n",
       "      <th>2</th>\n",
       "      <td>1000</td>\n",
       "      <td>Июль</td>\n",
       "      <td>340.0</td>\n",
       "    </tr>\n",
       "    <tr>\n",
       "      <th>3</th>\n",
       "      <td>1000</td>\n",
       "      <td>Июнь</td>\n",
       "      <td>172.0</td>\n",
       "    </tr>\n",
       "    <tr>\n",
       "      <th>4</th>\n",
       "      <td>1000</td>\n",
       "      <td>Май</td>\n",
       "      <td>159.0</td>\n",
       "    </tr>\n",
       "  </tbody>\n",
       "</table>\n",
       "</div>"
      ],
      "text/plain": [
       "   user_id    month  duration\n",
       "0     1000   Август     408.0\n",
       "1     1000  Декабрь     333.0\n",
       "2     1000     Июль     340.0\n",
       "3     1000     Июнь     172.0\n",
       "4     1000      Май     159.0"
      ]
     },
     "metadata": {},
     "output_type": "display_data"
    }
   ],
   "source": [
    "# Формирование и вывод сводной таблицы df_calls_duration\n",
    "# с продолжительностью разговоров с обработкой\n",
    "# ошибок try-except\n",
    "try:\n",
    "    df_calls_duration = make_pivot(\n",
    "        df_calls_out,\n",
    "        indexes_list,\n",
    "        'duration',\n",
    "        'sum'\n",
    "    )\n",
    "    display(df_calls_duration.head())\n",
    "except:\n",
    "    print('Проверь алгоритм работы функции \"make_pivot()\"!')"
   ]
  },
  {
   "cell_type": "markdown",
   "metadata": {},
   "source": [
    "#### Создание сводной таблицы df_messages_count"
   ]
  },
  {
   "cell_type": "code",
   "execution_count": 307,
   "metadata": {},
   "outputs": [
    {
     "data": {
      "text/html": [
       "<div>\n",
       "<style scoped>\n",
       "    .dataframe tbody tr th:only-of-type {\n",
       "        vertical-align: middle;\n",
       "    }\n",
       "\n",
       "    .dataframe tbody tr th {\n",
       "        vertical-align: top;\n",
       "    }\n",
       "\n",
       "    .dataframe thead th {\n",
       "        text-align: right;\n",
       "    }\n",
       "</style>\n",
       "<table border=\"1\" class=\"dataframe\">\n",
       "  <thead>\n",
       "    <tr style=\"text-align: right;\">\n",
       "      <th></th>\n",
       "      <th>user_id</th>\n",
       "      <th>month</th>\n",
       "      <th>id</th>\n",
       "    </tr>\n",
       "  </thead>\n",
       "  <tbody>\n",
       "    <tr>\n",
       "      <th>0</th>\n",
       "      <td>1000</td>\n",
       "      <td>Август</td>\n",
       "      <td>81</td>\n",
       "    </tr>\n",
       "    <tr>\n",
       "      <th>1</th>\n",
       "      <td>1000</td>\n",
       "      <td>Декабрь</td>\n",
       "      <td>70</td>\n",
       "    </tr>\n",
       "    <tr>\n",
       "      <th>2</th>\n",
       "      <td>1000</td>\n",
       "      <td>Июль</td>\n",
       "      <td>75</td>\n",
       "    </tr>\n",
       "    <tr>\n",
       "      <th>3</th>\n",
       "      <td>1000</td>\n",
       "      <td>Июнь</td>\n",
       "      <td>60</td>\n",
       "    </tr>\n",
       "    <tr>\n",
       "      <th>4</th>\n",
       "      <td>1000</td>\n",
       "      <td>Май</td>\n",
       "      <td>22</td>\n",
       "    </tr>\n",
       "  </tbody>\n",
       "</table>\n",
       "</div>"
      ],
      "text/plain": [
       "   user_id    month  id\n",
       "0     1000   Август  81\n",
       "1     1000  Декабрь  70\n",
       "2     1000     Июль  75\n",
       "3     1000     Июнь  60\n",
       "4     1000      Май  22"
      ]
     },
     "metadata": {},
     "output_type": "display_data"
    }
   ],
   "source": [
    "# Формирование и вывод сводной таблицы df_messages_count\n",
    "# с количеством сообщений с обработкой\n",
    "# ошибок try-except\n",
    "try:\n",
    "    df_messages_count = make_pivot(\n",
    "        df_messages,\n",
    "        indexes_list,\n",
    "        'id',\n",
    "        'count'\n",
    "    )\n",
    "    display(df_messages_count.head())\n",
    "except:\n",
    "    print('Проверь алгоритм работы функции \"make_pivot()\"!')"
   ]
  },
  {
   "cell_type": "markdown",
   "metadata": {},
   "source": [
    "#### Создание сводной таблицы df_internet_mb"
   ]
  },
  {
   "cell_type": "code",
   "execution_count": 308,
   "metadata": {
    "scrolled": true
   },
   "outputs": [
    {
     "data": {
      "text/html": [
       "<div>\n",
       "<style scoped>\n",
       "    .dataframe tbody tr th:only-of-type {\n",
       "        vertical-align: middle;\n",
       "    }\n",
       "\n",
       "    .dataframe tbody tr th {\n",
       "        vertical-align: top;\n",
       "    }\n",
       "\n",
       "    .dataframe thead th {\n",
       "        text-align: right;\n",
       "    }\n",
       "</style>\n",
       "<table border=\"1\" class=\"dataframe\">\n",
       "  <thead>\n",
       "    <tr style=\"text-align: right;\">\n",
       "      <th></th>\n",
       "      <th>user_id</th>\n",
       "      <th>month</th>\n",
       "      <th>mb_used</th>\n",
       "    </tr>\n",
       "  </thead>\n",
       "  <tbody>\n",
       "    <tr>\n",
       "      <th>0</th>\n",
       "      <td>1000</td>\n",
       "      <td>Август</td>\n",
       "      <td>14055.93</td>\n",
       "    </tr>\n",
       "    <tr>\n",
       "      <th>1</th>\n",
       "      <td>1000</td>\n",
       "      <td>Декабрь</td>\n",
       "      <td>9817.61</td>\n",
       "    </tr>\n",
       "    <tr>\n",
       "      <th>2</th>\n",
       "      <td>1000</td>\n",
       "      <td>Июль</td>\n",
       "      <td>14003.64</td>\n",
       "    </tr>\n",
       "    <tr>\n",
       "      <th>3</th>\n",
       "      <td>1000</td>\n",
       "      <td>Июнь</td>\n",
       "      <td>23233.77</td>\n",
       "    </tr>\n",
       "    <tr>\n",
       "      <th>4</th>\n",
       "      <td>1000</td>\n",
       "      <td>Май</td>\n",
       "      <td>2253.49</td>\n",
       "    </tr>\n",
       "  </tbody>\n",
       "</table>\n",
       "</div>"
      ],
      "text/plain": [
       "   user_id    month   mb_used\n",
       "0     1000   Август  14055.93\n",
       "1     1000  Декабрь   9817.61\n",
       "2     1000     Июль  14003.64\n",
       "3     1000     Июнь  23233.77\n",
       "4     1000      Май   2253.49"
      ]
     },
     "metadata": {},
     "output_type": "display_data"
    }
   ],
   "source": [
    "# Формирование и вывод сводной таблицы df_internet_mb\n",
    "# с обработкой ошибок try-except\n",
    "try:\n",
    "    df_internet_mb = make_pivot(\n",
    "        df_internet,\n",
    "        indexes_list,\n",
    "        'mb_used',\n",
    "        'sum'\n",
    "    )\n",
    "    display(df_internet_mb.head())\n",
    "except:\n",
    "    print('Проверь алгоритм работы функции \"make_pivot()\"!')"
   ]
  },
  {
   "cell_type": "markdown",
   "metadata": {},
   "source": [
    "<div class=\"alert alert-block alert-warning\"><span style=\"color:green\"><font size=\"3\" face=\"Arial\"><b>Промежуточные выводы 3.2:<b/></span>\n",
    "    \n",
    "<span style=\"color:steelblue\"><font size=\"3\" face=\"Courier\"><b>Функция make_pivot() работает. Сводные таблицы успешно создал.</b></span></div>"
   ]
  },
  {
   "cell_type": "markdown",
   "metadata": {},
   "source": [
    "### Объединение сводных таблиц с дальнейшей предобработкой"
   ]
  },
  {
   "cell_type": "markdown",
   "metadata": {},
   "source": [
    "#### Формирование объединённой таблицы df_calls_total"
   ]
  },
  {
   "cell_type": "code",
   "execution_count": 309,
   "metadata": {},
   "outputs": [],
   "source": [
    "# Декомпозиция df_users оставлением колонок\n",
    "# 'user_id', 'tariff', 'city'\n",
    "df_users_decomp = df_users.loc[:, ['user_id', 'tariff', 'city']]"
   ]
  },
  {
   "cell_type": "code",
   "execution_count": 310,
   "metadata": {},
   "outputs": [],
   "source": [
    "# Объединение датафрейма df_calls_out_count\n",
    "# с датафреймом df_calls_duration\n",
    "df_calls_total = (df_calls_out_count\n",
    "                  .merge(df_calls_duration,\n",
    "                         on=['user_id', 'month'])\n",
    "                  )"
   ]
  },
  {
   "cell_type": "code",
   "execution_count": 311,
   "metadata": {
    "scrolled": false
   },
   "outputs": [
    {
     "data": {
      "text/html": [
       "<div>\n",
       "<style scoped>\n",
       "    .dataframe tbody tr th:only-of-type {\n",
       "        vertical-align: middle;\n",
       "    }\n",
       "\n",
       "    .dataframe tbody tr th {\n",
       "        vertical-align: top;\n",
       "    }\n",
       "\n",
       "    .dataframe thead th {\n",
       "        text-align: right;\n",
       "    }\n",
       "</style>\n",
       "<table border=\"1\" class=\"dataframe\">\n",
       "  <thead>\n",
       "    <tr style=\"text-align: right;\">\n",
       "      <th></th>\n",
       "      <th>user_id</th>\n",
       "      <th>month</th>\n",
       "      <th>id</th>\n",
       "      <th>duration</th>\n",
       "    </tr>\n",
       "  </thead>\n",
       "  <tbody>\n",
       "    <tr>\n",
       "      <th>0</th>\n",
       "      <td>1000</td>\n",
       "      <td>Август</td>\n",
       "      <td>42</td>\n",
       "      <td>408.0</td>\n",
       "    </tr>\n",
       "    <tr>\n",
       "      <th>1</th>\n",
       "      <td>1000</td>\n",
       "      <td>Декабрь</td>\n",
       "      <td>38</td>\n",
       "      <td>333.0</td>\n",
       "    </tr>\n",
       "    <tr>\n",
       "      <th>2</th>\n",
       "      <td>1000</td>\n",
       "      <td>Июль</td>\n",
       "      <td>41</td>\n",
       "      <td>340.0</td>\n",
       "    </tr>\n",
       "    <tr>\n",
       "      <th>3</th>\n",
       "      <td>1000</td>\n",
       "      <td>Июнь</td>\n",
       "      <td>28</td>\n",
       "      <td>172.0</td>\n",
       "    </tr>\n",
       "    <tr>\n",
       "      <th>4</th>\n",
       "      <td>1000</td>\n",
       "      <td>Май</td>\n",
       "      <td>17</td>\n",
       "      <td>159.0</td>\n",
       "    </tr>\n",
       "    <tr>\n",
       "      <th>5</th>\n",
       "      <td>1000</td>\n",
       "      <td>Ноябрь</td>\n",
       "      <td>37</td>\n",
       "      <td>338.0</td>\n",
       "    </tr>\n",
       "    <tr>\n",
       "      <th>6</th>\n",
       "      <td>1000</td>\n",
       "      <td>Октябрь</td>\n",
       "      <td>44</td>\n",
       "      <td>350.0</td>\n",
       "    </tr>\n",
       "    <tr>\n",
       "      <th>7</th>\n",
       "      <td>1000</td>\n",
       "      <td>Сентябрь</td>\n",
       "      <td>46</td>\n",
       "      <td>466.0</td>\n",
       "    </tr>\n",
       "    <tr>\n",
       "      <th>8</th>\n",
       "      <td>1001</td>\n",
       "      <td>Декабрь</td>\n",
       "      <td>47</td>\n",
       "      <td>414.0</td>\n",
       "    </tr>\n",
       "    <tr>\n",
       "      <th>9</th>\n",
       "      <td>1001</td>\n",
       "      <td>Ноябрь</td>\n",
       "      <td>45</td>\n",
       "      <td>430.0</td>\n",
       "    </tr>\n",
       "    <tr>\n",
       "      <th>10</th>\n",
       "      <td>1002</td>\n",
       "      <td>Август</td>\n",
       "      <td>37</td>\n",
       "      <td>289.0</td>\n",
       "    </tr>\n",
       "    <tr>\n",
       "      <th>11</th>\n",
       "      <td>1002</td>\n",
       "      <td>Декабрь</td>\n",
       "      <td>27</td>\n",
       "      <td>236.0</td>\n",
       "    </tr>\n",
       "    <tr>\n",
       "      <th>12</th>\n",
       "      <td>1002</td>\n",
       "      <td>Июль</td>\n",
       "      <td>21</td>\n",
       "      <td>214.0</td>\n",
       "    </tr>\n",
       "    <tr>\n",
       "      <th>13</th>\n",
       "      <td>1002</td>\n",
       "      <td>Июнь</td>\n",
       "      <td>14</td>\n",
       "      <td>117.0</td>\n",
       "    </tr>\n",
       "    <tr>\n",
       "      <th>14</th>\n",
       "      <td>1002</td>\n",
       "      <td>Ноябрь</td>\n",
       "      <td>25</td>\n",
       "      <td>243.0</td>\n",
       "    </tr>\n",
       "  </tbody>\n",
       "</table>\n",
       "</div>"
      ],
      "text/plain": [
       "    user_id     month  id  duration\n",
       "0      1000    Август  42     408.0\n",
       "1      1000   Декабрь  38     333.0\n",
       "2      1000      Июль  41     340.0\n",
       "3      1000      Июнь  28     172.0\n",
       "4      1000       Май  17     159.0\n",
       "5      1000    Ноябрь  37     338.0\n",
       "6      1000   Октябрь  44     350.0\n",
       "7      1000  Сентябрь  46     466.0\n",
       "8      1001   Декабрь  47     414.0\n",
       "9      1001    Ноябрь  45     430.0\n",
       "10     1002    Август  37     289.0\n",
       "11     1002   Декабрь  27     236.0\n",
       "12     1002      Июль  21     214.0\n",
       "13     1002      Июнь  14     117.0\n",
       "14     1002    Ноябрь  25     243.0"
      ]
     },
     "execution_count": 311,
     "metadata": {},
     "output_type": "execute_result"
    }
   ],
   "source": [
    "# Вывод первых пятнадцати строк df_calls_total\n",
    "df_calls_total.head(15)"
   ]
  },
  {
   "cell_type": "code",
   "execution_count": 312,
   "metadata": {
    "scrolled": true
   },
   "outputs": [
    {
     "name": "stdout",
     "output_type": "stream",
     "text": [
      "<class 'pandas.core.frame.DataFrame'>\n",
      "Int64Index: 3168 entries, 0 to 3167\n",
      "Data columns (total 4 columns):\n",
      " #   Column    Non-Null Count  Dtype  \n",
      "---  ------    --------------  -----  \n",
      " 0   user_id   3168 non-null   int64  \n",
      " 1   month     3168 non-null   object \n",
      " 2   id        3168 non-null   int64  \n",
      " 3   duration  3168 non-null   float64\n",
      "dtypes: float64(1), int64(2), object(1)\n",
      "memory usage: 123.8+ KB\n"
     ]
    }
   ],
   "source": [
    "# Вывод общей информации по датафрейму df_calls_total\n",
    "df_calls_total.info()"
   ]
  },
  {
   "cell_type": "markdown",
   "metadata": {},
   "source": [
    "<div class=\"alert alert-block alert-warning\"><span style=\"color:green\"><font size=\"3\" face=\"Arial\"><b>Промежуточные выводы 3.3:<b/></span>\n",
    "    \n",
    "<span style=\"color:steelblue\"><font size=\"3\" face=\"Courier\"><b>Объединённую таблицу успешно создал.\\\n",
    "    Пропусков не обнаружил.</b></span></div>"
   ]
  },
  {
   "cell_type": "markdown",
   "metadata": {},
   "source": [
    "#### Формирование объединённой таблицы df_merged1"
   ]
  },
  {
   "cell_type": "code",
   "execution_count": 313,
   "metadata": {},
   "outputs": [],
   "source": [
    "# Объединение датафрейма df_calls_total с датафреймами\n",
    "# df_messages_count, df_internet_mb, df_users_decomp\n",
    "df_merged1 = (df_calls_total\n",
    "              .merge(df_messages_count,\n",
    "                     on=['user_id', 'month'],\n",
    "                     how='outer')\n",
    "              ).merge(df_internet_mb,\n",
    "                      on=['user_id', 'month'],\n",
    "                      how='outer')\\\n",
    "    .merge(df_users_decomp,\n",
    "           on='user_id',\n",
    "           how='left')"
   ]
  },
  {
   "cell_type": "code",
   "execution_count": 314,
   "metadata": {
    "scrolled": true
   },
   "outputs": [
    {
     "data": {
      "text/html": [
       "<div>\n",
       "<style scoped>\n",
       "    .dataframe tbody tr th:only-of-type {\n",
       "        vertical-align: middle;\n",
       "    }\n",
       "\n",
       "    .dataframe tbody tr th {\n",
       "        vertical-align: top;\n",
       "    }\n",
       "\n",
       "    .dataframe thead th {\n",
       "        text-align: right;\n",
       "    }\n",
       "</style>\n",
       "<table border=\"1\" class=\"dataframe\">\n",
       "  <thead>\n",
       "    <tr style=\"text-align: right;\">\n",
       "      <th></th>\n",
       "      <th>user_id</th>\n",
       "      <th>month</th>\n",
       "      <th>id_x</th>\n",
       "      <th>duration</th>\n",
       "      <th>id_y</th>\n",
       "      <th>mb_used</th>\n",
       "      <th>tariff</th>\n",
       "      <th>city</th>\n",
       "    </tr>\n",
       "  </thead>\n",
       "  <tbody>\n",
       "    <tr>\n",
       "      <th>0</th>\n",
       "      <td>1000</td>\n",
       "      <td>Август</td>\n",
       "      <td>42.0</td>\n",
       "      <td>408.0</td>\n",
       "      <td>81.0</td>\n",
       "      <td>14055.93</td>\n",
       "      <td>ultra</td>\n",
       "      <td>Краснодар</td>\n",
       "    </tr>\n",
       "    <tr>\n",
       "      <th>1</th>\n",
       "      <td>1000</td>\n",
       "      <td>Декабрь</td>\n",
       "      <td>38.0</td>\n",
       "      <td>333.0</td>\n",
       "      <td>70.0</td>\n",
       "      <td>9817.61</td>\n",
       "      <td>ultra</td>\n",
       "      <td>Краснодар</td>\n",
       "    </tr>\n",
       "    <tr>\n",
       "      <th>2</th>\n",
       "      <td>1000</td>\n",
       "      <td>Июль</td>\n",
       "      <td>41.0</td>\n",
       "      <td>340.0</td>\n",
       "      <td>75.0</td>\n",
       "      <td>14003.64</td>\n",
       "      <td>ultra</td>\n",
       "      <td>Краснодар</td>\n",
       "    </tr>\n",
       "    <tr>\n",
       "      <th>3</th>\n",
       "      <td>1000</td>\n",
       "      <td>Июнь</td>\n",
       "      <td>28.0</td>\n",
       "      <td>172.0</td>\n",
       "      <td>60.0</td>\n",
       "      <td>23233.77</td>\n",
       "      <td>ultra</td>\n",
       "      <td>Краснодар</td>\n",
       "    </tr>\n",
       "    <tr>\n",
       "      <th>4</th>\n",
       "      <td>1000</td>\n",
       "      <td>Май</td>\n",
       "      <td>17.0</td>\n",
       "      <td>159.0</td>\n",
       "      <td>22.0</td>\n",
       "      <td>2253.49</td>\n",
       "      <td>ultra</td>\n",
       "      <td>Краснодар</td>\n",
       "    </tr>\n",
       "  </tbody>\n",
       "</table>\n",
       "</div>"
      ],
      "text/plain": [
       "   user_id    month  id_x  duration  id_y   mb_used tariff       city\n",
       "0     1000   Август  42.0     408.0  81.0  14055.93  ultra  Краснодар\n",
       "1     1000  Декабрь  38.0     333.0  70.0   9817.61  ultra  Краснодар\n",
       "2     1000     Июль  41.0     340.0  75.0  14003.64  ultra  Краснодар\n",
       "3     1000     Июнь  28.0     172.0  60.0  23233.77  ultra  Краснодар\n",
       "4     1000      Май  17.0     159.0  22.0   2253.49  ultra  Краснодар"
      ]
     },
     "execution_count": 314,
     "metadata": {},
     "output_type": "execute_result"
    }
   ],
   "source": [
    "# Вывод первых пяти строк df_merged1\n",
    "df_merged1.head()"
   ]
  },
  {
   "cell_type": "code",
   "execution_count": 315,
   "metadata": {},
   "outputs": [
    {
     "name": "stdout",
     "output_type": "stream",
     "text": [
      "<class 'pandas.core.frame.DataFrame'>\n",
      "Int64Index: 3214 entries, 0 to 3213\n",
      "Data columns (total 8 columns):\n",
      " #   Column    Non-Null Count  Dtype  \n",
      "---  ------    --------------  -----  \n",
      " 0   user_id   3214 non-null   int64  \n",
      " 1   month     3214 non-null   object \n",
      " 2   id_x      3168 non-null   float64\n",
      " 3   duration  3168 non-null   float64\n",
      " 4   id_y      2717 non-null   float64\n",
      " 5   mb_used   3203 non-null   float64\n",
      " 6   tariff    3214 non-null   object \n",
      " 7   city      3214 non-null   object \n",
      "dtypes: float64(4), int64(1), object(3)\n",
      "memory usage: 226.0+ KB\n"
     ]
    }
   ],
   "source": [
    "# Вывод общей информации по датафрейму df_merged1\n",
    "df_merged1.info()"
   ]
  },
  {
   "cell_type": "markdown",
   "metadata": {},
   "source": [
    "<div class=\"alert alert-block alert-warning\"><span style=\"color:green\"><font size=\"3\" face=\"Arial\"><b>Промежуточные выводы 3.4:<b/></span>\n",
    "    \n",
    "<span style=\"color:steelblue\"><font size=\"3\" face=\"Courier\"><b>1. Объединённую таблицу успешно создал.\\\n",
    "    2. Необходимо переименовать столбцы.\\\n",
    "    3. Датафрейм содержит пропуски в звонках, продолжительности звонков, сообщениях и интернет трафике. Скорее всего в эти месяцы расход отсутствовал, поэтому пропуски заполняю нулевым значением.</b></span></div>"
   ]
  },
  {
   "cell_type": "markdown",
   "metadata": {},
   "source": [
    "#### Предобработка объединённой таблицы df_merged1"
   ]
  },
  {
   "cell_type": "code",
   "execution_count": 316,
   "metadata": {},
   "outputs": [],
   "source": [
    "# Перевод мегабайтов в гигабайты и округление\n",
    "# 'mb_used' до целого\n",
    "df_merged1['mb_used'] = np.ceil(df_merged1['mb_used'] / 1024)"
   ]
  },
  {
   "cell_type": "code",
   "execution_count": 317,
   "metadata": {},
   "outputs": [],
   "source": [
    "# Переименование колонок в df_merged1\n",
    "df_merged1 = df_merged1.rename(columns=\n",
    "                               {'id_x': 'calls_per_month',\n",
    "                                'duration': 'duration_per_month',\n",
    "                                'id_y': 'messages_per_month',\n",
    "                                'mb_used': 'gb_per_month'}\n",
    "                               )"
   ]
  },
  {
   "cell_type": "code",
   "execution_count": 318,
   "metadata": {},
   "outputs": [
    {
     "data": {
      "text/plain": [
       "Index(['user_id', 'month', 'calls_per_month', 'duration_per_month',\n",
       "       'messages_per_month', 'gb_per_month', 'tariff', 'city'],\n",
       "      dtype='object')"
      ]
     },
     "execution_count": 318,
     "metadata": {},
     "output_type": "execute_result"
    }
   ],
   "source": [
    "# Вывод названий колонок\n",
    "df_merged1.columns"
   ]
  },
  {
   "cell_type": "code",
   "execution_count": 319,
   "metadata": {},
   "outputs": [],
   "source": [
    "# Замена пропусков на нулевое значение\n",
    "df_merged1 = df_merged1.fillna(0)"
   ]
  },
  {
   "cell_type": "code",
   "execution_count": 320,
   "metadata": {},
   "outputs": [],
   "source": [
    "# Список колонок для замены типа данных на 'int64'\n",
    "type_to_int = [\n",
    "    'calls_per_month',\n",
    "    'duration_per_month',\n",
    "    'messages_per_month',\n",
    "    'gb_per_month'\n",
    "]"
   ]
  },
  {
   "cell_type": "code",
   "execution_count": 321,
   "metadata": {},
   "outputs": [],
   "source": [
    "# Цикл для замены типа данных в df_merged1\n",
    "for column_type in type_to_int:\n",
    "    df_merged1[column_type] = df_merged1[column_type].astype('int64')"
   ]
  },
  {
   "cell_type": "code",
   "execution_count": 322,
   "metadata": {
    "scrolled": true
   },
   "outputs": [
    {
     "name": "stdout",
     "output_type": "stream",
     "text": [
      "<class 'pandas.core.frame.DataFrame'>\n",
      "Int64Index: 3214 entries, 0 to 3213\n",
      "Data columns (total 8 columns):\n",
      " #   Column              Non-Null Count  Dtype \n",
      "---  ------              --------------  ----- \n",
      " 0   user_id             3214 non-null   int64 \n",
      " 1   month               3214 non-null   object\n",
      " 2   calls_per_month     3214 non-null   int64 \n",
      " 3   duration_per_month  3214 non-null   int64 \n",
      " 4   messages_per_month  3214 non-null   int64 \n",
      " 5   gb_per_month        3214 non-null   int64 \n",
      " 6   tariff              3214 non-null   object\n",
      " 7   city                3214 non-null   object\n",
      "dtypes: int64(5), object(3)\n",
      "memory usage: 226.0+ KB\n"
     ]
    }
   ],
   "source": [
    "# Вывод общей информации по датафрейму df_merged1\n",
    "df_merged1.info()"
   ]
  },
  {
   "cell_type": "markdown",
   "metadata": {},
   "source": [
    "<div class=\"alert alert-block alert-warning\"><span style=\"color:green\"><font size=\"3\" face=\"Arial\"><b>Промежуточные выводы 3.5:<b/></span>\n",
    "    \n",
    "<span style=\"color:steelblue\"><font size=\"3\" face=\"Courier\"><b>1. Колонки переименовал.\\\n",
    "    2. Значения в колонке 'gb_per_month' округлил в большую сторону.\\\n",
    "    3. Пропуски заполнил нулевыми значениями.</b></span></div>"
   ]
  },
  {
   "cell_type": "markdown",
   "metadata": {},
   "source": [
    "#### Формирование объединённой таблицы df_full"
   ]
  },
  {
   "cell_type": "code",
   "execution_count": 323,
   "metadata": {},
   "outputs": [],
   "source": [
    "# Переименование колонки 'tariff_name'\n",
    "# в датафрейме df_tariffs\n",
    "df_tariffs = df_tariffs.rename(columns={'tariff_name': 'tariff'})"
   ]
  },
  {
   "cell_type": "code",
   "execution_count": 324,
   "metadata": {},
   "outputs": [],
   "source": [
    "# Объедидение датафрейма df_merged1\n",
    "# с датафреймом df_tariffs\n",
    "df_full = (df_merged1\n",
    "           .merge(df_tariffs,\n",
    "                  on='tariff')\n",
    "           )"
   ]
  },
  {
   "cell_type": "code",
   "execution_count": 325,
   "metadata": {},
   "outputs": [
    {
     "data": {
      "text/html": [
       "<div>\n",
       "<style scoped>\n",
       "    .dataframe tbody tr th:only-of-type {\n",
       "        vertical-align: middle;\n",
       "    }\n",
       "\n",
       "    .dataframe tbody tr th {\n",
       "        vertical-align: top;\n",
       "    }\n",
       "\n",
       "    .dataframe thead th {\n",
       "        text-align: right;\n",
       "    }\n",
       "</style>\n",
       "<table border=\"1\" class=\"dataframe\">\n",
       "  <thead>\n",
       "    <tr style=\"text-align: right;\">\n",
       "      <th></th>\n",
       "      <th>user_id</th>\n",
       "      <th>month</th>\n",
       "      <th>calls_per_month</th>\n",
       "      <th>duration_per_month</th>\n",
       "      <th>messages_per_month</th>\n",
       "      <th>gb_per_month</th>\n",
       "      <th>tariff</th>\n",
       "      <th>city</th>\n",
       "      <th>messages_included</th>\n",
       "      <th>mb_per_month_included</th>\n",
       "      <th>minutes_included</th>\n",
       "      <th>rub_monthly_fee</th>\n",
       "      <th>rub_per_gb</th>\n",
       "      <th>rub_per_message</th>\n",
       "      <th>rub_per_minute</th>\n",
       "    </tr>\n",
       "  </thead>\n",
       "  <tbody>\n",
       "    <tr>\n",
       "      <th>0</th>\n",
       "      <td>1000</td>\n",
       "      <td>Август</td>\n",
       "      <td>42</td>\n",
       "      <td>408</td>\n",
       "      <td>81</td>\n",
       "      <td>14</td>\n",
       "      <td>ultra</td>\n",
       "      <td>Краснодар</td>\n",
       "      <td>1000</td>\n",
       "      <td>30720</td>\n",
       "      <td>3000</td>\n",
       "      <td>1950</td>\n",
       "      <td>150</td>\n",
       "      <td>1</td>\n",
       "      <td>1</td>\n",
       "    </tr>\n",
       "    <tr>\n",
       "      <th>1</th>\n",
       "      <td>1000</td>\n",
       "      <td>Декабрь</td>\n",
       "      <td>38</td>\n",
       "      <td>333</td>\n",
       "      <td>70</td>\n",
       "      <td>10</td>\n",
       "      <td>ultra</td>\n",
       "      <td>Краснодар</td>\n",
       "      <td>1000</td>\n",
       "      <td>30720</td>\n",
       "      <td>3000</td>\n",
       "      <td>1950</td>\n",
       "      <td>150</td>\n",
       "      <td>1</td>\n",
       "      <td>1</td>\n",
       "    </tr>\n",
       "    <tr>\n",
       "      <th>2</th>\n",
       "      <td>1000</td>\n",
       "      <td>Июль</td>\n",
       "      <td>41</td>\n",
       "      <td>340</td>\n",
       "      <td>75</td>\n",
       "      <td>14</td>\n",
       "      <td>ultra</td>\n",
       "      <td>Краснодар</td>\n",
       "      <td>1000</td>\n",
       "      <td>30720</td>\n",
       "      <td>3000</td>\n",
       "      <td>1950</td>\n",
       "      <td>150</td>\n",
       "      <td>1</td>\n",
       "      <td>1</td>\n",
       "    </tr>\n",
       "    <tr>\n",
       "      <th>3</th>\n",
       "      <td>1000</td>\n",
       "      <td>Июнь</td>\n",
       "      <td>28</td>\n",
       "      <td>172</td>\n",
       "      <td>60</td>\n",
       "      <td>23</td>\n",
       "      <td>ultra</td>\n",
       "      <td>Краснодар</td>\n",
       "      <td>1000</td>\n",
       "      <td>30720</td>\n",
       "      <td>3000</td>\n",
       "      <td>1950</td>\n",
       "      <td>150</td>\n",
       "      <td>1</td>\n",
       "      <td>1</td>\n",
       "    </tr>\n",
       "    <tr>\n",
       "      <th>4</th>\n",
       "      <td>1000</td>\n",
       "      <td>Май</td>\n",
       "      <td>17</td>\n",
       "      <td>159</td>\n",
       "      <td>22</td>\n",
       "      <td>3</td>\n",
       "      <td>ultra</td>\n",
       "      <td>Краснодар</td>\n",
       "      <td>1000</td>\n",
       "      <td>30720</td>\n",
       "      <td>3000</td>\n",
       "      <td>1950</td>\n",
       "      <td>150</td>\n",
       "      <td>1</td>\n",
       "      <td>1</td>\n",
       "    </tr>\n",
       "  </tbody>\n",
       "</table>\n",
       "</div>"
      ],
      "text/plain": [
       "   user_id    month  calls_per_month  duration_per_month  messages_per_month  \\\n",
       "0     1000   Август               42                 408                  81   \n",
       "1     1000  Декабрь               38                 333                  70   \n",
       "2     1000     Июль               41                 340                  75   \n",
       "3     1000     Июнь               28                 172                  60   \n",
       "4     1000      Май               17                 159                  22   \n",
       "\n",
       "   gb_per_month tariff       city  messages_included  mb_per_month_included  \\\n",
       "0            14  ultra  Краснодар               1000                  30720   \n",
       "1            10  ultra  Краснодар               1000                  30720   \n",
       "2            14  ultra  Краснодар               1000                  30720   \n",
       "3            23  ultra  Краснодар               1000                  30720   \n",
       "4             3  ultra  Краснодар               1000                  30720   \n",
       "\n",
       "   minutes_included  rub_monthly_fee  rub_per_gb  rub_per_message  \\\n",
       "0              3000             1950         150                1   \n",
       "1              3000             1950         150                1   \n",
       "2              3000             1950         150                1   \n",
       "3              3000             1950         150                1   \n",
       "4              3000             1950         150                1   \n",
       "\n",
       "   rub_per_minute  \n",
       "0               1  \n",
       "1               1  \n",
       "2               1  \n",
       "3               1  \n",
       "4               1  "
      ]
     },
     "execution_count": 325,
     "metadata": {},
     "output_type": "execute_result"
    }
   ],
   "source": [
    "# Вывод первых пяти строк df_full\n",
    "df_full.head()"
   ]
  },
  {
   "cell_type": "code",
   "execution_count": 326,
   "metadata": {
    "scrolled": false
   },
   "outputs": [
    {
     "name": "stdout",
     "output_type": "stream",
     "text": [
      "<class 'pandas.core.frame.DataFrame'>\n",
      "Int64Index: 3214 entries, 0 to 3213\n",
      "Data columns (total 15 columns):\n",
      " #   Column                 Non-Null Count  Dtype \n",
      "---  ------                 --------------  ----- \n",
      " 0   user_id                3214 non-null   int64 \n",
      " 1   month                  3214 non-null   object\n",
      " 2   calls_per_month        3214 non-null   int64 \n",
      " 3   duration_per_month     3214 non-null   int64 \n",
      " 4   messages_per_month     3214 non-null   int64 \n",
      " 5   gb_per_month           3214 non-null   int64 \n",
      " 6   tariff                 3214 non-null   object\n",
      " 7   city                   3214 non-null   object\n",
      " 8   messages_included      3214 non-null   int64 \n",
      " 9   mb_per_month_included  3214 non-null   int64 \n",
      " 10  minutes_included       3214 non-null   int64 \n",
      " 11  rub_monthly_fee        3214 non-null   int64 \n",
      " 12  rub_per_gb             3214 non-null   int64 \n",
      " 13  rub_per_message        3214 non-null   int64 \n",
      " 14  rub_per_minute         3214 non-null   int64 \n",
      "dtypes: int64(12), object(3)\n",
      "memory usage: 401.8+ KB\n"
     ]
    }
   ],
   "source": [
    "# Вывод общей информации по датафрейму df_full\n",
    "df_full.info()"
   ]
  },
  {
   "cell_type": "markdown",
   "metadata": {},
   "source": [
    "<div class=\"alert alert-block alert-warning\"><span style=\"color:green\"><font size=\"3\" face=\"Arial\"><b>Промежуточные выводы 3.6:<b/></span>\n",
    "    \n",
    "<span style=\"color:steelblue\"><font size=\"3\" face=\"Courier\"><b>1. Объединённую таблицу успешно создал.\\\n",
    "    2. Пропуски отсутствуют.</b></span></div>"
   ]
  },
  {
   "cell_type": "markdown",
   "metadata": {},
   "source": [
    "#### Предобработка объединённой таблицы df_full. Проведение расчётов и добавление колонок"
   ]
  },
  {
   "cell_type": "code",
   "execution_count": 327,
   "metadata": {},
   "outputs": [],
   "source": [
    "# Добавление колонки с разницей\n",
    "# минут 'add_minutes_count'\n",
    "df_full['add_minutes_count'] = df_full['minutes_included'] - df_full['duration_per_month']"
   ]
  },
  {
   "cell_type": "code",
   "execution_count": 328,
   "metadata": {},
   "outputs": [],
   "source": [
    "# Добавление колонки с разницей\n",
    "# сообщений 'add_messages_count'\n",
    "df_full['add_messages_count'] = df_full['messages_included'] - df_full['messages_per_month']"
   ]
  },
  {
   "cell_type": "code",
   "execution_count": 329,
   "metadata": {},
   "outputs": [],
   "source": [
    "# Добавление колонки с разницей\n",
    "# гигабайт 'add_gb_count'\n",
    "df_full['add_gb_count'] = (df_full['mb_per_month_included'] / 1024 - df_full['gb_per_month']).astype('int64')"
   ]
  },
  {
   "cell_type": "code",
   "execution_count": 330,
   "metadata": {},
   "outputs": [],
   "source": [
    "# Список колонок для формирования значений\n",
    "# превышения расходов\n",
    "bad_values = ['add_minutes_count', 'add_messages_count', 'add_gb_count']"
   ]
  },
  {
   "cell_type": "code",
   "execution_count": 331,
   "metadata": {},
   "outputs": [],
   "source": [
    "# Цикл для формирования значений превышения\n",
    "# лимитов в колонках по списку bad_values\n",
    "for word in bad_values:\n",
    "    # Логическая индексация для замены положительного\n",
    "    # остатка на ноль\n",
    "    df_full.loc[\n",
    "        df_full[word] > 0,\n",
    "        word\n",
    "    ] = 0\n",
    "    # Логическая индексация для замены отрицательного\n",
    "    # остатка на размер превышения лимита\n",
    "    df_full.loc[\n",
    "        df_full[word] < 0,\n",
    "        word\n",
    "    ] = df_full[word] * -1"
   ]
  },
  {
   "cell_type": "code",
   "execution_count": 332,
   "metadata": {},
   "outputs": [],
   "source": [
    "# Создание колонки 'rub_total_income' суммарного месячного дохода\n",
    "df_full['rub_total_income'] = (\n",
    "        df_full['rub_monthly_fee'] +\n",
    "        (df_full['add_minutes_count'] * df_full['rub_per_minute']) +\n",
    "        (df_full['add_messages_count'] * df_full['rub_per_message']) +\n",
    "        (df_full['add_gb_count'] * df_full['rub_per_gb'])\n",
    ").astype('int64')"
   ]
  },
  {
   "cell_type": "code",
   "execution_count": 333,
   "metadata": {
    "scrolled": true
   },
   "outputs": [
    {
     "data": {
      "text/html": [
       "<div>\n",
       "<style scoped>\n",
       "    .dataframe tbody tr th:only-of-type {\n",
       "        vertical-align: middle;\n",
       "    }\n",
       "\n",
       "    .dataframe tbody tr th {\n",
       "        vertical-align: top;\n",
       "    }\n",
       "\n",
       "    .dataframe thead th {\n",
       "        text-align: right;\n",
       "    }\n",
       "</style>\n",
       "<table border=\"1\" class=\"dataframe\">\n",
       "  <thead>\n",
       "    <tr style=\"text-align: right;\">\n",
       "      <th></th>\n",
       "      <th>user_id</th>\n",
       "      <th>month</th>\n",
       "      <th>calls_per_month</th>\n",
       "      <th>duration_per_month</th>\n",
       "      <th>messages_per_month</th>\n",
       "      <th>gb_per_month</th>\n",
       "      <th>tariff</th>\n",
       "      <th>city</th>\n",
       "      <th>messages_included</th>\n",
       "      <th>mb_per_month_included</th>\n",
       "      <th>minutes_included</th>\n",
       "      <th>rub_monthly_fee</th>\n",
       "      <th>rub_per_gb</th>\n",
       "      <th>rub_per_message</th>\n",
       "      <th>rub_per_minute</th>\n",
       "      <th>add_minutes_count</th>\n",
       "      <th>add_messages_count</th>\n",
       "      <th>add_gb_count</th>\n",
       "      <th>rub_total_income</th>\n",
       "    </tr>\n",
       "  </thead>\n",
       "  <tbody>\n",
       "    <tr>\n",
       "      <th>0</th>\n",
       "      <td>1000</td>\n",
       "      <td>Август</td>\n",
       "      <td>42</td>\n",
       "      <td>408</td>\n",
       "      <td>81</td>\n",
       "      <td>14</td>\n",
       "      <td>ultra</td>\n",
       "      <td>Краснодар</td>\n",
       "      <td>1000</td>\n",
       "      <td>30720</td>\n",
       "      <td>3000</td>\n",
       "      <td>1950</td>\n",
       "      <td>150</td>\n",
       "      <td>1</td>\n",
       "      <td>1</td>\n",
       "      <td>0</td>\n",
       "      <td>0</td>\n",
       "      <td>0</td>\n",
       "      <td>1950</td>\n",
       "    </tr>\n",
       "    <tr>\n",
       "      <th>1</th>\n",
       "      <td>1000</td>\n",
       "      <td>Декабрь</td>\n",
       "      <td>38</td>\n",
       "      <td>333</td>\n",
       "      <td>70</td>\n",
       "      <td>10</td>\n",
       "      <td>ultra</td>\n",
       "      <td>Краснодар</td>\n",
       "      <td>1000</td>\n",
       "      <td>30720</td>\n",
       "      <td>3000</td>\n",
       "      <td>1950</td>\n",
       "      <td>150</td>\n",
       "      <td>1</td>\n",
       "      <td>1</td>\n",
       "      <td>0</td>\n",
       "      <td>0</td>\n",
       "      <td>0</td>\n",
       "      <td>1950</td>\n",
       "    </tr>\n",
       "    <tr>\n",
       "      <th>2</th>\n",
       "      <td>1000</td>\n",
       "      <td>Июль</td>\n",
       "      <td>41</td>\n",
       "      <td>340</td>\n",
       "      <td>75</td>\n",
       "      <td>14</td>\n",
       "      <td>ultra</td>\n",
       "      <td>Краснодар</td>\n",
       "      <td>1000</td>\n",
       "      <td>30720</td>\n",
       "      <td>3000</td>\n",
       "      <td>1950</td>\n",
       "      <td>150</td>\n",
       "      <td>1</td>\n",
       "      <td>1</td>\n",
       "      <td>0</td>\n",
       "      <td>0</td>\n",
       "      <td>0</td>\n",
       "      <td>1950</td>\n",
       "    </tr>\n",
       "    <tr>\n",
       "      <th>3</th>\n",
       "      <td>1000</td>\n",
       "      <td>Июнь</td>\n",
       "      <td>28</td>\n",
       "      <td>172</td>\n",
       "      <td>60</td>\n",
       "      <td>23</td>\n",
       "      <td>ultra</td>\n",
       "      <td>Краснодар</td>\n",
       "      <td>1000</td>\n",
       "      <td>30720</td>\n",
       "      <td>3000</td>\n",
       "      <td>1950</td>\n",
       "      <td>150</td>\n",
       "      <td>1</td>\n",
       "      <td>1</td>\n",
       "      <td>0</td>\n",
       "      <td>0</td>\n",
       "      <td>0</td>\n",
       "      <td>1950</td>\n",
       "    </tr>\n",
       "    <tr>\n",
       "      <th>4</th>\n",
       "      <td>1000</td>\n",
       "      <td>Май</td>\n",
       "      <td>17</td>\n",
       "      <td>159</td>\n",
       "      <td>22</td>\n",
       "      <td>3</td>\n",
       "      <td>ultra</td>\n",
       "      <td>Краснодар</td>\n",
       "      <td>1000</td>\n",
       "      <td>30720</td>\n",
       "      <td>3000</td>\n",
       "      <td>1950</td>\n",
       "      <td>150</td>\n",
       "      <td>1</td>\n",
       "      <td>1</td>\n",
       "      <td>0</td>\n",
       "      <td>0</td>\n",
       "      <td>0</td>\n",
       "      <td>1950</td>\n",
       "    </tr>\n",
       "  </tbody>\n",
       "</table>\n",
       "</div>"
      ],
      "text/plain": [
       "   user_id    month  calls_per_month  duration_per_month  messages_per_month  \\\n",
       "0     1000   Август               42                 408                  81   \n",
       "1     1000  Декабрь               38                 333                  70   \n",
       "2     1000     Июль               41                 340                  75   \n",
       "3     1000     Июнь               28                 172                  60   \n",
       "4     1000      Май               17                 159                  22   \n",
       "\n",
       "   gb_per_month tariff       city  messages_included  mb_per_month_included  \\\n",
       "0            14  ultra  Краснодар               1000                  30720   \n",
       "1            10  ultra  Краснодар               1000                  30720   \n",
       "2            14  ultra  Краснодар               1000                  30720   \n",
       "3            23  ultra  Краснодар               1000                  30720   \n",
       "4             3  ultra  Краснодар               1000                  30720   \n",
       "\n",
       "   minutes_included  rub_monthly_fee  rub_per_gb  rub_per_message  \\\n",
       "0              3000             1950         150                1   \n",
       "1              3000             1950         150                1   \n",
       "2              3000             1950         150                1   \n",
       "3              3000             1950         150                1   \n",
       "4              3000             1950         150                1   \n",
       "\n",
       "   rub_per_minute  add_minutes_count  add_messages_count  add_gb_count  \\\n",
       "0               1                  0                   0             0   \n",
       "1               1                  0                   0             0   \n",
       "2               1                  0                   0             0   \n",
       "3               1                  0                   0             0   \n",
       "4               1                  0                   0             0   \n",
       "\n",
       "   rub_total_income  \n",
       "0              1950  \n",
       "1              1950  \n",
       "2              1950  \n",
       "3              1950  \n",
       "4              1950  "
      ]
     },
     "execution_count": 333,
     "metadata": {},
     "output_type": "execute_result"
    }
   ],
   "source": [
    "# Вывод первых пяти строк df_full\n",
    "df_full.head()"
   ]
  },
  {
   "cell_type": "markdown",
   "metadata": {},
   "source": [
    "<div class=\"alert alert-block alert-warning\"><span style=\"color:green\"><font size=\"3\" face=\"Arial\"><b>Промежуточные выводы 3.7:<b/></span>\n",
    "    \n",
    "<span style=\"color:steelblue\"><font size=\"3\" face=\"Courier\"><b>Дополнительные расчёты с доавлением колонок выполнил.\\\n",
    "    Данные приведены в соответствие.</b></span></div>"
   ]
  },
  {
   "cell_type": "markdown",
   "metadata": {},
   "source": [
    "### Вывод"
   ]
  },
  {
   "cell_type": "markdown",
   "metadata": {},
   "source": [
    "<div class=\"alert alert-block alert-warning\">\n",
    "    \n",
    "<span style=\"color:steelblue\"><font size=\"3\" face=\"Courier\"><b>Добавил в датафреймы колонку с названием месяцев на русском языке.\\\n",
    "    Создал сводные таблицы с помощью функций.\\\n",
    "    Объединил таблицы методом '.merge()'.\n",
    "    Выполнил расчёты с добавлением колонок и предобработкой данных.\\\n",
    "    Подготовил основной датафрейм для исследования и анализа данных.</b></span></div>"
   ]
  },
  {
   "cell_type": "markdown",
   "metadata": {},
   "source": [
    "## Исследовательский анализ данных"
   ]
  },
  {
   "cell_type": "markdown",
   "metadata": {},
   "source": [
    "### Изучение месячных показателей пользователей тарифов Smart и Ultra: количество звонков, сообщений и интернет-трафика"
   ]
  },
  {
   "cell_type": "markdown",
   "metadata": {},
   "source": [
    "#### Изучение табличных данных"
   ]
  },
  {
   "cell_type": "code",
   "execution_count": 334,
   "metadata": {},
   "outputs": [],
   "source": [
    "# Формирование сводной таблицы df_full_tariffs с количеством минут, сообщений\n",
    "# и гигабайт в месяц по каждому тарифу с обработкой ошибок try-except\n",
    "try:\n",
    "    df_full_tariffs = make_pivot(\n",
    "        df_full,\n",
    "        ['month', 'tariff'],\n",
    "        ['duration_per_month', 'messages_per_month', 'gb_per_month'],\n",
    "        'sum'\n",
    "    )\n",
    "except:\n",
    "    print('Проверь алгоритм работы функции \"make_pivot()\"!')"
   ]
  },
  {
   "cell_type": "code",
   "execution_count": 335,
   "metadata": {
    "scrolled": false
   },
   "outputs": [
    {
     "data": {
      "text/html": [
       "<div>\n",
       "<style scoped>\n",
       "    .dataframe tbody tr th:only-of-type {\n",
       "        vertical-align: middle;\n",
       "    }\n",
       "\n",
       "    .dataframe tbody tr th {\n",
       "        vertical-align: top;\n",
       "    }\n",
       "\n",
       "    .dataframe thead th {\n",
       "        text-align: right;\n",
       "    }\n",
       "</style>\n",
       "<table border=\"1\" class=\"dataframe\">\n",
       "  <thead>\n",
       "    <tr style=\"text-align: right;\">\n",
       "      <th></th>\n",
       "      <th>month</th>\n",
       "      <th>tariff</th>\n",
       "      <th>duration_per_month</th>\n",
       "      <th>gb_per_month</th>\n",
       "      <th>messages_per_month</th>\n",
       "    </tr>\n",
       "  </thead>\n",
       "  <tbody>\n",
       "    <tr>\n",
       "      <th>0</th>\n",
       "      <td>Август</td>\n",
       "      <td>smart</td>\n",
       "      <td>99045</td>\n",
       "      <td>3933</td>\n",
       "      <td>7905</td>\n",
       "    </tr>\n",
       "    <tr>\n",
       "      <th>1</th>\n",
       "      <td>Август</td>\n",
       "      <td>ultra</td>\n",
       "      <td>54653</td>\n",
       "      <td>2097</td>\n",
       "      <td>5183</td>\n",
       "    </tr>\n",
       "    <tr>\n",
       "      <th>2</th>\n",
       "      <td>Апрель</td>\n",
       "      <td>smart</td>\n",
       "      <td>41119</td>\n",
       "      <td>1526</td>\n",
       "      <td>3443</td>\n",
       "    </tr>\n",
       "    <tr>\n",
       "      <th>3</th>\n",
       "      <td>Апрель</td>\n",
       "      <td>ultra</td>\n",
       "      <td>25191</td>\n",
       "      <td>933</td>\n",
       "      <td>1736</td>\n",
       "    </tr>\n",
       "    <tr>\n",
       "      <th>4</th>\n",
       "      <td>Декабрь</td>\n",
       "      <td>smart</td>\n",
       "      <td>161275</td>\n",
       "      <td>6134</td>\n",
       "      <td>12130</td>\n",
       "    </tr>\n",
       "    <tr>\n",
       "      <th>5</th>\n",
       "      <td>Декабрь</td>\n",
       "      <td>ultra</td>\n",
       "      <td>82400</td>\n",
       "      <td>3022</td>\n",
       "      <td>8425</td>\n",
       "    </tr>\n",
       "    <tr>\n",
       "      <th>6</th>\n",
       "      <td>Июль</td>\n",
       "      <td>smart</td>\n",
       "      <td>82079</td>\n",
       "      <td>3191</td>\n",
       "      <td>6784</td>\n",
       "    </tr>\n",
       "    <tr>\n",
       "      <th>7</th>\n",
       "      <td>Июль</td>\n",
       "      <td>ultra</td>\n",
       "      <td>49667</td>\n",
       "      <td>1866</td>\n",
       "      <td>4536</td>\n",
       "    </tr>\n",
       "    <tr>\n",
       "      <th>8</th>\n",
       "      <td>Июнь</td>\n",
       "      <td>smart</td>\n",
       "      <td>64885</td>\n",
       "      <td>2616</td>\n",
       "      <td>5478</td>\n",
       "    </tr>\n",
       "    <tr>\n",
       "      <th>9</th>\n",
       "      <td>Июнь</td>\n",
       "      <td>ultra</td>\n",
       "      <td>40295</td>\n",
       "      <td>1591</td>\n",
       "      <td>3505</td>\n",
       "    </tr>\n",
       "    <tr>\n",
       "      <th>10</th>\n",
       "      <td>Май</td>\n",
       "      <td>smart</td>\n",
       "      <td>54618</td>\n",
       "      <td>2243</td>\n",
       "      <td>4762</td>\n",
       "    </tr>\n",
       "    <tr>\n",
       "      <th>11</th>\n",
       "      <td>Май</td>\n",
       "      <td>ultra</td>\n",
       "      <td>34192</td>\n",
       "      <td>1298</td>\n",
       "      <td>2536</td>\n",
       "    </tr>\n",
       "    <tr>\n",
       "      <th>12</th>\n",
       "      <td>Март</td>\n",
       "      <td>smart</td>\n",
       "      <td>30034</td>\n",
       "      <td>1173</td>\n",
       "      <td>2453</td>\n",
       "    </tr>\n",
       "    <tr>\n",
       "      <th>13</th>\n",
       "      <td>Март</td>\n",
       "      <td>ultra</td>\n",
       "      <td>18117</td>\n",
       "      <td>653</td>\n",
       "      <td>1195</td>\n",
       "    </tr>\n",
       "    <tr>\n",
       "      <th>14</th>\n",
       "      <td>Ноябрь</td>\n",
       "      <td>smart</td>\n",
       "      <td>137544</td>\n",
       "      <td>5372</td>\n",
       "      <td>10768</td>\n",
       "    </tr>\n",
       "    <tr>\n",
       "      <th>15</th>\n",
       "      <td>Ноябрь</td>\n",
       "      <td>ultra</td>\n",
       "      <td>72545</td>\n",
       "      <td>2654</td>\n",
       "      <td>7476</td>\n",
       "    </tr>\n",
       "    <tr>\n",
       "      <th>16</th>\n",
       "      <td>Октябрь</td>\n",
       "      <td>smart</td>\n",
       "      <td>125284</td>\n",
       "      <td>4963</td>\n",
       "      <td>9927</td>\n",
       "    </tr>\n",
       "    <tr>\n",
       "      <th>17</th>\n",
       "      <td>Октябрь</td>\n",
       "      <td>ultra</td>\n",
       "      <td>68644</td>\n",
       "      <td>2468</td>\n",
       "      <td>7187</td>\n",
       "    </tr>\n",
       "    <tr>\n",
       "      <th>18</th>\n",
       "      <td>Сентябрь</td>\n",
       "      <td>smart</td>\n",
       "      <td>111439</td>\n",
       "      <td>4262</td>\n",
       "      <td>8746</td>\n",
       "    </tr>\n",
       "    <tr>\n",
       "      <th>19</th>\n",
       "      <td>Сентябрь</td>\n",
       "      <td>ultra</td>\n",
       "      <td>62036</td>\n",
       "      <td>2213</td>\n",
       "      <td>6013</td>\n",
       "    </tr>\n",
       "    <tr>\n",
       "      <th>20</th>\n",
       "      <td>Февраль</td>\n",
       "      <td>smart</td>\n",
       "      <td>17324</td>\n",
       "      <td>687</td>\n",
       "      <td>1397</td>\n",
       "    </tr>\n",
       "    <tr>\n",
       "      <th>21</th>\n",
       "      <td>Февраль</td>\n",
       "      <td>ultra</td>\n",
       "      <td>7131</td>\n",
       "      <td>288</td>\n",
       "      <td>527</td>\n",
       "    </tr>\n",
       "    <tr>\n",
       "      <th>22</th>\n",
       "      <td>Январь</td>\n",
       "      <td>smart</td>\n",
       "      <td>6931</td>\n",
       "      <td>297</td>\n",
       "      <td>620</td>\n",
       "    </tr>\n",
       "    <tr>\n",
       "      <th>23</th>\n",
       "      <td>Январь</td>\n",
       "      <td>ultra</td>\n",
       "      <td>3853</td>\n",
       "      <td>119</td>\n",
       "      <td>304</td>\n",
       "    </tr>\n",
       "  </tbody>\n",
       "</table>\n",
       "</div>"
      ],
      "text/plain": [
       "       month tariff  duration_per_month  gb_per_month  messages_per_month\n",
       "0     Август  smart               99045          3933                7905\n",
       "1     Август  ultra               54653          2097                5183\n",
       "2     Апрель  smart               41119          1526                3443\n",
       "3     Апрель  ultra               25191           933                1736\n",
       "4    Декабрь  smart              161275          6134               12130\n",
       "5    Декабрь  ultra               82400          3022                8425\n",
       "6       Июль  smart               82079          3191                6784\n",
       "7       Июль  ultra               49667          1866                4536\n",
       "8       Июнь  smart               64885          2616                5478\n",
       "9       Июнь  ultra               40295          1591                3505\n",
       "10       Май  smart               54618          2243                4762\n",
       "11       Май  ultra               34192          1298                2536\n",
       "12      Март  smart               30034          1173                2453\n",
       "13      Март  ultra               18117           653                1195\n",
       "14    Ноябрь  smart              137544          5372               10768\n",
       "15    Ноябрь  ultra               72545          2654                7476\n",
       "16   Октябрь  smart              125284          4963                9927\n",
       "17   Октябрь  ultra               68644          2468                7187\n",
       "18  Сентябрь  smart              111439          4262                8746\n",
       "19  Сентябрь  ultra               62036          2213                6013\n",
       "20   Февраль  smart               17324           687                1397\n",
       "21   Февраль  ultra                7131           288                 527\n",
       "22    Январь  smart                6931           297                 620\n",
       "23    Январь  ultra                3853           119                 304"
      ]
     },
     "execution_count": 335,
     "metadata": {},
     "output_type": "execute_result"
    }
   ],
   "source": [
    "# Вывод на экран df_full_tariffs\n",
    "df_full_tariffs"
   ]
  },
  {
   "cell_type": "code",
   "execution_count": 336,
   "metadata": {},
   "outputs": [
    {
     "data": {
      "text/html": [
       "<div>\n",
       "<style scoped>\n",
       "    .dataframe tbody tr th:only-of-type {\n",
       "        vertical-align: middle;\n",
       "    }\n",
       "\n",
       "    .dataframe tbody tr th {\n",
       "        vertical-align: top;\n",
       "    }\n",
       "\n",
       "    .dataframe thead th {\n",
       "        text-align: right;\n",
       "    }\n",
       "</style>\n",
       "<table border=\"1\" class=\"dataframe\">\n",
       "  <thead>\n",
       "    <tr style=\"text-align: right;\">\n",
       "      <th>month</th>\n",
       "      <th>tariff</th>\n",
       "      <th>Август</th>\n",
       "      <th>Апрель</th>\n",
       "      <th>Декабрь</th>\n",
       "      <th>Июль</th>\n",
       "      <th>Июнь</th>\n",
       "      <th>Май</th>\n",
       "      <th>Март</th>\n",
       "      <th>Ноябрь</th>\n",
       "      <th>Октябрь</th>\n",
       "      <th>Сентябрь</th>\n",
       "      <th>Февраль</th>\n",
       "      <th>Январь</th>\n",
       "    </tr>\n",
       "  </thead>\n",
       "  <tbody>\n",
       "    <tr>\n",
       "      <th>0</th>\n",
       "      <td>smart</td>\n",
       "      <td>99045</td>\n",
       "      <td>41119</td>\n",
       "      <td>161275</td>\n",
       "      <td>82079</td>\n",
       "      <td>64885</td>\n",
       "      <td>54618</td>\n",
       "      <td>30034</td>\n",
       "      <td>137544</td>\n",
       "      <td>125284</td>\n",
       "      <td>111439</td>\n",
       "      <td>17324</td>\n",
       "      <td>6931</td>\n",
       "    </tr>\n",
       "    <tr>\n",
       "      <th>1</th>\n",
       "      <td>ultra</td>\n",
       "      <td>54653</td>\n",
       "      <td>25191</td>\n",
       "      <td>82400</td>\n",
       "      <td>49667</td>\n",
       "      <td>40295</td>\n",
       "      <td>34192</td>\n",
       "      <td>18117</td>\n",
       "      <td>72545</td>\n",
       "      <td>68644</td>\n",
       "      <td>62036</td>\n",
       "      <td>7131</td>\n",
       "      <td>3853</td>\n",
       "    </tr>\n",
       "  </tbody>\n",
       "</table>\n",
       "</div>"
      ],
      "text/plain": [
       "month tariff  Август  Апрель  Декабрь   Июль   Июнь    Май   Март  Ноябрь  \\\n",
       "0      smart   99045   41119   161275  82079  64885  54618  30034  137544   \n",
       "1      ultra   54653   25191    82400  49667  40295  34192  18117   72545   \n",
       "\n",
       "month  Октябрь  Сентябрь  Февраль  Январь  \n",
       "0       125284    111439    17324    6931  \n",
       "1        68644     62036     7131    3853  "
      ]
     },
     "metadata": {},
     "output_type": "display_data"
    }
   ],
   "source": [
    "# Формирование сводной таблицы df_tariffs_duration с количеством минут\n",
    "# в месяц по каждому тарифу с обработкой ошибок try-except\n",
    "try:\n",
    "    df_tariffs_duration = make_pivot(\n",
    "        df_full,\n",
    "        'tariff',\n",
    "        'duration_per_month',\n",
    "        'sum',\n",
    "        'month'\n",
    "    )\n",
    "    # Вывод на экран df_tariffs_duration\n",
    "    display(df_tariffs_duration)\n",
    "except:\n",
    "    print('Проверь алгоритм работы функции \"make_pivot()\"!')"
   ]
  },
  {
   "cell_type": "code",
   "execution_count": 337,
   "metadata": {},
   "outputs": [
    {
     "data": {
      "text/html": [
       "<div>\n",
       "<style scoped>\n",
       "    .dataframe tbody tr th:only-of-type {\n",
       "        vertical-align: middle;\n",
       "    }\n",
       "\n",
       "    .dataframe tbody tr th {\n",
       "        vertical-align: top;\n",
       "    }\n",
       "\n",
       "    .dataframe thead th {\n",
       "        text-align: right;\n",
       "    }\n",
       "</style>\n",
       "<table border=\"1\" class=\"dataframe\">\n",
       "  <thead>\n",
       "    <tr style=\"text-align: right;\">\n",
       "      <th>month</th>\n",
       "      <th>tariff</th>\n",
       "      <th>Август</th>\n",
       "      <th>Апрель</th>\n",
       "      <th>Декабрь</th>\n",
       "      <th>Июль</th>\n",
       "      <th>Июнь</th>\n",
       "      <th>Май</th>\n",
       "      <th>Март</th>\n",
       "      <th>Ноябрь</th>\n",
       "      <th>Октябрь</th>\n",
       "      <th>Сентябрь</th>\n",
       "      <th>Февраль</th>\n",
       "      <th>Январь</th>\n",
       "    </tr>\n",
       "  </thead>\n",
       "  <tbody>\n",
       "    <tr>\n",
       "      <th>0</th>\n",
       "      <td>smart</td>\n",
       "      <td>3933</td>\n",
       "      <td>1526</td>\n",
       "      <td>6134</td>\n",
       "      <td>3191</td>\n",
       "      <td>2616</td>\n",
       "      <td>2243</td>\n",
       "      <td>1173</td>\n",
       "      <td>5372</td>\n",
       "      <td>4963</td>\n",
       "      <td>4262</td>\n",
       "      <td>687</td>\n",
       "      <td>297</td>\n",
       "    </tr>\n",
       "    <tr>\n",
       "      <th>1</th>\n",
       "      <td>ultra</td>\n",
       "      <td>2097</td>\n",
       "      <td>933</td>\n",
       "      <td>3022</td>\n",
       "      <td>1866</td>\n",
       "      <td>1591</td>\n",
       "      <td>1298</td>\n",
       "      <td>653</td>\n",
       "      <td>2654</td>\n",
       "      <td>2468</td>\n",
       "      <td>2213</td>\n",
       "      <td>288</td>\n",
       "      <td>119</td>\n",
       "    </tr>\n",
       "  </tbody>\n",
       "</table>\n",
       "</div>"
      ],
      "text/plain": [
       "month tariff  Август  Апрель  Декабрь  Июль  Июнь   Май  Март  Ноябрь  \\\n",
       "0      smart    3933    1526     6134  3191  2616  2243  1173    5372   \n",
       "1      ultra    2097     933     3022  1866  1591  1298   653    2654   \n",
       "\n",
       "month  Октябрь  Сентябрь  Февраль  Январь  \n",
       "0         4963      4262      687     297  \n",
       "1         2468      2213      288     119  "
      ]
     },
     "metadata": {},
     "output_type": "display_data"
    }
   ],
   "source": [
    "# Формирование сводной таблицы df_tariffs_gb с количеством гигабайт\n",
    "# в месяц по каждому тарифу с обработкой ошибок try-except\n",
    "try:\n",
    "    df_tariffs_gb = make_pivot(\n",
    "        df_full,\n",
    "        'tariff',\n",
    "        'gb_per_month',\n",
    "        'sum',\n",
    "        'month'\n",
    "    )\n",
    "    # Вывод на экран df_tariffs_gb\n",
    "    display(df_tariffs_gb)\n",
    "except:\n",
    "    print('Проверь алгоритм работы функции \"make_pivot()\"!')"
   ]
  },
  {
   "cell_type": "code",
   "execution_count": 338,
   "metadata": {},
   "outputs": [
    {
     "data": {
      "text/html": [
       "<div>\n",
       "<style scoped>\n",
       "    .dataframe tbody tr th:only-of-type {\n",
       "        vertical-align: middle;\n",
       "    }\n",
       "\n",
       "    .dataframe tbody tr th {\n",
       "        vertical-align: top;\n",
       "    }\n",
       "\n",
       "    .dataframe thead th {\n",
       "        text-align: right;\n",
       "    }\n",
       "</style>\n",
       "<table border=\"1\" class=\"dataframe\">\n",
       "  <thead>\n",
       "    <tr style=\"text-align: right;\">\n",
       "      <th>month</th>\n",
       "      <th>tariff</th>\n",
       "      <th>Август</th>\n",
       "      <th>Апрель</th>\n",
       "      <th>Декабрь</th>\n",
       "      <th>Июль</th>\n",
       "      <th>Июнь</th>\n",
       "      <th>Май</th>\n",
       "      <th>Март</th>\n",
       "      <th>Ноябрь</th>\n",
       "      <th>Октябрь</th>\n",
       "      <th>Сентябрь</th>\n",
       "      <th>Февраль</th>\n",
       "      <th>Январь</th>\n",
       "    </tr>\n",
       "  </thead>\n",
       "  <tbody>\n",
       "    <tr>\n",
       "      <th>0</th>\n",
       "      <td>smart</td>\n",
       "      <td>7905</td>\n",
       "      <td>3443</td>\n",
       "      <td>12130</td>\n",
       "      <td>6784</td>\n",
       "      <td>5478</td>\n",
       "      <td>4762</td>\n",
       "      <td>2453</td>\n",
       "      <td>10768</td>\n",
       "      <td>9927</td>\n",
       "      <td>8746</td>\n",
       "      <td>1397</td>\n",
       "      <td>620</td>\n",
       "    </tr>\n",
       "    <tr>\n",
       "      <th>1</th>\n",
       "      <td>ultra</td>\n",
       "      <td>5183</td>\n",
       "      <td>1736</td>\n",
       "      <td>8425</td>\n",
       "      <td>4536</td>\n",
       "      <td>3505</td>\n",
       "      <td>2536</td>\n",
       "      <td>1195</td>\n",
       "      <td>7476</td>\n",
       "      <td>7187</td>\n",
       "      <td>6013</td>\n",
       "      <td>527</td>\n",
       "      <td>304</td>\n",
       "    </tr>\n",
       "  </tbody>\n",
       "</table>\n",
       "</div>"
      ],
      "text/plain": [
       "month tariff  Август  Апрель  Декабрь  Июль  Июнь   Май  Март  Ноябрь  \\\n",
       "0      smart    7905    3443    12130  6784  5478  4762  2453   10768   \n",
       "1      ultra    5183    1736     8425  4536  3505  2536  1195    7476   \n",
       "\n",
       "month  Октябрь  Сентябрь  Февраль  Январь  \n",
       "0         9927      8746     1397     620  \n",
       "1         7187      6013      527     304  "
      ]
     },
     "metadata": {},
     "output_type": "display_data"
    }
   ],
   "source": [
    "# Формирование сводной таблицы df_tariffs_messages с количеством сообщений\n",
    "# в месяц по каждому тарифу с обработкой ошибок try-except\n",
    "try:\n",
    "    df_tariffs_messages = make_pivot(\n",
    "        df_full,\n",
    "        'tariff',\n",
    "        'messages_per_month',\n",
    "        'sum',\n",
    "        'month'\n",
    "    )\n",
    "    # Вывод на экран df_tariffs_messages\n",
    "    display(df_tariffs_messages)\n",
    "except:\n",
    "    print('Проверь алгоритм работы функции \"make_pivot()\"!')"
   ]
  },
  {
   "cell_type": "markdown",
   "metadata": {},
   "source": [
    "<div class=\"alert alert-block alert-warning\"><span style=\"color:green\"><font size=\"3\" face=\"Arial\"><b>Промежуточные выводы 4.1:<b/></span>\n",
    "    \n",
    "<span style=\"color:steelblue\"><font size=\"3\" face=\"Courier\"><b>У пользователей тарифов Smart и Ultra прослеживается общая закономерность:\\\n",
    "    - Количество звонков, сообщений и интернет-трафика растёт, начиная с августа, с пиковым значением в декабре. Возможно это связано с началом учебного сезона. А декабрьский рост обусловлен подготовкой к новогодним праздникам и непосредственно новогодними поздравлениями.\\\n",
    "    - Январь и февраль имеют самые низкие показатели. Возможно сказывается постновогодний отдых.</b></span></div>"
   ]
  },
  {
   "cell_type": "markdown",
   "metadata": {},
   "source": [
    "#### Изучение метрик локации данных"
   ]
  },
  {
   "cell_type": "code",
   "execution_count": 339,
   "metadata": {},
   "outputs": [
    {
     "name": "stdout",
     "output_type": "stream",
     "text": [
      "  tariff  user_id\n",
      "0  smart      351\n",
      "1  ultra      149\n"
     ]
    }
   ],
   "source": [
    "# Вывод количества пользователей по тарифам\n",
    "print(make_pivot(\n",
    "    df_users,\n",
    "    'tariff',\n",
    "    'user_id',\n",
    "    'count'\n",
    "))"
   ]
  },
  {
   "cell_type": "code",
   "execution_count": 340,
   "metadata": {},
   "outputs": [],
   "source": [
    "# Список колонок для расчёта среднего,\n",
    "# дисперсии и стандартного отклонения\n",
    "list1 = ['duration_per_month', 'messages_per_month', 'gb_per_month']"
   ]
  },
  {
   "cell_type": "code",
   "execution_count": 341,
   "metadata": {},
   "outputs": [],
   "source": [
    "# Список функций для параметра функции, формирующей\n",
    "# сводную таблицу df_full_metric\n",
    "list4 = [\n",
    "    'mean', \n",
    "    'var', \n",
    "    'std'\n",
    "]"
   ]
  },
  {
   "cell_type": "code",
   "execution_count": 342,
   "metadata": {
    "scrolled": false
   },
   "outputs": [
    {
     "data": {
      "text/html": [
       "<div>\n",
       "<style scoped>\n",
       "    .dataframe tbody tr th:only-of-type {\n",
       "        vertical-align: middle;\n",
       "    }\n",
       "\n",
       "    .dataframe tbody tr th {\n",
       "        vertical-align: top;\n",
       "    }\n",
       "\n",
       "    .dataframe thead tr th {\n",
       "        text-align: left;\n",
       "    }\n",
       "</style>\n",
       "<table border=\"1\" class=\"dataframe\">\n",
       "  <thead>\n",
       "    <tr>\n",
       "      <th></th>\n",
       "      <th>month</th>\n",
       "      <th>tariff</th>\n",
       "      <th colspan=\"3\" halign=\"left\">mean</th>\n",
       "      <th colspan=\"3\" halign=\"left\">var</th>\n",
       "      <th colspan=\"3\" halign=\"left\">std</th>\n",
       "    </tr>\n",
       "    <tr>\n",
       "      <th></th>\n",
       "      <th></th>\n",
       "      <th></th>\n",
       "      <th>duration_per_month</th>\n",
       "      <th>gb_per_month</th>\n",
       "      <th>messages_per_month</th>\n",
       "      <th>duration_per_month</th>\n",
       "      <th>gb_per_month</th>\n",
       "      <th>messages_per_month</th>\n",
       "      <th>duration_per_month</th>\n",
       "      <th>gb_per_month</th>\n",
       "      <th>messages_per_month</th>\n",
       "    </tr>\n",
       "  </thead>\n",
       "  <tbody>\n",
       "    <tr>\n",
       "      <th>0</th>\n",
       "      <td>Август</td>\n",
       "      <td>smart</td>\n",
       "      <td>421.468085</td>\n",
       "      <td>16.736170</td>\n",
       "      <td>33.638298</td>\n",
       "      <td>34793.583379</td>\n",
       "      <td>30.041207</td>\n",
       "      <td>838.257501</td>\n",
       "      <td>186.530382</td>\n",
       "      <td>5.480986</td>\n",
       "      <td>28.952677</td>\n",
       "    </tr>\n",
       "    <tr>\n",
       "      <th>1</th>\n",
       "      <td>Август</td>\n",
       "      <td>ultra</td>\n",
       "      <td>510.775701</td>\n",
       "      <td>19.598131</td>\n",
       "      <td>48.439252</td>\n",
       "      <td>97956.496385</td>\n",
       "      <td>105.148298</td>\n",
       "      <td>2171.739199</td>\n",
       "      <td>312.980026</td>\n",
       "      <td>10.254184</td>\n",
       "      <td>46.601923</td>\n",
       "    </tr>\n",
       "    <tr>\n",
       "      <th>2</th>\n",
       "      <td>Апрель</td>\n",
       "      <td>smart</td>\n",
       "      <td>367.133929</td>\n",
       "      <td>13.625000</td>\n",
       "      <td>30.741071</td>\n",
       "      <td>34778.207127</td>\n",
       "      <td>31.299550</td>\n",
       "      <td>602.139559</td>\n",
       "      <td>186.489161</td>\n",
       "      <td>5.594600</td>\n",
       "      <td>24.538532</td>\n",
       "    </tr>\n",
       "    <tr>\n",
       "      <th>3</th>\n",
       "      <td>Апрель</td>\n",
       "      <td>ultra</td>\n",
       "      <td>458.018182</td>\n",
       "      <td>16.963636</td>\n",
       "      <td>31.563636</td>\n",
       "      <td>71653.870034</td>\n",
       "      <td>89.443098</td>\n",
       "      <td>1407.287542</td>\n",
       "      <td>267.682405</td>\n",
       "      <td>9.457436</td>\n",
       "      <td>37.513831</td>\n",
       "    </tr>\n",
       "    <tr>\n",
       "      <th>4</th>\n",
       "      <td>Декабрь</td>\n",
       "      <td>smart</td>\n",
       "      <td>478.560831</td>\n",
       "      <td>18.201780</td>\n",
       "      <td>35.994065</td>\n",
       "      <td>39698.622033</td>\n",
       "      <td>29.786544</td>\n",
       "      <td>934.952346</td>\n",
       "      <td>199.245131</td>\n",
       "      <td>5.457705</td>\n",
       "      <td>30.576990</td>\n",
       "    </tr>\n",
       "    <tr>\n",
       "      <th>5</th>\n",
       "      <td>Декабрь</td>\n",
       "      <td>ultra</td>\n",
       "      <td>592.805755</td>\n",
       "      <td>21.741007</td>\n",
       "      <td>60.611511</td>\n",
       "      <td>117276.331561</td>\n",
       "      <td>103.236784</td>\n",
       "      <td>2681.978417</td>\n",
       "      <td>342.456321</td>\n",
       "      <td>10.160550</td>\n",
       "      <td>51.787821</td>\n",
       "    </tr>\n",
       "    <tr>\n",
       "      <th>6</th>\n",
       "      <td>Июль</td>\n",
       "      <td>smart</td>\n",
       "      <td>408.353234</td>\n",
       "      <td>15.875622</td>\n",
       "      <td>33.751244</td>\n",
       "      <td>32250.269602</td>\n",
       "      <td>33.419453</td>\n",
       "      <td>799.887811</td>\n",
       "      <td>179.583601</td>\n",
       "      <td>5.780956</td>\n",
       "      <td>28.282288</td>\n",
       "    </tr>\n",
       "    <tr>\n",
       "      <th>7</th>\n",
       "      <td>Июль</td>\n",
       "      <td>ultra</td>\n",
       "      <td>545.791209</td>\n",
       "      <td>20.505495</td>\n",
       "      <td>49.846154</td>\n",
       "      <td>94322.278144</td>\n",
       "      <td>96.430525</td>\n",
       "      <td>2372.042735</td>\n",
       "      <td>307.119322</td>\n",
       "      <td>9.819905</td>\n",
       "      <td>48.703621</td>\n",
       "    </tr>\n",
       "    <tr>\n",
       "      <th>8</th>\n",
       "      <td>Июнь</td>\n",
       "      <td>smart</td>\n",
       "      <td>395.640244</td>\n",
       "      <td>15.951220</td>\n",
       "      <td>33.402439</td>\n",
       "      <td>30742.918861</td>\n",
       "      <td>31.911716</td>\n",
       "      <td>806.806374</td>\n",
       "      <td>175.336587</td>\n",
       "      <td>5.649046</td>\n",
       "      <td>28.404337</td>\n",
       "    </tr>\n",
       "    <tr>\n",
       "      <th>9</th>\n",
       "      <td>Июнь</td>\n",
       "      <td>ultra</td>\n",
       "      <td>479.702381</td>\n",
       "      <td>18.940476</td>\n",
       "      <td>41.726190</td>\n",
       "      <td>91535.946500</td>\n",
       "      <td>82.394005</td>\n",
       "      <td>1986.297619</td>\n",
       "      <td>302.549081</td>\n",
       "      <td>9.077114</td>\n",
       "      <td>44.567899</td>\n",
       "    </tr>\n",
       "    <tr>\n",
       "      <th>10</th>\n",
       "      <td>Май</td>\n",
       "      <td>smart</td>\n",
       "      <td>387.361702</td>\n",
       "      <td>15.907801</td>\n",
       "      <td>33.773050</td>\n",
       "      <td>34820.061094</td>\n",
       "      <td>34.370010</td>\n",
       "      <td>730.990983</td>\n",
       "      <td>186.601343</td>\n",
       "      <td>5.862594</td>\n",
       "      <td>27.036845</td>\n",
       "    </tr>\n",
       "    <tr>\n",
       "      <th>11</th>\n",
       "      <td>Май</td>\n",
       "      <td>ultra</td>\n",
       "      <td>510.328358</td>\n",
       "      <td>19.373134</td>\n",
       "      <td>37.850746</td>\n",
       "      <td>83870.193578</td>\n",
       "      <td>95.631389</td>\n",
       "      <td>1624.644052</td>\n",
       "      <td>289.603511</td>\n",
       "      <td>9.779130</td>\n",
       "      <td>40.306874</td>\n",
       "    </tr>\n",
       "    <tr>\n",
       "      <th>12</th>\n",
       "      <td>Март</td>\n",
       "      <td>smart</td>\n",
       "      <td>390.051948</td>\n",
       "      <td>15.233766</td>\n",
       "      <td>31.857143</td>\n",
       "      <td>36823.155161</td>\n",
       "      <td>32.549897</td>\n",
       "      <td>718.492481</td>\n",
       "      <td>191.893604</td>\n",
       "      <td>5.705252</td>\n",
       "      <td>26.804710</td>\n",
       "    </tr>\n",
       "    <tr>\n",
       "      <th>13</th>\n",
       "      <td>Март</td>\n",
       "      <td>ultra</td>\n",
       "      <td>489.648649</td>\n",
       "      <td>17.648649</td>\n",
       "      <td>32.297297</td>\n",
       "      <td>111384.900901</td>\n",
       "      <td>114.345345</td>\n",
       "      <td>1732.381381</td>\n",
       "      <td>333.743765</td>\n",
       "      <td>10.693238</td>\n",
       "      <td>41.621886</td>\n",
       "    </tr>\n",
       "    <tr>\n",
       "      <th>14</th>\n",
       "      <td>Ноябрь</td>\n",
       "      <td>smart</td>\n",
       "      <td>435.265823</td>\n",
       "      <td>17.000000</td>\n",
       "      <td>34.075949</td>\n",
       "      <td>31605.237050</td>\n",
       "      <td>27.180952</td>\n",
       "      <td>805.937071</td>\n",
       "      <td>177.778618</td>\n",
       "      <td>5.213535</td>\n",
       "      <td>28.389031</td>\n",
       "    </tr>\n",
       "    <tr>\n",
       "      <th>15</th>\n",
       "      <td>Ноябрь</td>\n",
       "      <td>ultra</td>\n",
       "      <td>541.380597</td>\n",
       "      <td>19.805970</td>\n",
       "      <td>55.791045</td>\n",
       "      <td>96570.057064</td>\n",
       "      <td>93.796656</td>\n",
       "      <td>2476.948491</td>\n",
       "      <td>310.757232</td>\n",
       "      <td>9.684867</td>\n",
       "      <td>49.768951</td>\n",
       "    </tr>\n",
       "    <tr>\n",
       "      <th>16</th>\n",
       "      <td>Октябрь</td>\n",
       "      <td>smart</td>\n",
       "      <td>426.136054</td>\n",
       "      <td>16.880952</td>\n",
       "      <td>33.765306</td>\n",
       "      <td>35392.336375</td>\n",
       "      <td>32.897042</td>\n",
       "      <td>816.111966</td>\n",
       "      <td>188.128510</td>\n",
       "      <td>5.735594</td>\n",
       "      <td>28.567673</td>\n",
       "    </tr>\n",
       "    <tr>\n",
       "      <th>17</th>\n",
       "      <td>Октябрь</td>\n",
       "      <td>ultra</td>\n",
       "      <td>558.081301</td>\n",
       "      <td>20.065041</td>\n",
       "      <td>58.430894</td>\n",
       "      <td>106464.583500</td>\n",
       "      <td>91.258030</td>\n",
       "      <td>2697.181661</td>\n",
       "      <td>326.289110</td>\n",
       "      <td>9.552907</td>\n",
       "      <td>51.934398</td>\n",
       "    </tr>\n",
       "    <tr>\n",
       "      <th>18</th>\n",
       "      <td>Сентябрь</td>\n",
       "      <td>smart</td>\n",
       "      <td>428.611538</td>\n",
       "      <td>16.392308</td>\n",
       "      <td>33.638462</td>\n",
       "      <td>33535.342723</td>\n",
       "      <td>25.884110</td>\n",
       "      <td>790.617820</td>\n",
       "      <td>183.126576</td>\n",
       "      <td>5.087643</td>\n",
       "      <td>28.117927</td>\n",
       "    </tr>\n",
       "    <tr>\n",
       "      <th>19</th>\n",
       "      <td>Сентябрь</td>\n",
       "      <td>ultra</td>\n",
       "      <td>539.443478</td>\n",
       "      <td>19.243478</td>\n",
       "      <td>52.286957</td>\n",
       "      <td>105716.775286</td>\n",
       "      <td>86.255988</td>\n",
       "      <td>2152.855530</td>\n",
       "      <td>325.141162</td>\n",
       "      <td>9.287410</td>\n",
       "      <td>46.398874</td>\n",
       "    </tr>\n",
       "    <tr>\n",
       "      <th>20</th>\n",
       "      <td>Февраль</td>\n",
       "      <td>smart</td>\n",
       "      <td>298.689655</td>\n",
       "      <td>11.844828</td>\n",
       "      <td>24.086207</td>\n",
       "      <td>36412.287961</td>\n",
       "      <td>37.150938</td>\n",
       "      <td>473.097701</td>\n",
       "      <td>190.820041</td>\n",
       "      <td>6.095157</td>\n",
       "      <td>21.750809</td>\n",
       "    </tr>\n",
       "    <tr>\n",
       "      <th>21</th>\n",
       "      <td>Февраль</td>\n",
       "      <td>ultra</td>\n",
       "      <td>297.125000</td>\n",
       "      <td>12.000000</td>\n",
       "      <td>21.958333</td>\n",
       "      <td>87919.679348</td>\n",
       "      <td>109.130435</td>\n",
       "      <td>716.824275</td>\n",
       "      <td>296.512528</td>\n",
       "      <td>10.446551</td>\n",
       "      <td>26.773574</td>\n",
       "    </tr>\n",
       "    <tr>\n",
       "      <th>22</th>\n",
       "      <td>Январь</td>\n",
       "      <td>smart</td>\n",
       "      <td>203.852941</td>\n",
       "      <td>8.735294</td>\n",
       "      <td>18.235294</td>\n",
       "      <td>23787.341355</td>\n",
       "      <td>39.412656</td>\n",
       "      <td>262.367201</td>\n",
       "      <td>154.231454</td>\n",
       "      <td>6.277950</td>\n",
       "      <td>16.197753</td>\n",
       "    </tr>\n",
       "    <tr>\n",
       "      <th>23</th>\n",
       "      <td>Январь</td>\n",
       "      <td>ultra</td>\n",
       "      <td>428.111111</td>\n",
       "      <td>13.222222</td>\n",
       "      <td>33.777778</td>\n",
       "      <td>72769.361111</td>\n",
       "      <td>44.444444</td>\n",
       "      <td>940.694444</td>\n",
       "      <td>269.757968</td>\n",
       "      <td>6.666667</td>\n",
       "      <td>30.670742</td>\n",
       "    </tr>\n",
       "  </tbody>\n",
       "</table>\n",
       "</div>"
      ],
      "text/plain": [
       "       month tariff               mean                                  \\\n",
       "                    duration_per_month gb_per_month messages_per_month   \n",
       "0     Август  smart         421.468085    16.736170          33.638298   \n",
       "1     Август  ultra         510.775701    19.598131          48.439252   \n",
       "2     Апрель  smart         367.133929    13.625000          30.741071   \n",
       "3     Апрель  ultra         458.018182    16.963636          31.563636   \n",
       "4    Декабрь  smart         478.560831    18.201780          35.994065   \n",
       "5    Декабрь  ultra         592.805755    21.741007          60.611511   \n",
       "6       Июль  smart         408.353234    15.875622          33.751244   \n",
       "7       Июль  ultra         545.791209    20.505495          49.846154   \n",
       "8       Июнь  smart         395.640244    15.951220          33.402439   \n",
       "9       Июнь  ultra         479.702381    18.940476          41.726190   \n",
       "10       Май  smart         387.361702    15.907801          33.773050   \n",
       "11       Май  ultra         510.328358    19.373134          37.850746   \n",
       "12      Март  smart         390.051948    15.233766          31.857143   \n",
       "13      Март  ultra         489.648649    17.648649          32.297297   \n",
       "14    Ноябрь  smart         435.265823    17.000000          34.075949   \n",
       "15    Ноябрь  ultra         541.380597    19.805970          55.791045   \n",
       "16   Октябрь  smart         426.136054    16.880952          33.765306   \n",
       "17   Октябрь  ultra         558.081301    20.065041          58.430894   \n",
       "18  Сентябрь  smart         428.611538    16.392308          33.638462   \n",
       "19  Сентябрь  ultra         539.443478    19.243478          52.286957   \n",
       "20   Февраль  smart         298.689655    11.844828          24.086207   \n",
       "21   Февраль  ultra         297.125000    12.000000          21.958333   \n",
       "22    Январь  smart         203.852941     8.735294          18.235294   \n",
       "23    Январь  ultra         428.111111    13.222222          33.777778   \n",
       "\n",
       "                  var                                                std  \\\n",
       "   duration_per_month gb_per_month messages_per_month duration_per_month   \n",
       "0        34793.583379    30.041207         838.257501         186.530382   \n",
       "1        97956.496385   105.148298        2171.739199         312.980026   \n",
       "2        34778.207127    31.299550         602.139559         186.489161   \n",
       "3        71653.870034    89.443098        1407.287542         267.682405   \n",
       "4        39698.622033    29.786544         934.952346         199.245131   \n",
       "5       117276.331561   103.236784        2681.978417         342.456321   \n",
       "6        32250.269602    33.419453         799.887811         179.583601   \n",
       "7        94322.278144    96.430525        2372.042735         307.119322   \n",
       "8        30742.918861    31.911716         806.806374         175.336587   \n",
       "9        91535.946500    82.394005        1986.297619         302.549081   \n",
       "10       34820.061094    34.370010         730.990983         186.601343   \n",
       "11       83870.193578    95.631389        1624.644052         289.603511   \n",
       "12       36823.155161    32.549897         718.492481         191.893604   \n",
       "13      111384.900901   114.345345        1732.381381         333.743765   \n",
       "14       31605.237050    27.180952         805.937071         177.778618   \n",
       "15       96570.057064    93.796656        2476.948491         310.757232   \n",
       "16       35392.336375    32.897042         816.111966         188.128510   \n",
       "17      106464.583500    91.258030        2697.181661         326.289110   \n",
       "18       33535.342723    25.884110         790.617820         183.126576   \n",
       "19      105716.775286    86.255988        2152.855530         325.141162   \n",
       "20       36412.287961    37.150938         473.097701         190.820041   \n",
       "21       87919.679348   109.130435         716.824275         296.512528   \n",
       "22       23787.341355    39.412656         262.367201         154.231454   \n",
       "23       72769.361111    44.444444         940.694444         269.757968   \n",
       "\n",
       "                                    \n",
       "   gb_per_month messages_per_month  \n",
       "0      5.480986          28.952677  \n",
       "1     10.254184          46.601923  \n",
       "2      5.594600          24.538532  \n",
       "3      9.457436          37.513831  \n",
       "4      5.457705          30.576990  \n",
       "5     10.160550          51.787821  \n",
       "6      5.780956          28.282288  \n",
       "7      9.819905          48.703621  \n",
       "8      5.649046          28.404337  \n",
       "9      9.077114          44.567899  \n",
       "10     5.862594          27.036845  \n",
       "11     9.779130          40.306874  \n",
       "12     5.705252          26.804710  \n",
       "13    10.693238          41.621886  \n",
       "14     5.213535          28.389031  \n",
       "15     9.684867          49.768951  \n",
       "16     5.735594          28.567673  \n",
       "17     9.552907          51.934398  \n",
       "18     5.087643          28.117927  \n",
       "19     9.287410          46.398874  \n",
       "20     6.095157          21.750809  \n",
       "21    10.446551          26.773574  \n",
       "22     6.277950          16.197753  \n",
       "23     6.666667          30.670742  "
      ]
     },
     "metadata": {},
     "output_type": "display_data"
    }
   ],
   "source": [
    "# Формирование сводной таблицы df_full_metric1 со значениями среднего,\n",
    "# дисперсии и стандартного отклонения по количеству минут, сообщений\n",
    "# и гигабайт в каждый месяц по каждому тарифу с обработкой ошибок\n",
    "# try-except\n",
    "try:\n",
    "    df_full_metric1 = make_pivot(\n",
    "        df_full,\n",
    "        ['month', 'tariff'],\n",
    "        list1,\n",
    "        list4\n",
    "    )\n",
    "    # Вывод на экран df_full_metric1\n",
    "    display(df_full_metric1)\n",
    "except:\n",
    "    print('Проверь алгоритм работы функции \"make_pivot()\"!')"
   ]
  },
  {
   "cell_type": "code",
   "execution_count": 343,
   "metadata": {},
   "outputs": [
    {
     "data": {
      "text/html": [
       "<div>\n",
       "<style scoped>\n",
       "    .dataframe tbody tr th:only-of-type {\n",
       "        vertical-align: middle;\n",
       "    }\n",
       "\n",
       "    .dataframe tbody tr th {\n",
       "        vertical-align: top;\n",
       "    }\n",
       "\n",
       "    .dataframe thead tr th {\n",
       "        text-align: left;\n",
       "    }\n",
       "</style>\n",
       "<table border=\"1\" class=\"dataframe\">\n",
       "  <thead>\n",
       "    <tr>\n",
       "      <th></th>\n",
       "      <th>tariff</th>\n",
       "      <th colspan=\"3\" halign=\"left\">mean</th>\n",
       "      <th colspan=\"3\" halign=\"left\">var</th>\n",
       "      <th colspan=\"3\" halign=\"left\">std</th>\n",
       "    </tr>\n",
       "    <tr>\n",
       "      <th></th>\n",
       "      <th></th>\n",
       "      <th>duration_per_month</th>\n",
       "      <th>gb_per_month</th>\n",
       "      <th>messages_per_month</th>\n",
       "      <th>duration_per_month</th>\n",
       "      <th>gb_per_month</th>\n",
       "      <th>messages_per_month</th>\n",
       "      <th>duration_per_month</th>\n",
       "      <th>gb_per_month</th>\n",
       "      <th>messages_per_month</th>\n",
       "    </tr>\n",
       "  </thead>\n",
       "  <tbody>\n",
       "    <tr>\n",
       "      <th>0</th>\n",
       "      <td>smart</td>\n",
       "      <td>417.934948</td>\n",
       "      <td>16.328847</td>\n",
       "      <td>33.384029</td>\n",
       "      <td>36219.315784</td>\n",
       "      <td>33.028705</td>\n",
       "      <td>796.812958</td>\n",
       "      <td>190.313730</td>\n",
       "      <td>5.747061</td>\n",
       "      <td>28.227876</td>\n",
       "    </tr>\n",
       "    <tr>\n",
       "      <th>1</th>\n",
       "      <td>ultra</td>\n",
       "      <td>526.623350</td>\n",
       "      <td>19.494416</td>\n",
       "      <td>49.363452</td>\n",
       "      <td>100873.633397</td>\n",
       "      <td>97.091686</td>\n",
       "      <td>2285.266143</td>\n",
       "      <td>317.606098</td>\n",
       "      <td>9.853511</td>\n",
       "      <td>47.804457</td>\n",
       "    </tr>\n",
       "  </tbody>\n",
       "</table>\n",
       "</div>"
      ],
      "text/plain": [
       "  tariff               mean                                  \\\n",
       "         duration_per_month gb_per_month messages_per_month   \n",
       "0  smart         417.934948    16.328847          33.384029   \n",
       "1  ultra         526.623350    19.494416          49.363452   \n",
       "\n",
       "                 var                                                std  \\\n",
       "  duration_per_month gb_per_month messages_per_month duration_per_month   \n",
       "0       36219.315784    33.028705         796.812958         190.313730   \n",
       "1      100873.633397    97.091686        2285.266143         317.606098   \n",
       "\n",
       "                                   \n",
       "  gb_per_month messages_per_month  \n",
       "0     5.747061          28.227876  \n",
       "1     9.853511          47.804457  "
      ]
     },
     "metadata": {},
     "output_type": "display_data"
    }
   ],
   "source": [
    "# Формирование сводной таблицы df_full_metric2 со значениями среднего,\n",
    "# дисперсии и стандартного отклонения по количеству минут, сообщений\n",
    "# и гигабайт в месяц по каждому тарифу с обработкой ошибок\n",
    "# try-except\n",
    "try:\n",
    "    df_full_metric2 = make_pivot(\n",
    "        df_full,\n",
    "        'tariff',\n",
    "        list1,\n",
    "        list4\n",
    "    )\n",
    "    # Вывод на экран df_full_metric2\n",
    "    display(df_full_metric2)\n",
    "except:\n",
    "    print('Проверь алгоритм работы функции \"make_pivot()\"!')"
   ]
  },
  {
   "cell_type": "markdown",
   "metadata": {},
   "source": [
    "<div class=\"alert alert-block alert-warning\"><span style=\"color:green\"><font size=\"3\" face=\"Arial\"><b>Промежуточные выводы 4.2:<b/></span>\n",
    "    \n",
    "<span style=\"color:steelblue\"><font size=\"3\" face=\"Courier\"><b>1. Количество минут, сообщений и гигабайт, включённых в пакет, влияет на поведение пользователей.\\\n",
    "    Чем больше включено, тем больше расходуют.\\\n",
    "    2. Большие значения стандартного отклонения говорят о широком диапазоне разброса величин и показывают на сколько значения в выборке отличаются от среднего.</b></span></div>"
   ]
  },
  {
   "cell_type": "markdown",
   "metadata": {},
   "source": [
    "#### Изучение гистограмм"
   ]
  },
  {
   "cell_type": "code",
   "execution_count": 344,
   "metadata": {},
   "outputs": [],
   "source": [
    "# Формирование датафрейма с названием тарифа,\n",
    "# расходом минут, сообщений, гигабайт и выручкой\n",
    "df_consumption = df_full.loc[:, ['tariff',\n",
    "                                 'duration_per_month',\n",
    "                                 'messages_per_month',\n",
    "                                 'gb_per_month',\n",
    "                                 'rub_total_income']\n",
    "                            ]"
   ]
  },
  {
   "cell_type": "code",
   "execution_count": 345,
   "metadata": {},
   "outputs": [],
   "source": [
    "# Список титулов для цикла, формирующего гистограммы\n",
    "list4 = ['Минуты', 'Сообщения', 'Гигабайты']"
   ]
  },
  {
   "cell_type": "code",
   "execution_count": 346,
   "metadata": {
    "scrolled": false
   },
   "outputs": [
    {
     "data": {
      "image/png": "[encoded data removed]",
      "text/plain": [
       "<Figure size 864x432 with 1 Axes>"
      ]
     },
     "metadata": {
      "needs_background": "light"
     },
     "output_type": "display_data"
    },
    {
     "data": {
      "image/png": "[encoded data removed]",
      "text/plain": [
       "<Figure size 864x432 with 1 Axes>"
      ]
     },
     "metadata": {
      "needs_background": "light"
     },
     "output_type": "display_data"
    },
    {
     "data": {
      "image/png": "[encoded data removed]",
      "text/plain": [
       "<Figure size 864x432 with 1 Axes>"
      ]
     },
     "metadata": {
      "needs_background": "light"
     },
     "output_type": "display_data"
    }
   ],
   "source": [
    "# Цикл построения совмещённых гистограмм по тарифам\n",
    "for b in range(len(list1)):\n",
    "    # Создание переменной, включающей в себя гистограмму для тарифа smart\n",
    "    # по израсходованному количеству услуг из списка list4\n",
    "    ax = df_consumption.query('tariff == \"smart\"').plot(\n",
    "        kind='hist',\n",
    "        y=list1[b],\n",
    "        bins=15,\n",
    "        alpha=0.6,\n",
    "        grid=True,\n",
    "        title=list4[b],\n",
    "        label='Smart',\n",
    "        legend=True,\n",
    "        figsize=(12, 6)\n",
    "    )\n",
    "    # Формирование совмещённой гистограммы для тарифов smart и ultra\n",
    "    # по израсходованному количеству услуг из списка list4\n",
    "    df_consumption.query('tariff == \"ultra\"').plot(\n",
    "        kind='hist',\n",
    "        y=list1[b],\n",
    "        bins=15,\n",
    "        alpha=0.6,\n",
    "        ax=ax,\n",
    "        grid=True,\n",
    "        title=list4[b],\n",
    "        label='Ultra',\n",
    "        legend=True,\n",
    "        figsize=(12, 6)\n",
    "    )\n",
    "    # Вывод совмещённой гистограммы для тарифов smart и ultra\n",
    "    # по израсходованным услугам\n",
    "    plt.show()"
   ]
  },
  {
   "cell_type": "markdown",
   "metadata": {},
   "source": [
    "<div class=\"alert alert-block alert-warning\"><span style=\"color:green\"><font size=\"3\" face=\"Arial\"><b>Промежуточные выводы 4.3:<b/></span>\n",
    "    \n",
    "<span style=\"color:steelblue\"><font size=\"3\" face=\"Courier\"><b>1. На совмещённой гистограмме минут видно, что интервал значений у тарифа Ultra шире, чем у Smart.\\\n",
    "    Данные имеют ассиметричность - скошены положительно (вправо). Это говорит о смещении медианного значения левее за счёт выбивающихся максимальных значений, влияющих на среднее.\\\n",
    "    2. На совмещённой гистограмме сообщений интервал значений у тарифа Ultra шире, чем у Smart.\\\n",
    "    Также видна ассиметричность данных - скошены положительно (вправо), но ассиметричность более выраженная так как много нулевых значений, связанных с низкой популярностью SMS.\\\n",
    "    3. На совмещённой гистограмме гигабайт интервал значений у тарифа Ultra шире, чем у Smart.\\\n",
    "    Распределение у пользователей тарифа Smart ближе к нормальному.\\\n",
    "    Мобильным интернетом пользуются все и много.</b></span></div>"
   ]
  },
  {
   "cell_type": "markdown",
   "metadata": {},
   "source": [
    "### Вывод"
   ]
  },
  {
   "cell_type": "markdown",
   "metadata": {},
   "source": [
    "<div class=\"alert alert-block alert-warning\">\n",
    "    \n",
    "<span style=\"color:steelblue\"><font size=\"3\" face=\"Courier\"><b>У пользователей тарифов Smart и Ultra прослеживается общая закономерность в распределении расхода пакета услуг по месяцам года.\\\n",
    "    Количество минут, сообщений и гигабайт, включённых в пакет, влияет на поведение пользователей.\\\n",
    "    Чем больше включено, тем больше расходуют.\\\n",
    "    Большие значения стандартного отклонения говорят о широком диапазоне разброса величин и показывают на сколько значения в выборке отличаются от среднего.</b></span></div>"
   ]
  },
  {
   "cell_type": "markdown",
   "metadata": {},
   "source": [
    "## Статистический анализ данных"
   ]
  },
  {
   "cell_type": "markdown",
   "metadata": {},
   "source": [
    "### Проверка гипотез"
   ]
  },
  {
   "cell_type": "markdown",
   "metadata": {},
   "source": [
    "#### Средние выручки пользователей тарифов Ultra и Smart различаются"
   ]
  },
  {
   "cell_type": "markdown",
   "metadata": {},
   "source": [
    "- **Нулевая гипотеза H0:** Выручка пользователей тарифа Ultra равна выручке пользователей тарифа Smart.\n",
    "- **Альтернативная гипотеза H1:** Выручка пользователей тарифа Ultra больше выручки пользователей тарифа Smart."
   ]
  },
  {
   "cell_type": "code",
   "execution_count": 347,
   "metadata": {},
   "outputs": [],
   "source": [
    "# Формирование Series с выручкой по тарифу Smart\n",
    "df_smart_income = df_full.query('tariff == \"smart\"').rub_total_income"
   ]
  },
  {
   "cell_type": "code",
   "execution_count": 348,
   "metadata": {},
   "outputs": [
    {
     "data": {
      "text/plain": [
       "985      550\n",
       "986     1150\n",
       "987     1550\n",
       "988     1150\n",
       "989     1150\n",
       "        ... \n",
       "3209     550\n",
       "3210     950\n",
       "3211    1150\n",
       "3212    1550\n",
       "3213     950\n",
       "Name: rub_total_income, Length: 2229, dtype: int64"
      ]
     },
     "execution_count": 348,
     "metadata": {},
     "output_type": "execute_result"
    }
   ],
   "source": [
    "# Вывод Series df_smart_income\n",
    "df_smart_income"
   ]
  },
  {
   "cell_type": "code",
   "execution_count": 349,
   "metadata": {},
   "outputs": [],
   "source": [
    "# Формирование Series с выручкой по тарифу Ultra\n",
    "df_ultra_income = df_full.query('tariff == \"ultra\"').rub_total_income"
   ]
  },
  {
   "cell_type": "code",
   "execution_count": 350,
   "metadata": {},
   "outputs": [
    {
     "data": {
      "text/plain": [
       "0      1950\n",
       "1      1950\n",
       "2      1950\n",
       "3      1950\n",
       "4      1950\n",
       "       ... \n",
       "980    1950\n",
       "981    1950\n",
       "982    1950\n",
       "983    1950\n",
       "984    1950\n",
       "Name: rub_total_income, Length: 985, dtype: int64"
      ]
     },
     "execution_count": 350,
     "metadata": {},
     "output_type": "execute_result"
    }
   ],
   "source": [
    "# Вывод Series df_ultra_income\n",
    "df_ultra_income"
   ]
  },
  {
   "cell_type": "code",
   "execution_count": 351,
   "metadata": {},
   "outputs": [],
   "source": [
    "# Определение среднего в выручке по тарифу Smart\n",
    "df_smart_mean = df_smart_income.mean()"
   ]
  },
  {
   "cell_type": "code",
   "execution_count": 352,
   "metadata": {},
   "outputs": [
    {
     "data": {
      "text/plain": [
       "1289.9735307312696"
      ]
     },
     "execution_count": 352,
     "metadata": {},
     "output_type": "execute_result"
    }
   ],
   "source": [
    "# Вывод среднего df_smart_mean\n",
    "df_smart_mean"
   ]
  },
  {
   "cell_type": "code",
   "execution_count": 353,
   "metadata": {},
   "outputs": [],
   "source": [
    "# Определение среднего в выручке по тарифу Ultra\n",
    "df_ultra_mean = df_ultra_income.mean()"
   ]
  },
  {
   "cell_type": "code",
   "execution_count": 354,
   "metadata": {},
   "outputs": [
    {
     "data": {
      "text/plain": [
       "2070.1522842639592"
      ]
     },
     "execution_count": 354,
     "metadata": {},
     "output_type": "execute_result"
    }
   ],
   "source": [
    "# Вывод среднего df_ultra_mean\n",
    "df_ultra_mean"
   ]
  },
  {
   "cell_type": "code",
   "execution_count": 355,
   "metadata": {},
   "outputs": [],
   "source": [
    "# Критический уровень статистической значимости alpha\n",
    "alpha = .05"
   ]
  },
  {
   "cell_type": "code",
   "execution_count": 356,
   "metadata": {},
   "outputs": [],
   "source": [
    "# Принимая, что выборки по тарифам - это выборки из\n",
    "# генеральных совокупностей по тарифам, применяю\n",
    "# метод scipy.stats.ttest_ind()\n",
    "result1 = st.ttest_ind(df_smart_income, df_ultra_income, equal_var=False)"
   ]
  },
  {
   "cell_type": "code",
   "execution_count": 357,
   "metadata": {},
   "outputs": [
    {
     "name": "stdout",
     "output_type": "stream",
     "text": [
      "Уровень статистической значимости \"p-значение\": 4.2606313931076085e-250\n"
     ]
    }
   ],
   "source": [
    "# Вывод значения result1\n",
    "print('Уровень статистической значимости \"p-значение\":', result1.pvalue)"
   ]
  },
  {
   "cell_type": "code",
   "execution_count": 358,
   "metadata": {},
   "outputs": [
    {
     "name": "stdout",
     "output_type": "stream",
     "text": [
      "Отвергаю нулевую гипотезу H0\n"
     ]
    }
   ],
   "source": [
    "# Логическое условия принятия или отвержения нулевой гипотезы\n",
    "if result1.pvalue < alpha:\n",
    "    print('Отвергаю нулевую гипотезу H0')\n",
    "else:\n",
    "    print('Не отвергаю нулевую гипотезу H0')"
   ]
  },
  {
   "cell_type": "code",
   "execution_count": 359,
   "metadata": {},
   "outputs": [],
   "source": [
    "# Также можно использовать проверку нулевой гипотезы\n",
    "# односторонним t-тестом по массиву и предполагаемому среднему\n",
    "result2 = st.ttest_1samp(df_ultra_income, df_smart_mean)"
   ]
  },
  {
   "cell_type": "code",
   "execution_count": 360,
   "metadata": {},
   "outputs": [
    {
     "name": "stdout",
     "output_type": "stream",
     "text": [
      "Уровень статистической значимости \"p-значение\": 0.0\n"
     ]
    }
   ],
   "source": [
    "# Вывод значения result2\n",
    "print('Уровень статистической значимости \"p-значение\":', result2.pvalue / 2)"
   ]
  },
  {
   "cell_type": "code",
   "execution_count": 361,
   "metadata": {
    "scrolled": true
   },
   "outputs": [
    {
     "name": "stdout",
     "output_type": "stream",
     "text": [
      "Отвергаю нулевую гипотезу H0\n"
     ]
    }
   ],
   "source": [
    "# Логическое условие принятия или отвержения нулевой гипотезы\n",
    "if (result2.pvalue / 2 < alpha and\n",
    "        df_ultra_mean > df_smart_mean):\n",
    "    print('Отвергаю нулевую гипотезу H0')\n",
    "else:\n",
    "    print('Не отвергаю нулевую гипотезу H0')"
   ]
  },
  {
   "cell_type": "markdown",
   "metadata": {},
   "source": [
    "<div class=\"alert alert-block alert-warning\"><span style=\"color:green\"><font size=\"3\" face=\"Arial\"><b>Промежуточные выводы 5.1:<b/></span>\n",
    "    \n",
    "<span style=\"color:steelblue\"><font size=\"3\" face=\"Courier\"><b>В виду низкого (близкого к нулю) значения уровня статистической значимости нулевую гипотезу H0 о равенстве выручки тарифов Smart и Ultra отвергаю.\\\n",
    "    Могу сделать предположение о статистически значимой разнице между средними выборок и средними генеральных совокупностей обоих тарифов.\\\n",
    "    Возможно выручка тарифа Ultra больше, чем тарифа Smart.</b></span></div>"
   ]
  },
  {
   "cell_type": "markdown",
   "metadata": {},
   "source": [
    "#### Средние выручки пользователей из Москвы и других регионов различаются"
   ]
  },
  {
   "cell_type": "markdown",
   "metadata": {},
   "source": [
    "- **Нулевая гипотеза H0:** Выручка пользователей из Москвы равна выручке пользователей из других регионов.\n",
    "- **Альтернативная гипотеза H1:** Выручка пользователей из Москвы больше выручки пользователей из других регионов."
   ]
  },
  {
   "cell_type": "code",
   "execution_count": 362,
   "metadata": {},
   "outputs": [],
   "source": [
    "# Формирование Series с выручкой по Москве\n",
    "df_moscow_income = df_full.query('city == \"Москва\"').rub_total_income"
   ]
  },
  {
   "cell_type": "code",
   "execution_count": 363,
   "metadata": {},
   "outputs": [
    {
     "data": {
      "text/plain": [
       "8       1950\n",
       "9       1950\n",
       "10      1950\n",
       "11      1950\n",
       "12      1950\n",
       "        ... \n",
       "3166    1550\n",
       "3167    1750\n",
       "3168    1350\n",
       "3169    1750\n",
       "3170     550\n",
       "Name: rub_total_income, Length: 611, dtype: int64"
      ]
     },
     "execution_count": 363,
     "metadata": {},
     "output_type": "execute_result"
    }
   ],
   "source": [
    "# Вывод Series df_moscow_income\n",
    "df_moscow_income"
   ]
  },
  {
   "cell_type": "code",
   "execution_count": 364,
   "metadata": {},
   "outputs": [],
   "source": [
    "# Формирование Series с выручкой по другим регионам\n",
    "df_other_income = df_full.query('city != \"Москва\"').rub_total_income"
   ]
  },
  {
   "cell_type": "code",
   "execution_count": 365,
   "metadata": {},
   "outputs": [
    {
     "data": {
      "text/plain": [
       "0       1950\n",
       "1       1950\n",
       "2       1950\n",
       "3       1950\n",
       "4       1950\n",
       "        ... \n",
       "3209     550\n",
       "3210     950\n",
       "3211    1150\n",
       "3212    1550\n",
       "3213     950\n",
       "Name: rub_total_income, Length: 2603, dtype: int64"
      ]
     },
     "execution_count": 365,
     "metadata": {},
     "output_type": "execute_result"
    }
   ],
   "source": [
    "# Вывод Series df_other_income\n",
    "df_other_income"
   ]
  },
  {
   "cell_type": "code",
   "execution_count": 366,
   "metadata": {},
   "outputs": [],
   "source": [
    "# Определение среднего в выручке по Москве\n",
    "df_moscow_mean = df_moscow_income.mean()"
   ]
  },
  {
   "cell_type": "code",
   "execution_count": 367,
   "metadata": {},
   "outputs": [
    {
     "data": {
      "text/plain": [
       "1546.7135842880523"
      ]
     },
     "execution_count": 367,
     "metadata": {},
     "output_type": "execute_result"
    }
   ],
   "source": [
    "# Вывод среднего df_moscow_mean\n",
    "df_moscow_mean"
   ]
  },
  {
   "cell_type": "code",
   "execution_count": 368,
   "metadata": {},
   "outputs": [],
   "source": [
    "# Определение среднего в выручке по другим регионам\n",
    "df_other_mean = df_other_income.mean()"
   ]
  },
  {
   "cell_type": "code",
   "execution_count": 369,
   "metadata": {},
   "outputs": [
    {
     "data": {
      "text/plain": [
       "1524.9362274298885"
      ]
     },
     "execution_count": 369,
     "metadata": {},
     "output_type": "execute_result"
    }
   ],
   "source": [
    "# Вывод среднего df_other_mean\n",
    "df_other_mean"
   ]
  },
  {
   "cell_type": "code",
   "execution_count": 370,
   "metadata": {},
   "outputs": [],
   "source": [
    "# Проверка нулевой гипотезы односторонним t-тестом\n",
    "# по массиву и предполагаемому среднему\n",
    "result3 = st.ttest_1samp(df_other_income, df_moscow_mean)"
   ]
  },
  {
   "cell_type": "code",
   "execution_count": 371,
   "metadata": {},
   "outputs": [
    {
     "name": "stdout",
     "output_type": "stream",
     "text": [
      "Уровень статистической значимости \"p-значение\": 0.08481883181600465\n"
     ]
    }
   ],
   "source": [
    "# Вывод result3\n",
    "print('Уровень статистической значимости \"p-значение\":', result3.pvalue / 2)"
   ]
  },
  {
   "cell_type": "code",
   "execution_count": 372,
   "metadata": {},
   "outputs": [
    {
     "name": "stdout",
     "output_type": "stream",
     "text": [
      "Не отвергаю нулевую гипотезу H0\n"
     ]
    }
   ],
   "source": [
    "# Логическое условие принятия или отвержения нулевой гипотезы\n",
    "if (result3.pvalue / 2 < alpha and\n",
    "        df_moscow_mean > df_other_mean):\n",
    "    print('Отвергаю нулевую гипотезу H0')\n",
    "else:\n",
    "    print('Не отвергаю нулевую гипотезу H0')"
   ]
  },
  {
   "cell_type": "markdown",
   "metadata": {},
   "source": [
    "<div class=\"alert alert-block alert-warning\"><span style=\"color:green\"><font size=\"3\" face=\"Arial\"><b>Промежуточные выводы 5.2:<b/></span>\n",
    "    \n",
    "<span style=\"color:steelblue\"><font size=\"3\" face=\"Courier\"><b>Нулевую гипотезу H0 о равенстве выручки пользователей из Москвы и пользователей из других регионов отвергать не стоит, так как существует вероятность (немного выше порогового значения в 5%) получить предполагаемое среднее по Москве в других регионах.</b></span></div>"
   ]
  },
  {
   "cell_type": "markdown",
   "metadata": {},
   "source": [
    "### Вывод"
   ]
  },
  {
   "cell_type": "markdown",
   "metadata": {},
   "source": [
    "<div class=\"alert alert-block alert-warning\">\n",
    "    \n",
    "<span style=\"color:steelblue\"><font size=\"3\" face=\"Courier\"><b>Проведён анализ двух гипотез. Для каждой сформулированы нулевая и альтернативная гипотезы.\\\n",
    "    Первая гипотеза отвергнута, а вторую отвергать не стоит.</b></span></div>"
   ]
  },
  {
   "cell_type": "markdown",
   "metadata": {},
   "source": [
    "## Общий вывод"
   ]
  },
  {
   "cell_type": "markdown",
   "metadata": {},
   "source": [
    "<div class=\"alert alert-block alert-warning\">\n",
    "    \n",
    "<span style=\"color:steelblue\"><font size=\"3\" face=\"Courier\"><b>В ходе выполнения проекта по статистическому анализу данных проделал большой объём работы.\\\n",
    "    1.1. Провёл предобработку данных в пяти датасетах.\\\n",
    "    1.2. Выполнил декомпозицию дататсета 'internet', содержащего колонку-дублер индексов.\\\n",
    "    1.3. Выявил несоответствие и успешно заменил тип данных в колонках с датами.\\\n",
    "    1.4. Продумал алгоритм и создал функцию, дополняющую датафреймы колонками с названием месяцев на русском языке.\\\n",
    "    1.5. Также создал функцию, создающую сводные таблицы из отдельных датафреймов.\\\n",
    "    1.6. Выполнил слияние сводных таблиц в единый датафрейм с полным набором информации по тарифам.\\\n",
    "    1.7. Осуществил заполнение пропусков, появившихся после слияния.\\\n",
    "    1.8. Дополнил единый датафрейм вспомогательной колонкой с данными о месячном доходе.\\\n",
    "    \\\n",
    "    2.1. Провёл исследовательский анализ данных о поведении пользователей двух разных тарифов.\\\n",
    "    2.2. Написал цикл для построения совмещённых гистограмм по услугам двух тарифов.\\\n",
    "    2.3. Написал цикл для расчёта среднего, дисперсии и стандартного отклонения по услугам двух тарифов.\\\n",
    "    2.4. Количество минут, сообщений и гигабайт, включённых в пакет, влияет на поведение пользователей.\\\n",
    "    Чем больше включено, тем больше расходуют.\\\n",
    "    2.5. Большие значения стандартного отклонения говорят о широком диапазоне разброса величин и показывают на сколько значения в выборке отличаются о среднего.\\\n",
    "    2.6. На совмещённой гистограмме минут видно, что интервал значений у тарифа Ultra шире, чем у Smart.\\\n",
    "    Данные имеют ассиметричность - скошены положительно (вправо). Это говорит о смещении медианного значения левее за счёт выбивающихся  максимальных значений, влияющих на среднее.\\\n",
    "    2.7. На совмещённой гистограмме сообщений интервал значений у тарифа Ultra шире, чем у Smart.\\\n",
    "    Также видна ассиметричность данных - скошены положительно (вправо), но ассиметричность более выраженная так как много нулевых значений, связанных с низкой популярностью SMS.\\\n",
    "    2.8. На совмещённой гистограмме мегабайт интервал значений у тарифа Ultra шире, чем у Smart.\\\n",
    "    Распределение у пользователей тарифа Smart ближе к нормальному.\\\n",
    "    Мобильным интернетом пользуются все и много.\\\n",
    "    \\\n",
    "    3.1 Выполнил статистический анализ данных с проверкой дух гипотез, включающих нулевую и альтернативную гипотезы.\\\n",
    "    3.2. Средние выручки пользователей тарифов Ultra и Smart различаются:\\\n",
    "    - Нулевая гипотеза H0: Выручка пользователей тарифа Ultra равна выручке пользователей тарифа Smart.\\\n",
    "    - Альтернативная гипотеза H1: Выручка пользователей тарифа Ultra больше выручки пользователей тарифа Smart.\\\n",
    "    3.2.1. В виду низкого (близкого к нулю) значения уровня статистической значимости нулевую гипотезу H0 о равенстве выручки тарифов Smart и Ultra отвергаю. Могу сделать предположение о статистически значимой разнице между средними выборок и, соответственно, средними генеральных совокупностей обоих тарифов.\\\n",
    "    Возможно выручка тарифа Ultra больше, чем выручка тарифа Smart.\\\n",
    "    3.3. Средние выручки пользователей из Москвы и других регионов различаются.\\\n",
    "    - Нулевая гипотеза H0: Выручка пользователей из Москвы равна выручке пользователей из других регионов.\\\n",
    "    - Альтернативная гипотеза H1: Выручка пользователей из Москвы больше выручки пользователей из других регионов.\\\n",
    "    3.3.1. Нулевую гипотезу H0 о равенстве выручки пользователей из Москвы и пользователей из других регионов отвергать не стоит, так как существует вероятность (немного выше порогового значения в 5%) получить предполагаемое среднее по Москве в других регионах.\\\n",
    "    \\\n",
    "    4. Несмотря на то, что пользователи тарифа Smart в среднем превышают лимит интернет-трафика и доплачивают за превышение, средняя выручка по тарифу Ultra вероятно выше средней выручки по тарифу Smart.\n",
    "    Исходя из этого, предположу, что рекламный бюджет следует скорректировать в сторону тарифа Ultra.</b></span></div>"
   ]
  }
 ],
 "metadata": {
  "ExecuteTimeLog": [
   {
    "duration": 521,
    "start_time": "2022-04-25T18:36:18.858Z"
   },
   {
    "duration": 11,
    "start_time": "2022-04-25T18:36:19.382Z"
   },
   {
    "duration": 8,
    "start_time": "2022-04-25T18:36:19.395Z"
   },
   {
    "duration": 5,
    "start_time": "2022-04-25T18:36:19.407Z"
   },
   {
    "duration": 618,
    "start_time": "2022-04-25T18:36:19.415Z"
   },
   {
    "duration": 600,
    "start_time": "2022-04-25T18:36:20.035Z"
   },
   {
    "duration": 43,
    "start_time": "2022-04-25T18:36:20.637Z"
   },
   {
    "duration": 194,
    "start_time": "2022-04-25T18:36:20.682Z"
   },
   {
    "duration": 119,
    "start_time": "2022-04-25T18:36:20.879Z"
   },
   {
    "duration": 248,
    "start_time": "2022-04-25T18:36:21.003Z"
   },
   {
    "duration": 22,
    "start_time": "2022-04-25T18:36:21.253Z"
   },
   {
    "duration": 4,
    "start_time": "2022-04-25T18:45:04.083Z"
   },
   {
    "duration": 4,
    "start_time": "2022-04-25T18:45:09.683Z"
   },
   {
    "duration": 3,
    "start_time": "2022-04-25T18:46:09.790Z"
   },
   {
    "duration": 15,
    "start_time": "2022-04-25T18:46:09.796Z"
   },
   {
    "duration": 14,
    "start_time": "2022-04-25T18:46:09.813Z"
   },
   {
    "duration": 9,
    "start_time": "2022-04-25T18:46:09.829Z"
   },
   {
    "duration": 7,
    "start_time": "2022-04-25T18:46:09.842Z"
   },
   {
    "duration": 11,
    "start_time": "2022-04-25T18:46:09.852Z"
   },
   {
    "duration": 59,
    "start_time": "2022-04-25T18:46:09.866Z"
   },
   {
    "duration": 215,
    "start_time": "2022-04-25T18:46:09.928Z"
   },
   {
    "duration": 115,
    "start_time": "2022-04-25T18:46:10.146Z"
   },
   {
    "duration": 163,
    "start_time": "2022-04-25T18:46:10.264Z"
   },
   {
    "duration": 21,
    "start_time": "2022-04-25T18:46:10.430Z"
   },
   {
    "duration": 3,
    "start_time": "2022-04-25T18:46:10.454Z"
   },
   {
    "duration": 169,
    "start_time": "2022-04-25T18:46:10.459Z"
   },
   {
    "duration": 0,
    "start_time": "2022-04-25T18:46:10.630Z"
   },
   {
    "duration": 0,
    "start_time": "2022-04-25T18:46:10.631Z"
   },
   {
    "duration": 0,
    "start_time": "2022-04-25T18:46:10.633Z"
   },
   {
    "duration": 0,
    "start_time": "2022-04-25T18:46:10.634Z"
   },
   {
    "duration": 0,
    "start_time": "2022-04-25T18:46:10.635Z"
   },
   {
    "duration": 0,
    "start_time": "2022-04-25T18:46:10.637Z"
   },
   {
    "duration": 0,
    "start_time": "2022-04-25T18:46:10.640Z"
   },
   {
    "duration": 4,
    "start_time": "2022-04-25T18:47:14.546Z"
   },
   {
    "duration": 7,
    "start_time": "2022-04-25T18:47:14.553Z"
   },
   {
    "duration": 5,
    "start_time": "2022-04-25T18:47:14.562Z"
   },
   {
    "duration": 5,
    "start_time": "2022-04-25T18:47:14.571Z"
   },
   {
    "duration": 7,
    "start_time": "2022-04-25T18:47:14.578Z"
   },
   {
    "duration": 6,
    "start_time": "2022-04-25T18:47:14.587Z"
   },
   {
    "duration": 37,
    "start_time": "2022-04-25T18:47:14.595Z"
   },
   {
    "duration": 180,
    "start_time": "2022-04-25T18:47:14.634Z"
   },
   {
    "duration": 106,
    "start_time": "2022-04-25T18:47:14.817Z"
   },
   {
    "duration": 172,
    "start_time": "2022-04-25T18:47:14.926Z"
   },
   {
    "duration": 18,
    "start_time": "2022-04-25T18:47:15.100Z"
   },
   {
    "duration": 4,
    "start_time": "2022-04-25T18:47:15.120Z"
   },
   {
    "duration": 34,
    "start_time": "2022-04-25T18:47:15.126Z"
   },
   {
    "duration": 6,
    "start_time": "2022-04-25T18:47:15.162Z"
   },
   {
    "duration": 18,
    "start_time": "2022-04-25T18:47:15.193Z"
   },
   {
    "duration": 9,
    "start_time": "2022-04-25T18:47:15.213Z"
   },
   {
    "duration": 27,
    "start_time": "2022-04-25T18:47:15.224Z"
   },
   {
    "duration": 47,
    "start_time": "2022-04-25T18:47:15.253Z"
   },
   {
    "duration": 11,
    "start_time": "2022-04-25T18:47:15.302Z"
   },
   {
    "duration": 8,
    "start_time": "2022-04-25T18:47:15.315Z"
   },
   {
    "duration": 682,
    "start_time": "2022-04-26T05:50:10.629Z"
   },
   {
    "duration": 4,
    "start_time": "2022-04-26T05:50:11.315Z"
   },
   {
    "duration": 4,
    "start_time": "2022-04-26T05:50:11.324Z"
   },
   {
    "duration": 9,
    "start_time": "2022-04-26T05:50:11.333Z"
   },
   {
    "duration": 619,
    "start_time": "2022-04-26T05:50:11.344Z"
   },
   {
    "duration": 625,
    "start_time": "2022-04-26T05:50:11.966Z"
   },
   {
    "duration": 24,
    "start_time": "2022-04-26T05:50:12.593Z"
   },
   {
    "duration": 217,
    "start_time": "2022-04-26T05:50:12.620Z"
   },
   {
    "duration": 125,
    "start_time": "2022-04-26T05:50:12.839Z"
   },
   {
    "duration": 185,
    "start_time": "2022-04-26T05:50:12.970Z"
   },
   {
    "duration": 14,
    "start_time": "2022-04-26T05:50:13.157Z"
   },
   {
    "duration": 5,
    "start_time": "2022-04-26T05:50:13.174Z"
   },
   {
    "duration": 50,
    "start_time": "2022-04-26T05:50:13.182Z"
   },
   {
    "duration": 7,
    "start_time": "2022-04-26T05:50:13.234Z"
   },
   {
    "duration": 26,
    "start_time": "2022-04-26T05:50:13.245Z"
   },
   {
    "duration": 16,
    "start_time": "2022-04-26T05:50:13.274Z"
   },
   {
    "duration": 30,
    "start_time": "2022-04-26T05:50:13.325Z"
   },
   {
    "duration": 11,
    "start_time": "2022-04-26T05:50:13.358Z"
   },
   {
    "duration": 15,
    "start_time": "2022-04-26T05:50:13.372Z"
   },
   {
    "duration": 41,
    "start_time": "2022-04-26T05:50:13.389Z"
   },
   {
    "duration": 27,
    "start_time": "2022-04-26T05:50:13.433Z"
   },
   {
    "duration": 15,
    "start_time": "2022-04-26T05:50:13.463Z"
   },
   {
    "duration": 82,
    "start_time": "2022-04-26T05:50:13.481Z"
   },
   {
    "duration": 59,
    "start_time": "2022-04-26T05:50:13.565Z"
   },
   {
    "duration": 170,
    "start_time": "2022-04-26T05:50:13.628Z"
   },
   {
    "duration": 25,
    "start_time": "2022-04-26T05:50:13.800Z"
   },
   {
    "duration": 6,
    "start_time": "2022-04-26T05:50:13.828Z"
   },
   {
    "duration": 26,
    "start_time": "2022-04-26T05:50:13.839Z"
   },
   {
    "duration": 18,
    "start_time": "2022-04-26T05:50:13.868Z"
   },
   {
    "duration": 70,
    "start_time": "2022-04-26T05:50:13.923Z"
   },
   {
    "duration": 38,
    "start_time": "2022-04-26T05:50:13.995Z"
   },
   {
    "duration": 4,
    "start_time": "2022-04-26T06:10:52.532Z"
   },
   {
    "duration": 19,
    "start_time": "2022-04-26T06:10:52.540Z"
   },
   {
    "duration": 19,
    "start_time": "2022-04-26T06:10:52.563Z"
   },
   {
    "duration": 20,
    "start_time": "2022-04-26T06:10:52.584Z"
   },
   {
    "duration": 30,
    "start_time": "2022-04-26T06:10:52.608Z"
   },
   {
    "duration": 16,
    "start_time": "2022-04-26T06:10:52.641Z"
   },
   {
    "duration": 26,
    "start_time": "2022-04-26T06:10:52.659Z"
   },
   {
    "duration": 224,
    "start_time": "2022-04-26T06:10:52.687Z"
   },
   {
    "duration": 130,
    "start_time": "2022-04-26T06:10:52.913Z"
   },
   {
    "duration": 184,
    "start_time": "2022-04-26T06:10:53.046Z"
   },
   {
    "duration": 16,
    "start_time": "2022-04-26T06:10:53.237Z"
   },
   {
    "duration": 4,
    "start_time": "2022-04-26T06:10:53.255Z"
   },
   {
    "duration": 23,
    "start_time": "2022-04-26T06:10:53.261Z"
   },
   {
    "duration": 8,
    "start_time": "2022-04-26T06:10:53.287Z"
   },
   {
    "duration": 22,
    "start_time": "2022-04-26T06:10:53.326Z"
   },
   {
    "duration": 16,
    "start_time": "2022-04-26T06:10:53.350Z"
   },
   {
    "duration": 24,
    "start_time": "2022-04-26T06:10:53.368Z"
   },
   {
    "duration": 37,
    "start_time": "2022-04-26T06:10:53.394Z"
   },
   {
    "duration": 11,
    "start_time": "2022-04-26T06:10:53.433Z"
   },
   {
    "duration": 21,
    "start_time": "2022-04-26T06:10:53.447Z"
   },
   {
    "duration": 18,
    "start_time": "2022-04-26T06:10:53.470Z"
   },
   {
    "duration": 6,
    "start_time": "2022-04-26T06:10:53.490Z"
   },
   {
    "duration": 37,
    "start_time": "2022-04-26T06:10:53.525Z"
   },
   {
    "duration": 66,
    "start_time": "2022-04-26T06:10:53.564Z"
   },
   {
    "duration": 170,
    "start_time": "2022-04-26T06:10:53.633Z"
   },
   {
    "duration": 22,
    "start_time": "2022-04-26T06:10:53.806Z"
   },
   {
    "duration": 13,
    "start_time": "2022-04-26T06:10:53.831Z"
   },
   {
    "duration": 33,
    "start_time": "2022-04-26T06:10:53.847Z"
   },
   {
    "duration": 55,
    "start_time": "2022-04-26T06:10:53.885Z"
   },
   {
    "duration": 71,
    "start_time": "2022-04-26T06:10:53.943Z"
   },
   {
    "duration": 20,
    "start_time": "2022-04-26T06:10:54.025Z"
   },
   {
    "duration": 6,
    "start_time": "2022-04-26T06:10:54.048Z"
   },
   {
    "duration": 31,
    "start_time": "2022-04-26T06:10:54.057Z"
   },
   {
    "duration": 43,
    "start_time": "2022-04-26T06:10:54.124Z"
   },
   {
    "duration": 145,
    "start_time": "2022-04-26T06:10:54.169Z"
   },
   {
    "duration": 21,
    "start_time": "2022-04-26T06:10:54.316Z"
   },
   {
    "duration": 11,
    "start_time": "2022-04-26T06:10:54.339Z"
   },
   {
    "duration": 20,
    "start_time": "2022-04-26T06:10:54.352Z"
   },
   {
    "duration": 5,
    "start_time": "2022-04-26T06:12:08.840Z"
   },
   {
    "duration": 12,
    "start_time": "2022-04-26T06:12:09.332Z"
   },
   {
    "duration": 7,
    "start_time": "2022-04-26T06:12:09.795Z"
   },
   {
    "duration": 51,
    "start_time": "2022-04-26T06:17:41.602Z"
   },
   {
    "duration": 7,
    "start_time": "2022-04-26T06:17:42.094Z"
   },
   {
    "duration": 33,
    "start_time": "2022-04-26T06:22:40.494Z"
   },
   {
    "duration": 8,
    "start_time": "2022-04-26T06:22:41.062Z"
   },
   {
    "duration": 71,
    "start_time": "2022-04-26T06:24:21.276Z"
   },
   {
    "duration": 7,
    "start_time": "2022-04-26T06:24:22.341Z"
   },
   {
    "duration": 12,
    "start_time": "2022-04-26T06:25:06.630Z"
   },
   {
    "duration": 13,
    "start_time": "2022-04-26T06:25:08.186Z"
   },
   {
    "duration": 5,
    "start_time": "2022-04-26T06:41:26.246Z"
   },
   {
    "duration": 4,
    "start_time": "2022-04-26T06:41:27.625Z"
   },
   {
    "duration": 4,
    "start_time": "2022-04-26T06:42:23.257Z"
   },
   {
    "duration": 5,
    "start_time": "2022-04-26T06:42:33.948Z"
   },
   {
    "duration": 7,
    "start_time": "2022-04-26T06:44:41.804Z"
   },
   {
    "duration": 8966,
    "start_time": "2022-04-26T06:45:56.192Z"
   },
   {
    "duration": 658,
    "start_time": "2022-04-26T08:56:13.867Z"
   },
   {
    "duration": 3,
    "start_time": "2022-04-26T08:56:14.529Z"
   },
   {
    "duration": 22,
    "start_time": "2022-04-26T08:56:14.535Z"
   },
   {
    "duration": 6,
    "start_time": "2022-04-26T08:56:14.561Z"
   },
   {
    "duration": 1030,
    "start_time": "2022-04-26T08:56:14.570Z"
   },
   {
    "duration": 623,
    "start_time": "2022-04-26T08:56:15.604Z"
   },
   {
    "duration": 28,
    "start_time": "2022-04-26T08:56:16.230Z"
   },
   {
    "duration": 333,
    "start_time": "2022-04-26T08:56:16.261Z"
   },
   {
    "duration": 186,
    "start_time": "2022-04-26T08:56:16.597Z"
   },
   {
    "duration": 260,
    "start_time": "2022-04-26T08:56:16.790Z"
   },
   {
    "duration": 16,
    "start_time": "2022-04-26T08:56:17.053Z"
   },
   {
    "duration": 5,
    "start_time": "2022-04-26T08:56:17.089Z"
   },
   {
    "duration": 45,
    "start_time": "2022-04-26T08:56:17.097Z"
   },
   {
    "duration": 7,
    "start_time": "2022-04-26T08:56:17.145Z"
   },
   {
    "duration": 35,
    "start_time": "2022-04-26T08:56:17.155Z"
   },
   {
    "duration": 35,
    "start_time": "2022-04-26T08:56:17.194Z"
   },
   {
    "duration": 27,
    "start_time": "2022-04-26T08:56:17.232Z"
   },
   {
    "duration": 19,
    "start_time": "2022-04-26T08:56:17.262Z"
   },
   {
    "duration": 40,
    "start_time": "2022-04-26T08:56:17.284Z"
   },
   {
    "duration": 7,
    "start_time": "2022-04-26T08:56:17.327Z"
   },
   {
    "duration": 28,
    "start_time": "2022-04-26T08:56:17.338Z"
   },
   {
    "duration": 10,
    "start_time": "2022-04-26T08:56:17.369Z"
   },
   {
    "duration": 74,
    "start_time": "2022-04-26T08:56:17.381Z"
   },
   {
    "duration": 47,
    "start_time": "2022-04-26T08:56:17.458Z"
   },
   {
    "duration": 176,
    "start_time": "2022-04-26T08:56:17.525Z"
   },
   {
    "duration": 23,
    "start_time": "2022-04-26T08:56:17.704Z"
   },
   {
    "duration": 11,
    "start_time": "2022-04-26T08:56:17.729Z"
   },
   {
    "duration": 40,
    "start_time": "2022-04-26T08:56:17.747Z"
   },
   {
    "duration": 53,
    "start_time": "2022-04-26T08:56:17.790Z"
   },
   {
    "duration": 106,
    "start_time": "2022-04-26T08:56:17.846Z"
   },
   {
    "duration": 26,
    "start_time": "2022-04-26T08:56:17.955Z"
   },
   {
    "duration": 11,
    "start_time": "2022-04-26T08:56:17.984Z"
   },
   {
    "duration": 56,
    "start_time": "2022-04-26T08:56:17.997Z"
   },
   {
    "duration": 43,
    "start_time": "2022-04-26T08:56:18.056Z"
   },
   {
    "duration": 140,
    "start_time": "2022-04-26T08:56:18.126Z"
   },
   {
    "duration": 12,
    "start_time": "2022-04-26T08:56:18.269Z"
   },
   {
    "duration": 10,
    "start_time": "2022-04-26T08:56:18.283Z"
   },
   {
    "duration": 40,
    "start_time": "2022-04-26T08:56:18.296Z"
   },
   {
    "duration": 6,
    "start_time": "2022-04-26T08:56:18.339Z"
   },
   {
    "duration": 11,
    "start_time": "2022-04-26T08:56:18.348Z"
   },
   {
    "duration": 13,
    "start_time": "2022-04-26T08:56:18.362Z"
   },
   {
    "duration": 99,
    "start_time": "2022-04-26T08:56:18.378Z"
   },
   {
    "duration": 8,
    "start_time": "2022-04-26T08:56:18.480Z"
   },
   {
    "duration": 66,
    "start_time": "2022-04-26T08:56:18.491Z"
   },
   {
    "duration": 6,
    "start_time": "2022-04-26T08:56:18.560Z"
   },
   {
    "duration": 64,
    "start_time": "2022-04-26T08:56:18.569Z"
   },
   {
    "duration": 8,
    "start_time": "2022-04-26T08:56:18.636Z"
   },
   {
    "duration": 16,
    "start_time": "2022-04-26T08:56:18.646Z"
   },
   {
    "duration": 25,
    "start_time": "2022-04-26T08:56:18.665Z"
   },
   {
    "duration": 31,
    "start_time": "2022-04-26T08:56:18.693Z"
   },
   {
    "duration": 5,
    "start_time": "2022-04-26T08:56:18.727Z"
   },
   {
    "duration": 15,
    "start_time": "2022-04-26T08:56:18.735Z"
   },
   {
    "duration": 12,
    "start_time": "2022-04-26T08:56:18.753Z"
   },
   {
    "duration": 13,
    "start_time": "2022-04-26T08:56:18.767Z"
   },
   {
    "duration": 11700,
    "start_time": "2022-04-26T08:56:18.784Z"
   },
   {
    "duration": 6,
    "start_time": "2022-04-26T08:56:30.487Z"
   },
   {
    "duration": 28,
    "start_time": "2022-04-26T08:56:30.496Z"
   },
   {
    "duration": 41,
    "start_time": "2022-04-26T08:57:42.723Z"
   },
   {
    "duration": 74,
    "start_time": "2022-04-26T09:00:14.926Z"
   },
   {
    "duration": 73,
    "start_time": "2022-04-26T09:03:35.266Z"
   },
   {
    "duration": 61,
    "start_time": "2022-04-26T09:04:56.998Z"
   },
   {
    "duration": 61,
    "start_time": "2022-04-26T09:09:11.861Z"
   },
   {
    "duration": 50,
    "start_time": "2022-04-26T09:09:23.561Z"
   },
   {
    "duration": 69,
    "start_time": "2022-04-26T09:10:32.777Z"
   },
   {
    "duration": 7,
    "start_time": "2022-04-26T09:13:03.333Z"
   },
   {
    "duration": 12,
    "start_time": "2022-04-26T09:13:03.769Z"
   },
   {
    "duration": 9,
    "start_time": "2022-04-26T09:13:04.921Z"
   },
   {
    "duration": 18,
    "start_time": "2022-04-26T09:13:29.717Z"
   },
   {
    "duration": 25,
    "start_time": "2022-04-26T09:15:36.685Z"
   },
   {
    "duration": 10,
    "start_time": "2022-04-26T09:15:37.297Z"
   },
   {
    "duration": 9,
    "start_time": "2022-04-26T09:18:08.977Z"
   },
   {
    "duration": 6,
    "start_time": "2022-04-26T09:28:51.128Z"
   },
   {
    "duration": 19,
    "start_time": "2022-04-26T09:28:54.668Z"
   },
   {
    "duration": 4,
    "start_time": "2022-04-26T09:28:58.016Z"
   },
   {
    "duration": 5,
    "start_time": "2022-04-26T09:28:59.368Z"
   },
   {
    "duration": 11,
    "start_time": "2022-04-26T09:37:15.071Z"
   },
   {
    "duration": 3,
    "start_time": "2022-04-26T09:37:24.384Z"
   },
   {
    "duration": 11,
    "start_time": "2022-04-26T09:37:24.389Z"
   },
   {
    "duration": 6,
    "start_time": "2022-04-26T09:37:24.403Z"
   },
   {
    "duration": 7,
    "start_time": "2022-04-26T09:37:24.412Z"
   },
   {
    "duration": 7,
    "start_time": "2022-04-26T09:37:24.422Z"
   },
   {
    "duration": 8,
    "start_time": "2022-04-26T09:37:24.431Z"
   },
   {
    "duration": 28,
    "start_time": "2022-04-26T09:37:24.442Z"
   },
   {
    "duration": 227,
    "start_time": "2022-04-26T09:37:24.472Z"
   },
   {
    "duration": 110,
    "start_time": "2022-04-26T09:37:24.701Z"
   },
   {
    "duration": 182,
    "start_time": "2022-04-26T09:37:24.813Z"
   },
   {
    "duration": 15,
    "start_time": "2022-04-26T09:37:24.999Z"
   },
   {
    "duration": 7,
    "start_time": "2022-04-26T09:37:25.017Z"
   },
   {
    "duration": 45,
    "start_time": "2022-04-26T09:37:25.027Z"
   },
   {
    "duration": 18,
    "start_time": "2022-04-26T09:37:25.074Z"
   },
   {
    "duration": 17,
    "start_time": "2022-04-26T09:37:25.094Z"
   },
   {
    "duration": 15,
    "start_time": "2022-04-26T09:37:25.114Z"
   },
   {
    "duration": 30,
    "start_time": "2022-04-26T09:37:25.131Z"
   },
   {
    "duration": 19,
    "start_time": "2022-04-26T09:37:25.163Z"
   },
   {
    "duration": 9,
    "start_time": "2022-04-26T09:37:25.185Z"
   },
   {
    "duration": 27,
    "start_time": "2022-04-26T09:37:25.197Z"
   },
   {
    "duration": 16,
    "start_time": "2022-04-26T09:37:25.227Z"
   },
   {
    "duration": 23,
    "start_time": "2022-04-26T09:37:25.245Z"
   },
   {
    "duration": 39,
    "start_time": "2022-04-26T09:37:25.270Z"
   },
   {
    "duration": 36,
    "start_time": "2022-04-26T09:37:25.324Z"
   },
   {
    "duration": 175,
    "start_time": "2022-04-26T09:37:25.362Z"
   },
   {
    "duration": 14,
    "start_time": "2022-04-26T09:37:25.539Z"
   },
   {
    "duration": 10,
    "start_time": "2022-04-26T09:37:25.555Z"
   },
   {
    "duration": 28,
    "start_time": "2022-04-26T09:37:25.567Z"
   },
   {
    "duration": 20,
    "start_time": "2022-04-26T09:37:25.626Z"
   },
   {
    "duration": 100,
    "start_time": "2022-04-26T09:37:25.648Z"
   },
   {
    "duration": 20,
    "start_time": "2022-04-26T09:37:25.750Z"
   },
   {
    "duration": 10,
    "start_time": "2022-04-26T09:37:25.772Z"
   },
   {
    "duration": 56,
    "start_time": "2022-04-26T09:37:25.784Z"
   },
   {
    "duration": 36,
    "start_time": "2022-04-26T09:37:25.842Z"
   },
   {
    "duration": 142,
    "start_time": "2022-04-26T09:37:25.880Z"
   },
   {
    "duration": 11,
    "start_time": "2022-04-26T09:37:26.024Z"
   },
   {
    "duration": 16,
    "start_time": "2022-04-26T09:37:26.038Z"
   },
   {
    "duration": 24,
    "start_time": "2022-04-26T09:37:26.057Z"
   },
   {
    "duration": 11,
    "start_time": "2022-04-26T09:37:26.083Z"
   },
   {
    "duration": 23,
    "start_time": "2022-04-26T09:37:26.097Z"
   },
   {
    "duration": 9,
    "start_time": "2022-04-26T09:37:26.125Z"
   },
   {
    "duration": 59,
    "start_time": "2022-04-26T09:37:26.136Z"
   },
   {
    "duration": 26,
    "start_time": "2022-04-26T09:37:26.198Z"
   },
   {
    "duration": 34,
    "start_time": "2022-04-26T09:37:26.227Z"
   },
   {
    "duration": 7,
    "start_time": "2022-04-26T09:37:26.263Z"
   },
   {
    "duration": 71,
    "start_time": "2022-04-26T09:37:26.272Z"
   },
   {
    "duration": 8,
    "start_time": "2022-04-26T09:37:26.345Z"
   },
   {
    "duration": 22,
    "start_time": "2022-04-26T09:37:26.356Z"
   },
   {
    "duration": 34,
    "start_time": "2022-04-26T09:37:26.380Z"
   },
   {
    "duration": 12,
    "start_time": "2022-04-26T09:37:26.416Z"
   },
   {
    "duration": 19,
    "start_time": "2022-04-26T09:37:26.430Z"
   },
   {
    "duration": 8,
    "start_time": "2022-04-26T09:37:26.451Z"
   },
   {
    "duration": 12,
    "start_time": "2022-04-26T09:37:26.461Z"
   },
   {
    "duration": 9,
    "start_time": "2022-04-26T09:37:26.475Z"
   },
   {
    "duration": 7409,
    "start_time": "2022-04-26T09:37:26.487Z"
   },
   {
    "duration": 5,
    "start_time": "2022-04-26T09:37:33.898Z"
   },
   {
    "duration": 4,
    "start_time": "2022-04-26T09:37:33.924Z"
   },
   {
    "duration": 51,
    "start_time": "2022-04-26T09:37:33.930Z"
   },
   {
    "duration": 81,
    "start_time": "2022-04-26T09:37:33.984Z"
   },
   {
    "duration": 67,
    "start_time": "2022-04-26T09:37:34.067Z"
   },
   {
    "duration": 60,
    "start_time": "2022-04-26T09:37:34.137Z"
   },
   {
    "duration": 77,
    "start_time": "2022-04-26T09:37:34.199Z"
   },
   {
    "duration": 6,
    "start_time": "2022-04-26T09:37:34.278Z"
   },
   {
    "duration": 15,
    "start_time": "2022-04-26T09:37:34.286Z"
   },
   {
    "duration": 30,
    "start_time": "2022-04-26T09:37:34.303Z"
   },
   {
    "duration": 21,
    "start_time": "2022-04-26T09:37:34.335Z"
   },
   {
    "duration": 27,
    "start_time": "2022-04-26T09:37:34.358Z"
   },
   {
    "duration": 40,
    "start_time": "2022-04-26T09:37:34.387Z"
   },
   {
    "duration": 23,
    "start_time": "2022-04-26T09:37:34.429Z"
   },
   {
    "duration": 6,
    "start_time": "2022-04-26T09:37:34.454Z"
   },
   {
    "duration": 14,
    "start_time": "2022-04-26T09:37:34.462Z"
   },
   {
    "duration": 15,
    "start_time": "2022-04-26T09:37:34.479Z"
   },
   {
    "duration": 31,
    "start_time": "2022-04-26T09:37:34.496Z"
   },
   {
    "duration": 4,
    "start_time": "2022-04-26T09:38:11.971Z"
   },
   {
    "duration": 9,
    "start_time": "2022-04-26T09:38:12.807Z"
   },
   {
    "duration": 18,
    "start_time": "2022-04-26T09:38:14.107Z"
   },
   {
    "duration": 6,
    "start_time": "2022-04-26T09:42:08.820Z"
   },
   {
    "duration": 5,
    "start_time": "2022-04-26T09:45:04.515Z"
   },
   {
    "duration": 10,
    "start_time": "2022-04-26T09:45:51.202Z"
   },
   {
    "duration": 17,
    "start_time": "2022-04-26T09:45:54.851Z"
   },
   {
    "duration": 19,
    "start_time": "2022-04-26T09:48:09.303Z"
   },
   {
    "duration": 5,
    "start_time": "2022-04-26T09:52:18.434Z"
   },
   {
    "duration": 5,
    "start_time": "2022-04-26T09:52:18.827Z"
   },
   {
    "duration": 5,
    "start_time": "2022-04-26T09:52:19.228Z"
   },
   {
    "duration": 4,
    "start_time": "2022-04-26T09:52:19.595Z"
   },
   {
    "duration": 15,
    "start_time": "2022-04-26T09:53:26.174Z"
   },
   {
    "duration": 4,
    "start_time": "2022-04-26T09:53:59.442Z"
   },
   {
    "duration": 5,
    "start_time": "2022-04-26T09:54:06.098Z"
   },
   {
    "duration": 8,
    "start_time": "2022-04-26T09:55:26.274Z"
   },
   {
    "duration": 22,
    "start_time": "2022-04-26T09:55:48.887Z"
   },
   {
    "duration": 21,
    "start_time": "2022-04-26T10:00:23.267Z"
   },
   {
    "duration": 15,
    "start_time": "2022-04-26T10:00:30.370Z"
   },
   {
    "duration": 15,
    "start_time": "2022-04-26T10:11:41.484Z"
   },
   {
    "duration": 3,
    "start_time": "2022-04-26T10:11:42.610Z"
   },
   {
    "duration": 3,
    "start_time": "2022-04-26T10:11:43.561Z"
   },
   {
    "duration": 4,
    "start_time": "2022-04-26T10:11:44.057Z"
   },
   {
    "duration": 97,
    "start_time": "2022-04-26T10:11:46.929Z"
   },
   {
    "duration": 44,
    "start_time": "2022-04-26T10:12:18.057Z"
   },
   {
    "duration": 5,
    "start_time": "2022-04-26T10:28:29.448Z"
   },
   {
    "duration": 4,
    "start_time": "2022-04-26T10:28:44.576Z"
   },
   {
    "duration": 1059,
    "start_time": "2022-04-26T10:29:38.499Z"
   },
   {
    "duration": 1288,
    "start_time": "2022-04-26T10:32:03.988Z"
   },
   {
    "duration": 1246,
    "start_time": "2022-04-26T10:32:45.131Z"
   },
   {
    "duration": 9,
    "start_time": "2022-04-26T11:27:47.283Z"
   },
   {
    "duration": 7,
    "start_time": "2022-04-26T11:27:47.915Z"
   },
   {
    "duration": 7,
    "start_time": "2022-04-26T11:28:18.967Z"
   },
   {
    "duration": 8,
    "start_time": "2022-04-26T11:29:20.940Z"
   },
   {
    "duration": 5,
    "start_time": "2022-04-26T11:29:24.666Z"
   },
   {
    "duration": 6,
    "start_time": "2022-04-26T11:29:41.062Z"
   },
   {
    "duration": 4,
    "start_time": "2022-04-26T11:29:54.846Z"
   },
   {
    "duration": 6,
    "start_time": "2022-04-26T11:30:15.262Z"
   },
   {
    "duration": 4,
    "start_time": "2022-04-26T11:30:51.674Z"
   },
   {
    "duration": 5,
    "start_time": "2022-04-26T11:31:45.890Z"
   },
   {
    "duration": 6,
    "start_time": "2022-04-26T11:31:47.704Z"
   },
   {
    "duration": 5,
    "start_time": "2022-04-26T11:32:27.798Z"
   },
   {
    "duration": 231,
    "start_time": "2022-04-26T11:33:01.883Z"
   },
   {
    "duration": 6,
    "start_time": "2022-04-26T11:33:04.551Z"
   },
   {
    "duration": 5,
    "start_time": "2022-04-26T11:33:05.258Z"
   },
   {
    "duration": 5,
    "start_time": "2022-04-26T11:33:34.202Z"
   },
   {
    "duration": 7,
    "start_time": "2022-04-26T11:39:15.186Z"
   },
   {
    "duration": 7,
    "start_time": "2022-04-26T11:39:15.963Z"
   },
   {
    "duration": 11,
    "start_time": "2022-04-26T11:39:37.770Z"
   },
   {
    "duration": 9,
    "start_time": "2022-04-26T11:40:06.282Z"
   },
   {
    "duration": 10,
    "start_time": "2022-04-26T11:41:31.766Z"
   },
   {
    "duration": 18,
    "start_time": "2022-04-26T11:42:23.710Z"
   },
   {
    "duration": 9,
    "start_time": "2022-04-26T11:42:26.410Z"
   },
   {
    "duration": 7,
    "start_time": "2022-04-26T11:42:27.378Z"
   },
   {
    "duration": 7,
    "start_time": "2022-04-26T11:43:01.434Z"
   },
   {
    "duration": 7,
    "start_time": "2022-04-26T11:43:02.031Z"
   },
   {
    "duration": 4,
    "start_time": "2022-04-26T11:43:18.593Z"
   },
   {
    "duration": 5,
    "start_time": "2022-04-26T11:43:20.814Z"
   },
   {
    "duration": 6,
    "start_time": "2022-04-26T11:44:05.933Z"
   },
   {
    "duration": 5,
    "start_time": "2022-04-26T11:44:26.581Z"
   },
   {
    "duration": 3,
    "start_time": "2022-04-26T12:26:11.351Z"
   },
   {
    "duration": 10,
    "start_time": "2022-04-26T12:26:11.357Z"
   },
   {
    "duration": 6,
    "start_time": "2022-04-26T12:26:11.369Z"
   },
   {
    "duration": 7,
    "start_time": "2022-04-26T12:26:11.378Z"
   },
   {
    "duration": 15,
    "start_time": "2022-04-26T12:26:11.387Z"
   },
   {
    "duration": 8,
    "start_time": "2022-04-26T12:26:11.405Z"
   },
   {
    "duration": 47,
    "start_time": "2022-04-26T12:26:11.429Z"
   },
   {
    "duration": 261,
    "start_time": "2022-04-26T12:26:11.479Z"
   },
   {
    "duration": 127,
    "start_time": "2022-04-26T12:26:11.744Z"
   },
   {
    "duration": 185,
    "start_time": "2022-04-26T12:26:11.874Z"
   },
   {
    "duration": 13,
    "start_time": "2022-04-26T12:26:12.061Z"
   },
   {
    "duration": 4,
    "start_time": "2022-04-26T12:26:12.076Z"
   },
   {
    "duration": 43,
    "start_time": "2022-04-26T12:26:12.082Z"
   },
   {
    "duration": 21,
    "start_time": "2022-04-26T12:26:12.128Z"
   },
   {
    "duration": 25,
    "start_time": "2022-04-26T12:26:12.153Z"
   },
   {
    "duration": 12,
    "start_time": "2022-04-26T12:26:12.180Z"
   },
   {
    "duration": 44,
    "start_time": "2022-04-26T12:26:12.194Z"
   },
   {
    "duration": 16,
    "start_time": "2022-04-26T12:26:12.245Z"
   },
   {
    "duration": 10,
    "start_time": "2022-04-26T12:26:12.264Z"
   },
   {
    "duration": 10,
    "start_time": "2022-04-26T12:26:12.276Z"
   },
   {
    "duration": 22,
    "start_time": "2022-04-26T12:26:12.289Z"
   },
   {
    "duration": 11,
    "start_time": "2022-04-26T12:26:12.339Z"
   },
   {
    "duration": 47,
    "start_time": "2022-04-26T12:26:12.353Z"
   },
   {
    "duration": 39,
    "start_time": "2022-04-26T12:26:12.406Z"
   },
   {
    "duration": 169,
    "start_time": "2022-04-26T12:26:12.447Z"
   },
   {
    "duration": 35,
    "start_time": "2022-04-26T12:26:12.618Z"
   },
   {
    "duration": 8,
    "start_time": "2022-04-26T12:26:12.657Z"
   },
   {
    "duration": 27,
    "start_time": "2022-04-26T12:26:12.667Z"
   },
   {
    "duration": 45,
    "start_time": "2022-04-26T12:26:12.697Z"
   },
   {
    "duration": 69,
    "start_time": "2022-04-26T12:26:12.745Z"
   },
   {
    "duration": 40,
    "start_time": "2022-04-26T12:26:12.816Z"
   },
   {
    "duration": 8,
    "start_time": "2022-04-26T12:26:12.860Z"
   },
   {
    "duration": 30,
    "start_time": "2022-04-26T12:26:12.870Z"
   },
   {
    "duration": 64,
    "start_time": "2022-04-26T12:26:12.903Z"
   },
   {
    "duration": 129,
    "start_time": "2022-04-26T12:26:12.969Z"
   },
   {
    "duration": 12,
    "start_time": "2022-04-26T12:26:13.101Z"
   },
   {
    "duration": 17,
    "start_time": "2022-04-26T12:26:13.115Z"
   },
   {
    "duration": 38,
    "start_time": "2022-04-26T12:26:13.134Z"
   },
   {
    "duration": 8,
    "start_time": "2022-04-26T12:26:13.174Z"
   },
   {
    "duration": 12,
    "start_time": "2022-04-26T12:26:13.184Z"
   },
   {
    "duration": 13,
    "start_time": "2022-04-26T12:26:13.198Z"
   },
   {
    "duration": 76,
    "start_time": "2022-04-26T12:26:13.213Z"
   },
   {
    "duration": 7,
    "start_time": "2022-04-26T12:26:13.291Z"
   },
   {
    "duration": 60,
    "start_time": "2022-04-26T12:26:13.300Z"
   },
   {
    "duration": 6,
    "start_time": "2022-04-26T12:26:13.363Z"
   },
   {
    "duration": 65,
    "start_time": "2022-04-26T12:26:13.372Z"
   },
   {
    "duration": 8,
    "start_time": "2022-04-26T12:26:13.445Z"
   },
   {
    "duration": 13,
    "start_time": "2022-04-26T12:26:13.457Z"
   },
   {
    "duration": 19,
    "start_time": "2022-04-26T12:26:13.472Z"
   },
   {
    "duration": 10,
    "start_time": "2022-04-26T12:26:13.493Z"
   },
   {
    "duration": 35,
    "start_time": "2022-04-26T12:26:13.505Z"
   },
   {
    "duration": 21,
    "start_time": "2022-04-26T12:26:13.548Z"
   },
   {
    "duration": 7,
    "start_time": "2022-04-26T12:26:13.572Z"
   },
   {
    "duration": 8,
    "start_time": "2022-04-26T12:26:13.582Z"
   },
   {
    "duration": 8389,
    "start_time": "2022-04-26T12:26:13.592Z"
   },
   {
    "duration": 5,
    "start_time": "2022-04-26T12:26:21.984Z"
   },
   {
    "duration": 10,
    "start_time": "2022-04-26T12:26:21.992Z"
   },
   {
    "duration": 43,
    "start_time": "2022-04-26T12:26:22.024Z"
   },
   {
    "duration": 95,
    "start_time": "2022-04-26T12:26:22.069Z"
   },
   {
    "duration": 73,
    "start_time": "2022-04-26T12:26:22.167Z"
   },
   {
    "duration": 58,
    "start_time": "2022-04-26T12:26:22.242Z"
   },
   {
    "duration": 83,
    "start_time": "2022-04-26T12:26:22.302Z"
   },
   {
    "duration": 6,
    "start_time": "2022-04-26T12:26:22.387Z"
   },
   {
    "duration": 14,
    "start_time": "2022-04-26T12:26:22.395Z"
   },
   {
    "duration": 19,
    "start_time": "2022-04-26T12:26:22.411Z"
   },
   {
    "duration": 19,
    "start_time": "2022-04-26T12:26:22.432Z"
   },
   {
    "duration": 32,
    "start_time": "2022-04-26T12:26:22.457Z"
   },
   {
    "duration": 10,
    "start_time": "2022-04-26T12:26:22.491Z"
   },
   {
    "duration": 30,
    "start_time": "2022-04-26T12:26:22.528Z"
   },
   {
    "duration": 5,
    "start_time": "2022-04-26T12:26:22.563Z"
   },
   {
    "duration": 9,
    "start_time": "2022-04-26T12:26:22.570Z"
   },
   {
    "duration": 7,
    "start_time": "2022-04-26T12:26:22.581Z"
   },
   {
    "duration": 6,
    "start_time": "2022-04-26T12:26:22.590Z"
   },
   {
    "duration": 17,
    "start_time": "2022-04-26T12:26:22.630Z"
   },
   {
    "duration": 19,
    "start_time": "2022-04-26T12:26:22.650Z"
   },
   {
    "duration": 9,
    "start_time": "2022-04-26T12:26:22.672Z"
   },
   {
    "duration": 16,
    "start_time": "2022-04-26T12:26:22.683Z"
   },
   {
    "duration": 6,
    "start_time": "2022-04-26T12:26:22.701Z"
   },
   {
    "duration": 28,
    "start_time": "2022-04-26T12:26:22.709Z"
   },
   {
    "duration": 26,
    "start_time": "2022-04-26T12:26:22.746Z"
   },
   {
    "duration": 18,
    "start_time": "2022-04-26T12:26:22.774Z"
   },
   {
    "duration": 5,
    "start_time": "2022-04-26T12:26:22.795Z"
   },
   {
    "duration": 25,
    "start_time": "2022-04-26T12:26:22.802Z"
   },
   {
    "duration": 32,
    "start_time": "2022-04-26T12:26:22.833Z"
   },
   {
    "duration": 6,
    "start_time": "2022-04-26T12:26:22.867Z"
   },
   {
    "duration": 15,
    "start_time": "2022-04-26T12:26:22.876Z"
   },
   {
    "duration": 16,
    "start_time": "2022-04-26T12:26:22.893Z"
   },
   {
    "duration": 8,
    "start_time": "2022-04-26T12:26:22.911Z"
   },
   {
    "duration": 46,
    "start_time": "2022-04-26T12:26:22.921Z"
   },
   {
    "duration": 24,
    "start_time": "2022-04-26T12:26:22.969Z"
   },
   {
    "duration": 26,
    "start_time": "2022-04-26T12:26:22.996Z"
   },
   {
    "duration": 27,
    "start_time": "2022-04-26T12:26:23.028Z"
   },
   {
    "duration": 18,
    "start_time": "2022-04-26T12:26:23.057Z"
   },
   {
    "duration": 8,
    "start_time": "2022-04-26T12:26:23.077Z"
   },
   {
    "duration": 7,
    "start_time": "2022-04-26T12:26:23.087Z"
   },
   {
    "duration": 9,
    "start_time": "2022-04-26T12:26:23.096Z"
   },
   {
    "duration": 71,
    "start_time": "2022-04-26T12:26:23.107Z"
   },
   {
    "duration": 5,
    "start_time": "2022-04-26T12:26:23.180Z"
   },
   {
    "duration": 10,
    "start_time": "2022-04-26T12:26:23.188Z"
   },
   {
    "duration": 1279,
    "start_time": "2022-04-26T12:26:23.201Z"
   },
   {
    "duration": 9,
    "start_time": "2022-04-26T12:26:24.482Z"
   },
   {
    "duration": 13,
    "start_time": "2022-04-26T12:26:24.494Z"
   },
   {
    "duration": 10,
    "start_time": "2022-04-26T12:26:24.524Z"
   },
   {
    "duration": 33,
    "start_time": "2022-04-26T12:26:24.537Z"
   },
   {
    "duration": 10,
    "start_time": "2022-04-26T12:26:24.573Z"
   },
   {
    "duration": 10,
    "start_time": "2022-04-26T12:26:24.585Z"
   },
   {
    "duration": 7,
    "start_time": "2022-04-26T12:26:24.597Z"
   },
   {
    "duration": 53,
    "start_time": "2022-04-26T12:26:24.606Z"
   },
   {
    "duration": 5,
    "start_time": "2022-04-26T12:26:24.661Z"
   },
   {
    "duration": 8,
    "start_time": "2022-04-26T12:26:24.668Z"
   },
   {
    "duration": 7,
    "start_time": "2022-04-26T12:26:24.678Z"
   },
   {
    "duration": 8,
    "start_time": "2022-04-26T12:26:24.688Z"
   },
   {
    "duration": 13,
    "start_time": "2022-04-26T12:26:24.698Z"
   },
   {
    "duration": 7,
    "start_time": "2022-04-26T12:26:24.714Z"
   },
   {
    "duration": 39,
    "start_time": "2022-04-26T12:26:24.725Z"
   },
   {
    "duration": 11,
    "start_time": "2022-04-26T12:26:24.767Z"
   },
   {
    "duration": 10,
    "start_time": "2022-04-26T12:26:24.781Z"
   },
   {
    "duration": 10,
    "start_time": "2022-04-26T12:26:24.794Z"
   },
   {
    "duration": 10,
    "start_time": "2022-04-26T12:26:24.806Z"
   },
   {
    "duration": 18,
    "start_time": "2022-04-26T12:26:24.818Z"
   },
   {
    "duration": 26,
    "start_time": "2022-04-26T12:26:24.840Z"
   },
   {
    "duration": 7,
    "start_time": "2022-04-26T12:26:24.868Z"
   },
   {
    "duration": 11,
    "start_time": "2022-04-26T12:26:24.878Z"
   },
   {
    "duration": 5,
    "start_time": "2022-04-26T12:26:24.892Z"
   },
   {
    "duration": 7,
    "start_time": "2022-04-26T12:26:24.900Z"
   },
   {
    "duration": 25,
    "start_time": "2022-04-26T12:26:24.910Z"
   },
   {
    "duration": 386,
    "start_time": "2022-05-01T17:14:23.292Z"
   },
   {
    "duration": 2,
    "start_time": "2022-05-01T17:14:23.680Z"
   },
   {
    "duration": 7,
    "start_time": "2022-05-01T17:14:23.684Z"
   },
   {
    "duration": 5,
    "start_time": "2022-05-01T17:14:23.693Z"
   },
   {
    "duration": 458,
    "start_time": "2022-05-01T17:14:23.699Z"
   },
   {
    "duration": 463,
    "start_time": "2022-05-01T17:14:24.158Z"
   },
   {
    "duration": 21,
    "start_time": "2022-05-01T17:14:24.623Z"
   },
   {
    "duration": 137,
    "start_time": "2022-05-01T17:14:24.646Z"
   },
   {
    "duration": 79,
    "start_time": "2022-05-01T17:14:24.785Z"
   },
   {
    "duration": 120,
    "start_time": "2022-05-01T17:14:24.867Z"
   },
   {
    "duration": 10,
    "start_time": "2022-05-01T17:14:24.989Z"
   },
   {
    "duration": 3,
    "start_time": "2022-05-01T17:14:25.001Z"
   },
   {
    "duration": 18,
    "start_time": "2022-05-01T17:14:25.005Z"
   },
   {
    "duration": 24,
    "start_time": "2022-05-01T17:14:25.025Z"
   },
   {
    "duration": 14,
    "start_time": "2022-05-01T17:14:25.051Z"
   },
   {
    "duration": 8,
    "start_time": "2022-05-01T17:14:25.067Z"
   },
   {
    "duration": 19,
    "start_time": "2022-05-01T17:14:25.076Z"
   },
   {
    "duration": 6,
    "start_time": "2022-05-01T17:14:25.097Z"
   },
   {
    "duration": 42,
    "start_time": "2022-05-01T17:14:25.105Z"
   },
   {
    "duration": 7,
    "start_time": "2022-05-01T17:14:25.150Z"
   },
   {
    "duration": 14,
    "start_time": "2022-05-01T17:14:25.159Z"
   },
   {
    "duration": 5,
    "start_time": "2022-05-01T17:14:25.175Z"
   },
   {
    "duration": 68,
    "start_time": "2022-05-01T17:14:25.182Z"
   },
   {
    "duration": 33,
    "start_time": "2022-05-01T17:14:25.252Z"
   },
   {
    "duration": 166,
    "start_time": "2022-05-01T17:14:25.287Z"
   },
   {
    "duration": 13,
    "start_time": "2022-05-01T17:14:25.456Z"
   },
   {
    "duration": 5,
    "start_time": "2022-05-01T17:14:25.471Z"
   },
   {
    "duration": 26,
    "start_time": "2022-05-01T17:14:25.482Z"
   },
   {
    "duration": 47,
    "start_time": "2022-05-01T17:14:25.510Z"
   },
   {
    "duration": 45,
    "start_time": "2022-05-01T17:14:25.559Z"
   },
   {
    "duration": 43,
    "start_time": "2022-05-01T17:14:25.606Z"
   },
   {
    "duration": 6,
    "start_time": "2022-05-01T17:14:25.651Z"
   },
   {
    "duration": 24,
    "start_time": "2022-05-01T17:14:25.658Z"
   },
   {
    "duration": 27,
    "start_time": "2022-05-01T17:14:25.684Z"
   },
   {
    "duration": 86,
    "start_time": "2022-05-01T17:14:25.712Z"
   },
   {
    "duration": 8,
    "start_time": "2022-05-01T17:14:25.799Z"
   },
   {
    "duration": 6,
    "start_time": "2022-05-01T17:14:25.808Z"
   },
   {
    "duration": 33,
    "start_time": "2022-05-01T17:14:25.815Z"
   },
   {
    "duration": 3,
    "start_time": "2022-05-01T17:14:25.849Z"
   },
   {
    "duration": 8,
    "start_time": "2022-05-01T17:14:25.853Z"
   },
   {
    "duration": 6,
    "start_time": "2022-05-01T17:14:25.863Z"
   },
   {
    "duration": 33,
    "start_time": "2022-05-01T17:14:25.871Z"
   },
   {
    "duration": 5,
    "start_time": "2022-05-01T17:14:25.905Z"
   },
   {
    "duration": 55,
    "start_time": "2022-05-01T17:14:25.912Z"
   },
   {
    "duration": 5,
    "start_time": "2022-05-01T17:14:25.969Z"
   },
   {
    "duration": 27,
    "start_time": "2022-05-01T17:14:25.975Z"
   },
   {
    "duration": 5,
    "start_time": "2022-05-01T17:14:26.004Z"
   },
   {
    "duration": 39,
    "start_time": "2022-05-01T17:14:26.010Z"
   },
   {
    "duration": 13,
    "start_time": "2022-05-01T17:14:26.051Z"
   },
   {
    "duration": 5,
    "start_time": "2022-05-01T17:14:26.066Z"
   },
   {
    "duration": 7,
    "start_time": "2022-05-01T17:14:26.073Z"
   },
   {
    "duration": 8,
    "start_time": "2022-05-01T17:14:26.082Z"
   },
   {
    "duration": 8,
    "start_time": "2022-05-01T17:14:26.091Z"
   },
   {
    "duration": 7,
    "start_time": "2022-05-01T17:14:26.100Z"
   },
   {
    "duration": 4163,
    "start_time": "2022-05-01T17:14:26.108Z"
   },
   {
    "duration": 4,
    "start_time": "2022-05-01T17:14:30.273Z"
   },
   {
    "duration": 21,
    "start_time": "2022-05-01T17:14:30.279Z"
   },
   {
    "duration": 51,
    "start_time": "2022-05-01T17:14:30.302Z"
   },
   {
    "duration": 50,
    "start_time": "2022-05-01T17:14:30.355Z"
   },
   {
    "duration": 59,
    "start_time": "2022-05-01T17:14:30.407Z"
   },
   {
    "duration": 41,
    "start_time": "2022-05-01T17:14:30.467Z"
   },
   {
    "duration": 60,
    "start_time": "2022-05-01T17:14:30.510Z"
   },
   {
    "duration": 5,
    "start_time": "2022-05-01T17:14:30.572Z"
   },
   {
    "duration": 11,
    "start_time": "2022-05-01T17:14:30.579Z"
   },
   {
    "duration": 12,
    "start_time": "2022-05-01T17:14:30.591Z"
   },
   {
    "duration": 14,
    "start_time": "2022-05-01T17:14:30.605Z"
   },
   {
    "duration": 38,
    "start_time": "2022-05-01T17:14:30.621Z"
   },
   {
    "duration": 7,
    "start_time": "2022-05-01T17:14:30.661Z"
   },
   {
    "duration": 26,
    "start_time": "2022-05-01T17:14:30.670Z"
   },
   {
    "duration": 10,
    "start_time": "2022-05-01T17:14:30.698Z"
   },
   {
    "duration": 25,
    "start_time": "2022-05-01T17:14:30.710Z"
   },
   {
    "duration": 15,
    "start_time": "2022-05-01T17:14:30.737Z"
   },
   {
    "duration": 19,
    "start_time": "2022-05-01T17:14:30.754Z"
   },
   {
    "duration": 15,
    "start_time": "2022-05-01T17:14:30.775Z"
   },
   {
    "duration": 7,
    "start_time": "2022-05-01T17:14:30.792Z"
   },
   {
    "duration": 19,
    "start_time": "2022-05-01T17:14:30.801Z"
   },
   {
    "duration": 42,
    "start_time": "2022-05-01T17:14:30.822Z"
   },
   {
    "duration": 9,
    "start_time": "2022-05-01T17:14:30.866Z"
   },
   {
    "duration": 12,
    "start_time": "2022-05-01T17:14:30.878Z"
   },
   {
    "duration": 16,
    "start_time": "2022-05-01T17:14:30.892Z"
   },
   {
    "duration": 24,
    "start_time": "2022-05-01T17:14:30.911Z"
   },
   {
    "duration": 4,
    "start_time": "2022-05-01T17:14:30.950Z"
   },
   {
    "duration": 12,
    "start_time": "2022-05-01T17:14:30.955Z"
   },
   {
    "duration": 26,
    "start_time": "2022-05-01T17:14:30.969Z"
   },
   {
    "duration": 12,
    "start_time": "2022-05-01T17:14:30.997Z"
   },
   {
    "duration": 21,
    "start_time": "2022-05-01T17:14:31.011Z"
   },
   {
    "duration": 19,
    "start_time": "2022-05-01T17:14:31.034Z"
   },
   {
    "duration": 16,
    "start_time": "2022-05-01T17:14:31.055Z"
   },
   {
    "duration": 14,
    "start_time": "2022-05-01T17:14:31.073Z"
   },
   {
    "duration": 19,
    "start_time": "2022-05-01T17:14:31.089Z"
   },
   {
    "duration": 23,
    "start_time": "2022-05-01T17:14:31.109Z"
   },
   {
    "duration": 9,
    "start_time": "2022-05-01T17:14:31.134Z"
   },
   {
    "duration": 16,
    "start_time": "2022-05-01T17:14:31.145Z"
   },
   {
    "duration": 7,
    "start_time": "2022-05-01T17:14:31.162Z"
   },
   {
    "duration": 5,
    "start_time": "2022-05-01T17:14:31.171Z"
   },
   {
    "duration": 15,
    "start_time": "2022-05-01T17:14:31.177Z"
   },
   {
    "duration": 33,
    "start_time": "2022-05-01T17:14:31.193Z"
   },
   {
    "duration": 20,
    "start_time": "2022-05-01T17:14:31.228Z"
   },
   {
    "duration": 3,
    "start_time": "2022-05-01T17:14:31.250Z"
   },
   {
    "duration": 631,
    "start_time": "2022-05-01T17:14:31.255Z"
   },
   {
    "duration": 6,
    "start_time": "2022-05-01T17:14:31.888Z"
   },
   {
    "duration": 8,
    "start_time": "2022-05-01T17:14:31.896Z"
   },
   {
    "duration": 7,
    "start_time": "2022-05-01T17:14:31.906Z"
   },
   {
    "duration": 34,
    "start_time": "2022-05-01T17:14:31.915Z"
   },
   {
    "duration": 3,
    "start_time": "2022-05-01T17:14:31.951Z"
   },
   {
    "duration": 6,
    "start_time": "2022-05-01T17:14:31.956Z"
   },
   {
    "duration": 7,
    "start_time": "2022-05-01T17:14:31.964Z"
   },
   {
    "duration": 10,
    "start_time": "2022-05-01T17:14:31.973Z"
   },
   {
    "duration": 9,
    "start_time": "2022-05-01T17:14:31.985Z"
   },
   {
    "duration": 5,
    "start_time": "2022-05-01T17:14:31.996Z"
   },
   {
    "duration": 9,
    "start_time": "2022-05-01T17:14:32.003Z"
   },
   {
    "duration": 34,
    "start_time": "2022-05-01T17:14:32.014Z"
   },
   {
    "duration": 4,
    "start_time": "2022-05-01T17:14:32.049Z"
   },
   {
    "duration": 7,
    "start_time": "2022-05-01T17:14:32.054Z"
   },
   {
    "duration": 7,
    "start_time": "2022-05-01T17:14:32.063Z"
   },
   {
    "duration": 10,
    "start_time": "2022-05-01T17:14:32.072Z"
   },
   {
    "duration": 9,
    "start_time": "2022-05-01T17:14:32.084Z"
   },
   {
    "duration": 10,
    "start_time": "2022-05-01T17:14:32.094Z"
   },
   {
    "duration": 12,
    "start_time": "2022-05-01T17:14:32.106Z"
   },
   {
    "duration": 28,
    "start_time": "2022-05-01T17:14:32.120Z"
   },
   {
    "duration": 4,
    "start_time": "2022-05-01T17:14:32.149Z"
   },
   {
    "duration": 6,
    "start_time": "2022-05-01T17:14:32.155Z"
   },
   {
    "duration": 13,
    "start_time": "2022-05-01T17:14:32.162Z"
   },
   {
    "duration": 5,
    "start_time": "2022-05-01T17:14:32.177Z"
   },
   {
    "duration": 4,
    "start_time": "2022-05-01T17:14:32.184Z"
   },
   {
    "duration": 4,
    "start_time": "2022-05-01T17:14:32.191Z"
   },
   {
    "duration": 139,
    "start_time": "2022-05-01T17:32:00.881Z"
   },
   {
    "duration": 15,
    "start_time": "2022-05-01T17:32:27.480Z"
   },
   {
    "duration": 14,
    "start_time": "2022-05-01T17:32:46.616Z"
   },
   {
    "duration": 114,
    "start_time": "2022-05-01T17:40:19.621Z"
   },
   {
    "duration": 26,
    "start_time": "2022-05-01T17:40:31.507Z"
   },
   {
    "duration": 384,
    "start_time": "2022-05-02T08:38:57.260Z"
   },
   {
    "duration": 3,
    "start_time": "2022-05-02T08:38:57.646Z"
   },
   {
    "duration": 5,
    "start_time": "2022-05-02T08:38:57.650Z"
   },
   {
    "duration": 5,
    "start_time": "2022-05-02T08:38:57.657Z"
   },
   {
    "duration": 446,
    "start_time": "2022-05-02T08:38:57.664Z"
   },
   {
    "duration": 473,
    "start_time": "2022-05-02T08:38:58.112Z"
   },
   {
    "duration": 68,
    "start_time": "2022-05-02T08:38:58.587Z"
   },
   {
    "duration": 167,
    "start_time": "2022-05-02T08:38:58.656Z"
   },
   {
    "duration": 96,
    "start_time": "2022-05-02T08:38:58.825Z"
   },
   {
    "duration": 145,
    "start_time": "2022-05-02T08:38:58.925Z"
   },
   {
    "duration": 17,
    "start_time": "2022-05-02T08:38:59.071Z"
   },
   {
    "duration": 3,
    "start_time": "2022-05-02T08:38:59.089Z"
   },
   {
    "duration": 25,
    "start_time": "2022-05-02T08:38:59.094Z"
   },
   {
    "duration": 7,
    "start_time": "2022-05-02T08:38:59.120Z"
   },
   {
    "duration": 20,
    "start_time": "2022-05-02T08:38:59.129Z"
   },
   {
    "duration": 7,
    "start_time": "2022-05-02T08:38:59.151Z"
   },
   {
    "duration": 15,
    "start_time": "2022-05-02T08:38:59.160Z"
   },
   {
    "duration": 6,
    "start_time": "2022-05-02T08:38:59.177Z"
   },
   {
    "duration": 20,
    "start_time": "2022-05-02T08:38:59.185Z"
   },
   {
    "duration": 21,
    "start_time": "2022-05-02T08:38:59.206Z"
   },
   {
    "duration": 14,
    "start_time": "2022-05-02T08:38:59.229Z"
   },
   {
    "duration": 15,
    "start_time": "2022-05-02T08:38:59.244Z"
   },
   {
    "duration": 29,
    "start_time": "2022-05-02T08:38:59.260Z"
   },
   {
    "duration": 51,
    "start_time": "2022-05-02T08:38:59.291Z"
   },
   {
    "duration": 141,
    "start_time": "2022-05-02T08:38:59.344Z"
   },
   {
    "duration": 10,
    "start_time": "2022-05-02T08:38:59.487Z"
   },
   {
    "duration": 6,
    "start_time": "2022-05-02T08:38:59.498Z"
   },
   {
    "duration": 21,
    "start_time": "2022-05-02T08:38:59.523Z"
   },
   {
    "duration": 12,
    "start_time": "2022-05-02T08:38:59.546Z"
   },
   {
    "duration": 71,
    "start_time": "2022-05-02T08:38:59.560Z"
   },
   {
    "duration": 14,
    "start_time": "2022-05-02T08:38:59.633Z"
   },
   {
    "duration": 6,
    "start_time": "2022-05-02T08:38:59.649Z"
   },
   {
    "duration": 35,
    "start_time": "2022-05-02T08:38:59.657Z"
   },
   {
    "duration": 40,
    "start_time": "2022-05-02T08:38:59.694Z"
   },
   {
    "duration": 76,
    "start_time": "2022-05-02T08:38:59.735Z"
   },
   {
    "duration": 13,
    "start_time": "2022-05-02T08:38:59.822Z"
   },
   {
    "duration": 5,
    "start_time": "2022-05-02T08:38:59.836Z"
   },
   {
    "duration": 12,
    "start_time": "2022-05-02T08:38:59.843Z"
   },
   {
    "duration": 4,
    "start_time": "2022-05-02T08:38:59.857Z"
   },
   {
    "duration": 8,
    "start_time": "2022-05-02T08:38:59.863Z"
   },
   {
    "duration": 10,
    "start_time": "2022-05-02T08:38:59.873Z"
   },
   {
    "duration": 98,
    "start_time": "2022-05-02T08:38:59.885Z"
   },
   {
    "duration": 25,
    "start_time": "2022-05-02T08:38:59.985Z"
   },
   {
    "duration": 27,
    "start_time": "2022-05-02T08:39:00.012Z"
   },
   {
    "duration": 7,
    "start_time": "2022-05-02T08:39:00.041Z"
   },
   {
    "duration": 32,
    "start_time": "2022-05-02T08:39:00.050Z"
   },
   {
    "duration": 6,
    "start_time": "2022-05-02T08:39:00.083Z"
   },
   {
    "duration": 37,
    "start_time": "2022-05-02T08:39:00.091Z"
   },
   {
    "duration": 18,
    "start_time": "2022-05-02T08:39:00.130Z"
   },
   {
    "duration": 7,
    "start_time": "2022-05-02T08:39:00.150Z"
   },
   {
    "duration": 12,
    "start_time": "2022-05-02T08:39:00.159Z"
   },
   {
    "duration": 5,
    "start_time": "2022-05-02T08:39:00.173Z"
   },
   {
    "duration": 13,
    "start_time": "2022-05-02T08:39:00.180Z"
   },
   {
    "duration": 20,
    "start_time": "2022-05-02T08:39:00.195Z"
   },
   {
    "duration": 4838,
    "start_time": "2022-05-02T08:39:00.217Z"
   },
   {
    "duration": 5,
    "start_time": "2022-05-02T08:39:18.541Z"
   },
   {
    "duration": 14,
    "start_time": "2022-05-02T08:39:43.300Z"
   },
   {
    "duration": 9,
    "start_time": "2022-05-02T08:40:57.972Z"
   },
   {
    "duration": 74,
    "start_time": "2022-05-02T20:02:52.991Z"
   },
   {
    "duration": 541,
    "start_time": "2022-05-02T20:03:00.372Z"
   },
   {
    "duration": 8,
    "start_time": "2022-05-02T20:03:00.916Z"
   },
   {
    "duration": 10,
    "start_time": "2022-05-02T20:03:00.926Z"
   },
   {
    "duration": 9,
    "start_time": "2022-05-02T20:03:00.940Z"
   },
   {
    "duration": 621,
    "start_time": "2022-05-02T20:03:00.952Z"
   },
   {
    "duration": 633,
    "start_time": "2022-05-02T20:03:01.576Z"
   },
   {
    "duration": 22,
    "start_time": "2022-05-02T20:03:02.211Z"
   },
   {
    "duration": 201,
    "start_time": "2022-05-02T20:03:02.236Z"
   },
   {
    "duration": 121,
    "start_time": "2022-05-02T20:03:02.439Z"
   },
   {
    "duration": 179,
    "start_time": "2022-05-02T20:03:02.565Z"
   },
   {
    "duration": 12,
    "start_time": "2022-05-02T20:03:02.747Z"
   },
   {
    "duration": 9,
    "start_time": "2022-05-02T20:03:02.761Z"
   },
   {
    "duration": 47,
    "start_time": "2022-05-02T20:03:02.772Z"
   },
   {
    "duration": 7,
    "start_time": "2022-05-02T20:03:02.822Z"
   },
   {
    "duration": 23,
    "start_time": "2022-05-02T20:03:02.832Z"
   },
   {
    "duration": 14,
    "start_time": "2022-05-02T20:03:02.858Z"
   },
   {
    "duration": 49,
    "start_time": "2022-05-02T20:03:02.875Z"
   },
   {
    "duration": 11,
    "start_time": "2022-05-02T20:03:02.927Z"
   },
   {
    "duration": 10,
    "start_time": "2022-05-02T20:03:02.941Z"
   },
   {
    "duration": 17,
    "start_time": "2022-05-02T20:03:02.954Z"
   },
   {
    "duration": 52,
    "start_time": "2022-05-02T20:03:02.974Z"
   },
   {
    "duration": 6,
    "start_time": "2022-05-02T20:03:03.028Z"
   },
   {
    "duration": 50,
    "start_time": "2022-05-02T20:03:03.037Z"
   },
   {
    "duration": 53,
    "start_time": "2022-05-02T20:03:03.089Z"
   },
   {
    "duration": 175,
    "start_time": "2022-05-02T20:03:03.144Z"
   },
   {
    "duration": 15,
    "start_time": "2022-05-02T20:03:03.321Z"
   },
   {
    "duration": 10,
    "start_time": "2022-05-02T20:03:03.339Z"
   },
   {
    "duration": 27,
    "start_time": "2022-05-02T20:03:03.356Z"
   },
   {
    "duration": 52,
    "start_time": "2022-05-02T20:03:03.385Z"
   },
   {
    "duration": 91,
    "start_time": "2022-05-02T20:03:03.440Z"
   },
   {
    "duration": 21,
    "start_time": "2022-05-02T20:03:03.533Z"
   },
   {
    "duration": 9,
    "start_time": "2022-05-02T20:03:03.557Z"
   },
   {
    "duration": 64,
    "start_time": "2022-05-02T20:03:03.568Z"
   },
   {
    "duration": 45,
    "start_time": "2022-05-02T20:03:03.636Z"
   },
   {
    "duration": 189,
    "start_time": "2022-05-02T20:03:03.684Z"
   },
   {
    "duration": 18,
    "start_time": "2022-05-02T20:03:03.876Z"
   },
   {
    "duration": 28,
    "start_time": "2022-05-02T20:03:03.898Z"
   },
   {
    "duration": 25,
    "start_time": "2022-05-02T20:03:03.929Z"
   },
   {
    "duration": 4,
    "start_time": "2022-05-02T20:03:03.957Z"
   },
   {
    "duration": 15,
    "start_time": "2022-05-02T20:03:03.963Z"
   },
   {
    "duration": 16,
    "start_time": "2022-05-02T20:03:03.981Z"
   },
   {
    "duration": 54,
    "start_time": "2022-05-02T20:03:04.024Z"
   },
   {
    "duration": 9,
    "start_time": "2022-05-02T20:03:04.081Z"
   },
   {
    "duration": 60,
    "start_time": "2022-05-02T20:03:04.092Z"
   },
   {
    "duration": 7,
    "start_time": "2022-05-02T20:03:04.154Z"
   },
   {
    "duration": 86,
    "start_time": "2022-05-02T20:03:04.164Z"
   },
   {
    "duration": 9,
    "start_time": "2022-05-02T20:03:04.253Z"
   },
   {
    "duration": 19,
    "start_time": "2022-05-02T20:03:04.264Z"
   },
   {
    "duration": 40,
    "start_time": "2022-05-02T20:03:04.286Z"
   },
   {
    "duration": 4,
    "start_time": "2022-05-02T20:03:04.328Z"
   },
   {
    "duration": 13,
    "start_time": "2022-05-02T20:03:04.335Z"
   },
   {
    "duration": 9,
    "start_time": "2022-05-02T20:03:04.351Z"
   },
   {
    "duration": 10,
    "start_time": "2022-05-02T20:03:04.363Z"
   },
   {
    "duration": 13,
    "start_time": "2022-05-02T20:03:04.375Z"
   },
   {
    "duration": 7997,
    "start_time": "2022-05-02T20:03:04.390Z"
   },
   {
    "duration": 5,
    "start_time": "2022-05-02T20:03:12.389Z"
   },
   {
    "duration": 38,
    "start_time": "2022-05-02T20:03:12.396Z"
   },
   {
    "duration": 20,
    "start_time": "2022-05-02T20:03:12.436Z"
   },
   {
    "duration": 18,
    "start_time": "2022-05-02T20:03:12.459Z"
   },
   {
    "duration": 55,
    "start_time": "2022-05-02T20:03:12.479Z"
   },
   {
    "duration": 72,
    "start_time": "2022-05-02T20:03:12.536Z"
   },
   {
    "duration": 57,
    "start_time": "2022-05-02T20:03:12.625Z"
   },
   {
    "duration": 81,
    "start_time": "2022-05-02T20:03:12.685Z"
   },
   {
    "duration": 79,
    "start_time": "2022-05-02T20:03:12.769Z"
   },
   {
    "duration": 6,
    "start_time": "2022-05-02T20:03:12.850Z"
   },
   {
    "duration": 15,
    "start_time": "2022-05-02T20:03:12.858Z"
   },
   {
    "duration": 9,
    "start_time": "2022-05-02T20:03:12.875Z"
   },
   {
    "duration": 48,
    "start_time": "2022-05-02T20:03:12.886Z"
   },
   {
    "duration": 31,
    "start_time": "2022-05-02T20:03:12.936Z"
   },
   {
    "duration": 11,
    "start_time": "2022-05-02T20:03:12.969Z"
   },
   {
    "duration": 47,
    "start_time": "2022-05-02T20:03:12.982Z"
   },
   {
    "duration": 5,
    "start_time": "2022-05-02T20:03:13.031Z"
   },
   {
    "duration": 7,
    "start_time": "2022-05-02T20:03:13.038Z"
   },
   {
    "duration": 15,
    "start_time": "2022-05-02T20:03:13.047Z"
   },
   {
    "duration": 21,
    "start_time": "2022-05-02T20:03:13.064Z"
   },
   {
    "duration": 5,
    "start_time": "2022-05-02T20:03:13.088Z"
   },
   {
    "duration": 32,
    "start_time": "2022-05-02T20:03:13.095Z"
   },
   {
    "duration": 23,
    "start_time": "2022-05-02T20:03:13.130Z"
   },
   {
    "duration": 5,
    "start_time": "2022-05-02T20:03:13.155Z"
   },
   {
    "duration": 31,
    "start_time": "2022-05-02T20:03:13.163Z"
   },
   {
    "duration": 19,
    "start_time": "2022-05-02T20:03:13.196Z"
   },
   {
    "duration": 20,
    "start_time": "2022-05-02T20:03:13.233Z"
   },
   {
    "duration": 5,
    "start_time": "2022-05-02T20:03:13.255Z"
   },
   {
    "duration": 11,
    "start_time": "2022-05-02T20:03:13.262Z"
   },
   {
    "duration": 9,
    "start_time": "2022-05-02T20:03:13.275Z"
   },
   {
    "duration": 6,
    "start_time": "2022-05-02T20:03:13.286Z"
   },
   {
    "duration": 16,
    "start_time": "2022-05-02T20:03:13.325Z"
   },
   {
    "duration": 8,
    "start_time": "2022-05-02T20:03:13.344Z"
   },
   {
    "duration": 28,
    "start_time": "2022-05-02T20:03:13.354Z"
   },
   {
    "duration": 46,
    "start_time": "2022-05-02T20:03:13.384Z"
   },
   {
    "duration": 14,
    "start_time": "2022-05-02T20:03:13.433Z"
   },
   {
    "duration": 19,
    "start_time": "2022-05-02T20:03:13.449Z"
   },
   {
    "duration": 6,
    "start_time": "2022-05-02T20:03:13.471Z"
   },
   {
    "duration": 8,
    "start_time": "2022-05-02T20:03:13.479Z"
   },
   {
    "duration": 36,
    "start_time": "2022-05-02T20:03:13.489Z"
   },
   {
    "duration": 4,
    "start_time": "2022-05-02T20:03:13.527Z"
   },
   {
    "duration": 10,
    "start_time": "2022-05-02T20:03:13.534Z"
   },
   {
    "duration": 49,
    "start_time": "2022-05-02T20:03:13.547Z"
   },
   {
    "duration": 52,
    "start_time": "2022-05-02T20:03:13.598Z"
   },
   {
    "duration": 9,
    "start_time": "2022-05-02T20:03:13.653Z"
   },
   {
    "duration": 16,
    "start_time": "2022-05-02T20:03:13.664Z"
   },
   {
    "duration": 1033,
    "start_time": "2022-05-02T20:03:13.683Z"
   },
   {
    "duration": 9,
    "start_time": "2022-05-02T20:03:14.724Z"
   },
   {
    "duration": 15,
    "start_time": "2022-05-02T20:03:14.735Z"
   },
   {
    "duration": 12,
    "start_time": "2022-05-02T20:03:14.752Z"
   },
   {
    "duration": 13,
    "start_time": "2022-05-02T20:03:14.766Z"
   },
   {
    "duration": 6,
    "start_time": "2022-05-02T20:03:14.781Z"
   },
   {
    "duration": 9,
    "start_time": "2022-05-02T20:03:14.790Z"
   },
   {
    "duration": 27,
    "start_time": "2022-05-02T20:03:14.801Z"
   },
   {
    "duration": 9,
    "start_time": "2022-05-02T20:03:14.831Z"
   },
   {
    "duration": 14,
    "start_time": "2022-05-02T20:03:14.842Z"
   },
   {
    "duration": 11,
    "start_time": "2022-05-02T20:03:14.858Z"
   },
   {
    "duration": 14,
    "start_time": "2022-05-02T20:03:14.871Z"
   },
   {
    "duration": 6,
    "start_time": "2022-05-02T20:03:14.887Z"
   },
   {
    "duration": 7,
    "start_time": "2022-05-02T20:03:14.894Z"
   },
   {
    "duration": 26,
    "start_time": "2022-05-02T20:03:14.902Z"
   },
   {
    "duration": 7,
    "start_time": "2022-05-02T20:03:14.930Z"
   },
   {
    "duration": 10,
    "start_time": "2022-05-02T20:03:14.939Z"
   },
   {
    "duration": 11,
    "start_time": "2022-05-02T20:03:14.951Z"
   },
   {
    "duration": 9,
    "start_time": "2022-05-02T20:03:14.964Z"
   },
   {
    "duration": 11,
    "start_time": "2022-05-02T20:03:14.976Z"
   },
   {
    "duration": 5,
    "start_time": "2022-05-02T20:03:15.025Z"
   },
   {
    "duration": 17,
    "start_time": "2022-05-02T20:03:15.032Z"
   },
   {
    "duration": 8,
    "start_time": "2022-05-02T20:03:15.051Z"
   },
   {
    "duration": 18,
    "start_time": "2022-05-02T20:03:15.061Z"
   },
   {
    "duration": 32,
    "start_time": "2022-05-02T20:03:15.081Z"
   },
   {
    "duration": 11,
    "start_time": "2022-05-02T20:03:15.116Z"
   },
   {
    "duration": 8,
    "start_time": "2022-05-02T20:03:15.129Z"
   },
   {
    "duration": 1202,
    "start_time": "2022-05-02T20:03:50.390Z"
   },
   {
    "duration": 985,
    "start_time": "2022-05-02T20:04:10.542Z"
   },
   {
    "duration": 1048,
    "start_time": "2022-05-02T20:04:21.182Z"
   },
   {
    "duration": 1141,
    "start_time": "2022-05-02T20:05:04.678Z"
   },
   {
    "duration": 1269,
    "start_time": "2022-05-02T20:05:20.030Z"
   },
   {
    "duration": 1108,
    "start_time": "2022-05-02T20:05:29.747Z"
   },
   {
    "duration": 1181,
    "start_time": "2022-05-02T20:05:43.915Z"
   },
   {
    "duration": 1069,
    "start_time": "2022-05-02T20:05:56.459Z"
   },
   {
    "duration": 435,
    "start_time": "2022-05-02T20:26:41.401Z"
   },
   {
    "duration": 3,
    "start_time": "2022-05-02T20:26:41.838Z"
   },
   {
    "duration": 8,
    "start_time": "2022-05-02T20:26:41.842Z"
   },
   {
    "duration": 33,
    "start_time": "2022-05-02T20:26:41.852Z"
   },
   {
    "duration": 329,
    "start_time": "2022-05-02T20:26:41.887Z"
   },
   {
    "duration": 554,
    "start_time": "2022-05-02T20:26:42.217Z"
   },
   {
    "duration": 24,
    "start_time": "2022-05-02T20:26:42.775Z"
   },
   {
    "duration": 184,
    "start_time": "2022-05-02T20:26:42.800Z"
   },
   {
    "duration": 82,
    "start_time": "2022-05-02T20:26:42.986Z"
   },
   {
    "duration": 152,
    "start_time": "2022-05-02T20:26:43.071Z"
   },
   {
    "duration": 11,
    "start_time": "2022-05-02T20:26:43.225Z"
   },
   {
    "duration": 3,
    "start_time": "2022-05-02T20:26:43.238Z"
   },
   {
    "duration": 27,
    "start_time": "2022-05-02T20:26:43.242Z"
   },
   {
    "duration": 22,
    "start_time": "2022-05-02T20:26:43.271Z"
   },
   {
    "duration": 12,
    "start_time": "2022-05-02T20:26:43.294Z"
   },
   {
    "duration": 7,
    "start_time": "2022-05-02T20:26:43.308Z"
   },
   {
    "duration": 14,
    "start_time": "2022-05-02T20:26:43.317Z"
   },
   {
    "duration": 17,
    "start_time": "2022-05-02T20:26:43.333Z"
   },
   {
    "duration": 37,
    "start_time": "2022-05-02T20:26:43.351Z"
   },
   {
    "duration": 6,
    "start_time": "2022-05-02T20:26:43.390Z"
   },
   {
    "duration": 14,
    "start_time": "2022-05-02T20:26:43.398Z"
   },
   {
    "duration": 4,
    "start_time": "2022-05-02T20:26:43.414Z"
   },
   {
    "duration": 41,
    "start_time": "2022-05-02T20:26:43.420Z"
   },
   {
    "duration": 36,
    "start_time": "2022-05-02T20:26:43.463Z"
   },
   {
    "duration": 129,
    "start_time": "2022-05-02T20:26:43.501Z"
   },
   {
    "duration": 10,
    "start_time": "2022-05-02T20:26:43.632Z"
   },
   {
    "duration": 6,
    "start_time": "2022-05-02T20:26:43.644Z"
   },
   {
    "duration": 47,
    "start_time": "2022-05-02T20:26:43.657Z"
   },
   {
    "duration": 14,
    "start_time": "2022-05-02T20:26:43.706Z"
   },
   {
    "duration": 64,
    "start_time": "2022-05-02T20:26:43.722Z"
   },
   {
    "duration": 12,
    "start_time": "2022-05-02T20:26:43.787Z"
   },
   {
    "duration": 7,
    "start_time": "2022-05-02T20:26:43.801Z"
   },
   {
    "duration": 24,
    "start_time": "2022-05-02T20:26:43.809Z"
   },
   {
    "duration": 46,
    "start_time": "2022-05-02T20:26:43.835Z"
   },
   {
    "duration": 67,
    "start_time": "2022-05-02T20:26:43.882Z"
   },
   {
    "duration": 10,
    "start_time": "2022-05-02T20:26:43.951Z"
   },
   {
    "duration": 31,
    "start_time": "2022-05-02T20:26:43.963Z"
   },
   {
    "duration": 13,
    "start_time": "2022-05-02T20:26:43.996Z"
   },
   {
    "duration": 5,
    "start_time": "2022-05-02T20:26:44.010Z"
   },
   {
    "duration": 9,
    "start_time": "2022-05-02T20:26:44.016Z"
   },
   {
    "duration": 8,
    "start_time": "2022-05-02T20:26:44.026Z"
   },
   {
    "duration": 68,
    "start_time": "2022-05-02T20:26:44.036Z"
   },
   {
    "duration": 5,
    "start_time": "2022-05-02T20:26:44.106Z"
   },
   {
    "duration": 24,
    "start_time": "2022-05-02T20:26:44.113Z"
   },
   {
    "duration": 5,
    "start_time": "2022-05-02T20:26:44.139Z"
   },
   {
    "duration": 61,
    "start_time": "2022-05-02T20:26:44.145Z"
   },
   {
    "duration": 5,
    "start_time": "2022-05-02T20:26:44.208Z"
   },
   {
    "duration": 13,
    "start_time": "2022-05-02T20:26:44.215Z"
   },
   {
    "duration": 10,
    "start_time": "2022-05-02T20:26:44.230Z"
   },
   {
    "duration": 3,
    "start_time": "2022-05-02T20:26:44.242Z"
   },
   {
    "duration": 39,
    "start_time": "2022-05-02T20:26:44.247Z"
   },
   {
    "duration": 4,
    "start_time": "2022-05-02T20:26:44.288Z"
   },
   {
    "duration": 5,
    "start_time": "2022-05-02T20:26:44.294Z"
   },
   {
    "duration": 5,
    "start_time": "2022-05-02T20:26:44.300Z"
   },
   {
    "duration": 7094,
    "start_time": "2022-05-02T20:26:44.306Z"
   },
   {
    "duration": 5,
    "start_time": "2022-05-02T20:26:51.402Z"
   },
   {
    "duration": 15,
    "start_time": "2022-05-02T20:26:51.408Z"
   },
   {
    "duration": 5,
    "start_time": "2022-05-02T20:26:51.425Z"
   },
   {
    "duration": 23,
    "start_time": "2022-05-02T20:26:51.432Z"
   },
   {
    "duration": 45,
    "start_time": "2022-05-02T20:26:51.457Z"
   },
   {
    "duration": 52,
    "start_time": "2022-05-02T20:26:51.503Z"
   },
   {
    "duration": 49,
    "start_time": "2022-05-02T20:26:51.557Z"
   },
   {
    "duration": 66,
    "start_time": "2022-05-02T20:26:51.608Z"
   },
   {
    "duration": 41,
    "start_time": "2022-05-02T20:26:51.676Z"
   },
   {
    "duration": 4,
    "start_time": "2022-05-02T20:26:51.719Z"
   },
   {
    "duration": 27,
    "start_time": "2022-05-02T20:26:51.724Z"
   },
   {
    "duration": 29,
    "start_time": "2022-05-02T20:26:51.754Z"
   },
   {
    "duration": 13,
    "start_time": "2022-05-02T20:26:51.785Z"
   },
   {
    "duration": 20,
    "start_time": "2022-05-02T20:26:51.800Z"
   },
   {
    "duration": 7,
    "start_time": "2022-05-02T20:26:51.822Z"
   },
   {
    "duration": 19,
    "start_time": "2022-05-02T20:26:51.831Z"
   },
   {
    "duration": 4,
    "start_time": "2022-05-02T20:26:51.851Z"
   },
   {
    "duration": 32,
    "start_time": "2022-05-02T20:26:51.857Z"
   },
   {
    "duration": 5,
    "start_time": "2022-05-02T20:26:51.891Z"
   },
   {
    "duration": 7,
    "start_time": "2022-05-02T20:26:51.898Z"
   },
   {
    "duration": 3,
    "start_time": "2022-05-02T20:26:51.907Z"
   },
   {
    "duration": 8,
    "start_time": "2022-05-02T20:26:51.911Z"
   },
   {
    "duration": 11,
    "start_time": "2022-05-02T20:26:51.921Z"
   },
   {
    "duration": 3,
    "start_time": "2022-05-02T20:26:51.933Z"
   },
   {
    "duration": 50,
    "start_time": "2022-05-02T20:26:51.938Z"
   },
   {
    "duration": 13,
    "start_time": "2022-05-02T20:26:51.990Z"
   },
   {
    "duration": 15,
    "start_time": "2022-05-02T20:26:52.011Z"
   },
   {
    "duration": 3,
    "start_time": "2022-05-02T20:26:52.028Z"
   },
   {
    "duration": 6,
    "start_time": "2022-05-02T20:26:52.033Z"
   },
   {
    "duration": 13,
    "start_time": "2022-05-02T20:26:52.041Z"
   },
   {
    "duration": 30,
    "start_time": "2022-05-02T20:26:52.056Z"
   },
   {
    "duration": 10,
    "start_time": "2022-05-02T20:26:52.087Z"
   },
   {
    "duration": 6,
    "start_time": "2022-05-02T20:26:52.098Z"
   },
   {
    "duration": 20,
    "start_time": "2022-05-02T20:26:52.106Z"
   },
   {
    "duration": 17,
    "start_time": "2022-05-02T20:26:52.128Z"
   },
   {
    "duration": 12,
    "start_time": "2022-05-02T20:26:52.147Z"
   },
   {
    "duration": 36,
    "start_time": "2022-05-02T20:26:52.161Z"
   },
   {
    "duration": 4,
    "start_time": "2022-05-02T20:26:52.199Z"
   },
   {
    "duration": 8,
    "start_time": "2022-05-02T20:26:52.205Z"
   },
   {
    "duration": 14,
    "start_time": "2022-05-02T20:26:52.214Z"
   },
   {
    "duration": 5,
    "start_time": "2022-05-02T20:26:52.230Z"
   },
   {
    "duration": 6,
    "start_time": "2022-05-02T20:26:52.236Z"
   },
   {
    "duration": 52,
    "start_time": "2022-05-02T20:26:52.243Z"
   },
   {
    "duration": 26,
    "start_time": "2022-05-02T20:26:52.297Z"
   },
   {
    "duration": 8,
    "start_time": "2022-05-02T20:26:52.325Z"
   },
   {
    "duration": 5,
    "start_time": "2022-05-02T20:26:52.335Z"
   },
   {
    "duration": 713,
    "start_time": "2022-05-02T20:26:52.342Z"
   },
   {
    "duration": 7,
    "start_time": "2022-05-02T20:26:53.056Z"
   },
   {
    "duration": 29,
    "start_time": "2022-05-02T20:26:53.065Z"
   },
   {
    "duration": 7,
    "start_time": "2022-05-02T20:26:53.096Z"
   },
   {
    "duration": 7,
    "start_time": "2022-05-02T20:26:53.104Z"
   },
   {
    "duration": 4,
    "start_time": "2022-05-02T20:26:53.112Z"
   },
   {
    "duration": 6,
    "start_time": "2022-05-02T20:26:53.118Z"
   },
   {
    "duration": 4,
    "start_time": "2022-05-02T20:26:53.126Z"
   },
   {
    "duration": 5,
    "start_time": "2022-05-02T20:26:53.132Z"
   },
   {
    "duration": 13,
    "start_time": "2022-05-02T20:26:53.139Z"
   },
   {
    "duration": 33,
    "start_time": "2022-05-02T20:26:53.155Z"
   },
   {
    "duration": 4,
    "start_time": "2022-05-02T20:26:53.190Z"
   },
   {
    "duration": 5,
    "start_time": "2022-05-02T20:26:53.196Z"
   },
   {
    "duration": 5,
    "start_time": "2022-05-02T20:26:53.202Z"
   },
   {
    "duration": 4,
    "start_time": "2022-05-02T20:26:53.209Z"
   },
   {
    "duration": 4,
    "start_time": "2022-05-02T20:26:53.215Z"
   },
   {
    "duration": 8,
    "start_time": "2022-05-02T20:26:53.220Z"
   },
   {
    "duration": 11,
    "start_time": "2022-05-02T20:26:53.230Z"
   },
   {
    "duration": 43,
    "start_time": "2022-05-02T20:26:53.243Z"
   },
   {
    "duration": 8,
    "start_time": "2022-05-02T20:26:53.288Z"
   },
   {
    "duration": 5,
    "start_time": "2022-05-02T20:26:53.298Z"
   },
   {
    "duration": 6,
    "start_time": "2022-05-02T20:26:53.305Z"
   },
   {
    "duration": 7,
    "start_time": "2022-05-02T20:26:53.312Z"
   },
   {
    "duration": 7,
    "start_time": "2022-05-02T20:26:53.320Z"
   },
   {
    "duration": 7,
    "start_time": "2022-05-02T20:26:53.328Z"
   },
   {
    "duration": 6,
    "start_time": "2022-05-02T20:26:53.336Z"
   },
   {
    "duration": 40,
    "start_time": "2022-05-02T20:26:53.344Z"
   },
   {
    "duration": 195,
    "start_time": "2022-05-02T20:28:42.638Z"
   },
   {
    "duration": 13,
    "start_time": "2022-05-02T20:28:49.273Z"
   },
   {
    "duration": 535,
    "start_time": "2022-05-03T05:43:34.266Z"
   },
   {
    "duration": 3,
    "start_time": "2022-05-03T05:43:34.804Z"
   },
   {
    "duration": 8,
    "start_time": "2022-05-03T05:43:34.809Z"
   },
   {
    "duration": 7,
    "start_time": "2022-05-03T05:43:34.819Z"
   },
   {
    "duration": 624,
    "start_time": "2022-05-03T05:43:34.828Z"
   },
   {
    "duration": 611,
    "start_time": "2022-05-03T05:43:35.455Z"
   },
   {
    "duration": 44,
    "start_time": "2022-05-03T05:43:36.068Z"
   },
   {
    "duration": 197,
    "start_time": "2022-05-03T05:43:36.115Z"
   },
   {
    "duration": 119,
    "start_time": "2022-05-03T05:43:36.314Z"
   },
   {
    "duration": 168,
    "start_time": "2022-05-03T05:43:36.437Z"
   },
   {
    "duration": 19,
    "start_time": "2022-05-03T05:43:36.607Z"
   },
   {
    "duration": 4,
    "start_time": "2022-05-03T05:43:36.628Z"
   },
   {
    "duration": 28,
    "start_time": "2022-05-03T05:43:36.633Z"
   },
   {
    "duration": 6,
    "start_time": "2022-05-03T05:43:36.663Z"
   },
   {
    "duration": 36,
    "start_time": "2022-05-03T05:43:36.671Z"
   },
   {
    "duration": 10,
    "start_time": "2022-05-03T05:43:36.709Z"
   },
   {
    "duration": 22,
    "start_time": "2022-05-03T05:43:36.721Z"
   },
   {
    "duration": 8,
    "start_time": "2022-05-03T05:43:36.746Z"
   },
   {
    "duration": 45,
    "start_time": "2022-05-03T05:43:36.756Z"
   },
   {
    "duration": 9,
    "start_time": "2022-05-03T05:43:36.803Z"
   },
   {
    "duration": 16,
    "start_time": "2022-05-03T05:43:36.814Z"
   },
   {
    "duration": 5,
    "start_time": "2022-05-03T05:43:36.832Z"
   },
   {
    "duration": 71,
    "start_time": "2022-05-03T05:43:36.839Z"
   },
   {
    "duration": 31,
    "start_time": "2022-05-03T05:43:36.912Z"
   },
   {
    "duration": 168,
    "start_time": "2022-05-03T05:43:36.945Z"
   },
   {
    "duration": 13,
    "start_time": "2022-05-03T05:43:37.116Z"
   },
   {
    "duration": 16,
    "start_time": "2022-05-03T05:43:37.131Z"
   },
   {
    "duration": 46,
    "start_time": "2022-05-03T05:43:37.153Z"
   },
   {
    "duration": 19,
    "start_time": "2022-05-03T05:43:37.202Z"
   },
   {
    "duration": 89,
    "start_time": "2022-05-03T05:43:37.223Z"
   },
   {
    "duration": 19,
    "start_time": "2022-05-03T05:43:37.315Z"
   },
   {
    "duration": 9,
    "start_time": "2022-05-03T05:43:37.337Z"
   },
   {
    "duration": 60,
    "start_time": "2022-05-03T05:43:37.348Z"
   },
   {
    "duration": 33,
    "start_time": "2022-05-03T05:43:37.411Z"
   },
   {
    "duration": 133,
    "start_time": "2022-05-03T05:43:37.446Z"
   },
   {
    "duration": 20,
    "start_time": "2022-05-03T05:43:37.581Z"
   },
   {
    "duration": 8,
    "start_time": "2022-05-03T05:43:37.603Z"
   },
   {
    "duration": 17,
    "start_time": "2022-05-03T05:43:37.613Z"
   },
   {
    "duration": 8,
    "start_time": "2022-05-03T05:43:37.632Z"
   },
   {
    "duration": 10,
    "start_time": "2022-05-03T05:43:37.642Z"
   },
   {
    "duration": 40,
    "start_time": "2022-05-03T05:43:37.654Z"
   },
   {
    "duration": 54,
    "start_time": "2022-05-03T05:43:37.697Z"
   },
   {
    "duration": 7,
    "start_time": "2022-05-03T05:43:37.753Z"
   },
   {
    "duration": 58,
    "start_time": "2022-05-03T05:43:37.762Z"
   },
   {
    "duration": 7,
    "start_time": "2022-05-03T05:43:37.822Z"
   },
   {
    "duration": 61,
    "start_time": "2022-05-03T05:43:37.831Z"
   },
   {
    "duration": 7,
    "start_time": "2022-05-03T05:43:37.895Z"
   },
   {
    "duration": 15,
    "start_time": "2022-05-03T05:43:37.904Z"
   },
   {
    "duration": 15,
    "start_time": "2022-05-03T05:43:37.921Z"
   },
   {
    "duration": 6,
    "start_time": "2022-05-03T05:43:37.938Z"
   },
   {
    "duration": 10,
    "start_time": "2022-05-03T05:43:37.946Z"
   },
   {
    "duration": 36,
    "start_time": "2022-05-03T05:43:37.958Z"
   },
   {
    "duration": 7,
    "start_time": "2022-05-03T05:43:37.996Z"
   },
   {
    "duration": 6,
    "start_time": "2022-05-03T05:43:38.005Z"
   },
   {
    "duration": 6841,
    "start_time": "2022-05-03T05:43:38.013Z"
   },
   {
    "duration": 6,
    "start_time": "2022-05-03T05:49:20.490Z"
   },
   {
    "duration": 5,
    "start_time": "2022-05-03T05:49:25.793Z"
   },
   {
    "duration": 5,
    "start_time": "2022-05-03T05:49:29.574Z"
   },
   {
    "duration": 134,
    "start_time": "2022-05-03T05:50:04.722Z"
   },
   {
    "duration": 320,
    "start_time": "2022-05-03T05:50:52.533Z"
   },
   {
    "duration": 6,
    "start_time": "2022-05-03T05:51:31.357Z"
   },
   {
    "duration": 13,
    "start_time": "2022-05-03T05:51:37.181Z"
   },
   {
    "duration": 5,
    "start_time": "2022-05-03T05:58:36.881Z"
   },
   {
    "duration": 11,
    "start_time": "2022-05-03T05:58:36.889Z"
   },
   {
    "duration": 44,
    "start_time": "2022-05-03T05:58:36.902Z"
   },
   {
    "duration": 107,
    "start_time": "2022-05-03T05:58:36.949Z"
   },
   {
    "duration": 92,
    "start_time": "2022-05-03T05:58:37.059Z"
   },
   {
    "duration": 87,
    "start_time": "2022-05-03T05:58:37.154Z"
   },
   {
    "duration": 76,
    "start_time": "2022-05-03T05:58:37.243Z"
   },
   {
    "duration": 6,
    "start_time": "2022-05-03T05:58:37.321Z"
   },
   {
    "duration": 18,
    "start_time": "2022-05-03T05:58:37.330Z"
   },
   {
    "duration": 19,
    "start_time": "2022-05-03T05:58:37.350Z"
   },
   {
    "duration": 33,
    "start_time": "2022-05-03T05:58:37.371Z"
   },
   {
    "duration": 33,
    "start_time": "2022-05-03T05:58:37.406Z"
   },
   {
    "duration": 10,
    "start_time": "2022-05-03T05:58:37.441Z"
   },
   {
    "duration": 43,
    "start_time": "2022-05-03T05:58:37.454Z"
   },
   {
    "duration": 5,
    "start_time": "2022-05-03T05:58:37.499Z"
   },
   {
    "duration": 10,
    "start_time": "2022-05-03T05:58:37.506Z"
   },
   {
    "duration": 9,
    "start_time": "2022-05-03T05:58:37.519Z"
   },
   {
    "duration": 7,
    "start_time": "2022-05-03T05:58:37.530Z"
   },
   {
    "duration": 4,
    "start_time": "2022-05-03T05:58:37.539Z"
   },
   {
    "duration": 46,
    "start_time": "2022-05-03T05:58:37.546Z"
   },
   {
    "duration": 24,
    "start_time": "2022-05-03T05:58:37.596Z"
   },
   {
    "duration": 6,
    "start_time": "2022-05-03T05:58:37.622Z"
   },
   {
    "duration": 16,
    "start_time": "2022-05-03T05:58:37.631Z"
   },
   {
    "duration": 46,
    "start_time": "2022-05-03T05:58:37.655Z"
   },
   {
    "duration": 20,
    "start_time": "2022-05-03T05:58:37.704Z"
   },
   {
    "duration": 6,
    "start_time": "2022-05-03T05:58:37.727Z"
   },
   {
    "duration": 6,
    "start_time": "2022-05-03T05:58:37.736Z"
   },
   {
    "duration": 48,
    "start_time": "2022-05-03T05:58:37.745Z"
   },
   {
    "duration": 5,
    "start_time": "2022-05-03T05:58:37.796Z"
   },
   {
    "duration": 16,
    "start_time": "2022-05-03T05:58:37.803Z"
   },
   {
    "duration": 8,
    "start_time": "2022-05-03T05:58:37.821Z"
   },
   {
    "duration": 32,
    "start_time": "2022-05-03T05:58:37.831Z"
   },
   {
    "duration": 38,
    "start_time": "2022-05-03T05:58:37.865Z"
   },
   {
    "duration": 14,
    "start_time": "2022-05-03T05:58:37.905Z"
   },
   {
    "duration": 17,
    "start_time": "2022-05-03T05:58:37.921Z"
   },
   {
    "duration": 9,
    "start_time": "2022-05-03T05:58:37.940Z"
   },
   {
    "duration": 6,
    "start_time": "2022-05-03T05:58:37.951Z"
   },
   {
    "duration": 3,
    "start_time": "2022-05-03T05:58:37.994Z"
   },
   {
    "duration": 9,
    "start_time": "2022-05-03T05:58:37.999Z"
   },
   {
    "duration": 9,
    "start_time": "2022-05-03T05:58:38.010Z"
   },
   {
    "duration": 88,
    "start_time": "2022-05-03T05:58:38.022Z"
   },
   {
    "duration": 44,
    "start_time": "2022-05-03T05:58:38.113Z"
   },
   {
    "duration": 7,
    "start_time": "2022-05-03T05:58:38.159Z"
   },
   {
    "duration": 28,
    "start_time": "2022-05-03T05:58:38.168Z"
   },
   {
    "duration": 1026,
    "start_time": "2022-05-03T05:58:38.198Z"
   },
   {
    "duration": 9,
    "start_time": "2022-05-03T05:58:39.227Z"
   },
   {
    "duration": 13,
    "start_time": "2022-05-03T05:58:39.238Z"
   },
   {
    "duration": 8,
    "start_time": "2022-05-03T05:58:39.254Z"
   },
   {
    "duration": 32,
    "start_time": "2022-05-03T05:58:39.265Z"
   },
   {
    "duration": 7,
    "start_time": "2022-05-03T05:58:39.299Z"
   },
   {
    "duration": 9,
    "start_time": "2022-05-03T05:58:39.308Z"
   },
   {
    "duration": 4,
    "start_time": "2022-05-03T05:58:39.319Z"
   },
   {
    "duration": 8,
    "start_time": "2022-05-03T05:58:39.325Z"
   },
   {
    "duration": 10,
    "start_time": "2022-05-03T05:58:39.335Z"
   },
   {
    "duration": 7,
    "start_time": "2022-05-03T05:58:39.347Z"
   },
   {
    "duration": 39,
    "start_time": "2022-05-03T05:58:39.356Z"
   },
   {
    "duration": 8,
    "start_time": "2022-05-03T05:58:39.398Z"
   },
   {
    "duration": 7,
    "start_time": "2022-05-03T05:58:39.408Z"
   },
   {
    "duration": 12,
    "start_time": "2022-05-03T05:58:39.417Z"
   },
   {
    "duration": 9,
    "start_time": "2022-05-03T05:58:39.431Z"
   },
   {
    "duration": 11,
    "start_time": "2022-05-03T05:58:39.443Z"
   },
   {
    "duration": 42,
    "start_time": "2022-05-03T05:58:39.456Z"
   },
   {
    "duration": 12,
    "start_time": "2022-05-03T05:58:39.500Z"
   },
   {
    "duration": 13,
    "start_time": "2022-05-03T05:58:39.515Z"
   },
   {
    "duration": 6,
    "start_time": "2022-05-03T05:58:39.530Z"
   },
   {
    "duration": 9,
    "start_time": "2022-05-03T05:58:39.538Z"
   },
   {
    "duration": 5,
    "start_time": "2022-05-03T05:58:39.549Z"
   },
   {
    "duration": 39,
    "start_time": "2022-05-03T05:58:39.556Z"
   },
   {
    "duration": 5,
    "start_time": "2022-05-03T05:58:39.601Z"
   },
   {
    "duration": 7,
    "start_time": "2022-05-03T05:58:39.609Z"
   },
   {
    "duration": 8,
    "start_time": "2022-05-03T05:58:39.618Z"
   },
   {
    "duration": 18,
    "start_time": "2022-05-03T06:46:48.646Z"
   },
   {
    "duration": 14,
    "start_time": "2022-05-03T06:46:51.245Z"
   },
   {
    "duration": 18,
    "start_time": "2022-05-03T06:48:43.801Z"
   },
   {
    "duration": 14,
    "start_time": "2022-05-03T06:48:46.537Z"
   },
   {
    "duration": 9,
    "start_time": "2022-05-03T06:52:14.321Z"
   },
   {
    "duration": 31,
    "start_time": "2022-05-03T06:52:15.605Z"
   },
   {
    "duration": 38,
    "start_time": "2022-05-03T06:52:31.885Z"
   },
   {
    "duration": 5,
    "start_time": "2022-05-03T06:53:01.313Z"
   },
   {
    "duration": 11,
    "start_time": "2022-05-03T06:53:01.322Z"
   },
   {
    "duration": 13,
    "start_time": "2022-05-03T06:53:01.336Z"
   },
   {
    "duration": 5,
    "start_time": "2022-05-03T06:53:01.353Z"
   },
   {
    "duration": 7,
    "start_time": "2022-05-03T06:53:01.361Z"
   },
   {
    "duration": 23,
    "start_time": "2022-05-03T06:53:01.370Z"
   },
   {
    "duration": 784,
    "start_time": "2022-05-03T06:53:01.396Z"
   },
   {
    "duration": 212,
    "start_time": "2022-05-03T06:53:02.182Z"
   },
   {
    "duration": 160,
    "start_time": "2022-05-03T06:53:02.398Z"
   },
   {
    "duration": 222,
    "start_time": "2022-05-03T06:53:02.561Z"
   },
   {
    "duration": 23,
    "start_time": "2022-05-03T06:53:02.786Z"
   },
   {
    "duration": 4,
    "start_time": "2022-05-03T06:53:02.811Z"
   },
   {
    "duration": 28,
    "start_time": "2022-05-03T06:53:02.817Z"
   },
   {
    "duration": 8,
    "start_time": "2022-05-03T06:53:02.848Z"
   },
   {
    "duration": 43,
    "start_time": "2022-05-03T06:53:02.859Z"
   },
   {
    "duration": 8,
    "start_time": "2022-05-03T06:53:02.904Z"
   },
   {
    "duration": 28,
    "start_time": "2022-05-03T06:53:02.914Z"
   },
   {
    "duration": 11,
    "start_time": "2022-05-03T06:53:02.945Z"
   },
   {
    "duration": 45,
    "start_time": "2022-05-03T06:53:02.958Z"
   },
   {
    "duration": 11,
    "start_time": "2022-05-03T06:53:03.005Z"
   },
   {
    "duration": 18,
    "start_time": "2022-05-03T06:53:03.018Z"
   },
   {
    "duration": 8,
    "start_time": "2022-05-03T06:53:03.038Z"
   },
   {
    "duration": 70,
    "start_time": "2022-05-03T06:53:03.049Z"
   },
   {
    "duration": 33,
    "start_time": "2022-05-03T06:53:03.125Z"
   },
   {
    "duration": 175,
    "start_time": "2022-05-03T06:53:03.160Z"
   },
   {
    "duration": 13,
    "start_time": "2022-05-03T06:53:03.338Z"
   },
   {
    "duration": 9,
    "start_time": "2022-05-03T06:53:03.353Z"
   },
   {
    "duration": 54,
    "start_time": "2022-05-03T06:53:03.364Z"
   },
   {
    "duration": 24,
    "start_time": "2022-05-03T06:53:03.421Z"
   },
   {
    "duration": 101,
    "start_time": "2022-05-03T06:53:03.447Z"
   },
   {
    "duration": 44,
    "start_time": "2022-05-03T06:53:03.551Z"
   },
   {
    "duration": 8,
    "start_time": "2022-05-03T06:53:03.598Z"
   },
   {
    "duration": 33,
    "start_time": "2022-05-03T06:53:03.609Z"
   },
   {
    "duration": 76,
    "start_time": "2022-05-03T06:53:03.645Z"
   },
   {
    "duration": 155,
    "start_time": "2022-05-03T06:53:03.725Z"
   },
   {
    "duration": 21,
    "start_time": "2022-05-03T06:53:03.884Z"
   },
   {
    "duration": 7,
    "start_time": "2022-05-03T06:53:03.908Z"
   },
   {
    "duration": 18,
    "start_time": "2022-05-03T06:53:03.917Z"
   },
   {
    "duration": 8,
    "start_time": "2022-05-03T06:53:03.937Z"
   },
   {
    "duration": 47,
    "start_time": "2022-05-03T06:53:03.948Z"
   },
   {
    "duration": 15,
    "start_time": "2022-05-03T06:53:03.998Z"
   },
   {
    "duration": 91,
    "start_time": "2022-05-03T06:53:04.017Z"
   },
   {
    "duration": 7,
    "start_time": "2022-05-03T06:53:04.110Z"
   },
   {
    "duration": 36,
    "start_time": "2022-05-03T06:53:04.119Z"
   },
   {
    "duration": 7,
    "start_time": "2022-05-03T06:53:04.157Z"
   },
   {
    "duration": 38,
    "start_time": "2022-05-03T06:53:04.194Z"
   },
   {
    "duration": 6,
    "start_time": "2022-05-03T06:53:04.235Z"
   },
   {
    "duration": 11,
    "start_time": "2022-05-03T06:53:04.244Z"
   },
   {
    "duration": 13,
    "start_time": "2022-05-03T06:53:04.292Z"
   },
   {
    "duration": 9,
    "start_time": "2022-05-03T06:53:04.308Z"
   },
   {
    "duration": 7,
    "start_time": "2022-05-03T06:53:04.320Z"
   },
   {
    "duration": 5,
    "start_time": "2022-05-03T06:53:04.330Z"
   },
   {
    "duration": 8,
    "start_time": "2022-05-03T06:53:04.338Z"
   },
   {
    "duration": 44,
    "start_time": "2022-05-03T06:53:04.349Z"
   },
   {
    "duration": 12502,
    "start_time": "2022-05-03T06:53:04.396Z"
   },
   {
    "duration": 6,
    "start_time": "2022-05-03T06:53:16.900Z"
   },
   {
    "duration": 17,
    "start_time": "2022-05-03T06:53:16.909Z"
   },
   {
    "duration": 6,
    "start_time": "2022-05-03T06:53:16.929Z"
   },
   {
    "duration": 6,
    "start_time": "2022-05-03T06:53:16.938Z"
   },
   {
    "duration": 72,
    "start_time": "2022-05-03T06:53:16.946Z"
   },
   {
    "duration": 79,
    "start_time": "2022-05-03T06:53:17.020Z"
   },
   {
    "duration": 52,
    "start_time": "2022-05-03T06:53:17.101Z"
   },
   {
    "duration": 85,
    "start_time": "2022-05-03T06:53:17.155Z"
   },
   {
    "duration": 80,
    "start_time": "2022-05-03T06:53:17.242Z"
   },
   {
    "duration": 6,
    "start_time": "2022-05-03T06:53:17.324Z"
   },
   {
    "duration": 14,
    "start_time": "2022-05-03T06:53:17.332Z"
   },
   {
    "duration": 7,
    "start_time": "2022-05-03T06:53:17.349Z"
   },
   {
    "duration": 42,
    "start_time": "2022-05-03T06:53:17.358Z"
   },
   {
    "duration": 28,
    "start_time": "2022-05-03T06:53:17.409Z"
   },
   {
    "duration": 10,
    "start_time": "2022-05-03T06:53:17.439Z"
   },
   {
    "duration": 55,
    "start_time": "2022-05-03T06:53:17.451Z"
   },
   {
    "duration": 7,
    "start_time": "2022-05-03T06:53:17.509Z"
   },
   {
    "duration": 9,
    "start_time": "2022-05-03T06:53:17.519Z"
   },
   {
    "duration": 7,
    "start_time": "2022-05-03T06:53:17.531Z"
   },
   {
    "duration": 9,
    "start_time": "2022-05-03T06:53:17.541Z"
   },
   {
    "duration": 41,
    "start_time": "2022-05-03T06:53:17.553Z"
   },
   {
    "duration": 13,
    "start_time": "2022-05-03T06:53:17.596Z"
   },
   {
    "duration": 22,
    "start_time": "2022-05-03T06:53:17.613Z"
   },
   {
    "duration": 6,
    "start_time": "2022-05-03T06:53:17.638Z"
   },
   {
    "duration": 50,
    "start_time": "2022-05-03T06:53:17.646Z"
   },
   {
    "duration": 26,
    "start_time": "2022-05-03T06:53:17.698Z"
   },
   {
    "duration": 33,
    "start_time": "2022-05-03T06:53:17.727Z"
   },
   {
    "duration": 5,
    "start_time": "2022-05-03T06:53:17.763Z"
   },
   {
    "duration": 25,
    "start_time": "2022-05-03T06:53:17.771Z"
   },
   {
    "duration": 9,
    "start_time": "2022-05-03T06:53:17.798Z"
   },
   {
    "duration": 10,
    "start_time": "2022-05-03T06:53:17.810Z"
   },
   {
    "duration": 16,
    "start_time": "2022-05-03T06:53:17.822Z"
   },
   {
    "duration": 8,
    "start_time": "2022-05-03T06:53:17.840Z"
   },
   {
    "duration": 60,
    "start_time": "2022-05-03T06:53:17.850Z"
   },
   {
    "duration": 26,
    "start_time": "2022-05-03T06:53:17.913Z"
   },
   {
    "duration": 17,
    "start_time": "2022-05-03T06:53:17.943Z"
   },
   {
    "duration": 16,
    "start_time": "2022-05-03T06:53:17.994Z"
   },
   {
    "duration": 8,
    "start_time": "2022-05-03T06:53:18.012Z"
   },
   {
    "duration": 6,
    "start_time": "2022-05-03T06:53:18.023Z"
   },
   {
    "duration": 7,
    "start_time": "2022-05-03T06:53:18.031Z"
   },
   {
    "duration": 7,
    "start_time": "2022-05-03T06:53:18.040Z"
   },
   {
    "duration": 43,
    "start_time": "2022-05-03T06:53:18.049Z"
   },
   {
    "duration": 50,
    "start_time": "2022-05-03T06:53:18.095Z"
   },
   {
    "duration": 30,
    "start_time": "2022-05-03T06:53:23.477Z"
   },
   {
    "duration": 64,
    "start_time": "2022-05-03T06:58:12.172Z"
   },
   {
    "duration": 46,
    "start_time": "2022-05-03T06:58:14.033Z"
   },
   {
    "duration": 44,
    "start_time": "2022-05-03T07:00:02.889Z"
   },
   {
    "duration": 30,
    "start_time": "2022-05-03T07:00:21.405Z"
   },
   {
    "duration": 19,
    "start_time": "2022-05-03T07:06:21.464Z"
   },
   {
    "duration": 14,
    "start_time": "2022-05-03T07:06:24.943Z"
   },
   {
    "duration": 19,
    "start_time": "2022-05-03T07:20:46.459Z"
   },
   {
    "duration": 20,
    "start_time": "2022-05-03T07:20:55.831Z"
   },
   {
    "duration": 28,
    "start_time": "2022-05-03T07:21:07.131Z"
   },
   {
    "duration": 31,
    "start_time": "2022-05-03T07:23:39.223Z"
   },
   {
    "duration": 33,
    "start_time": "2022-05-03T07:25:25.410Z"
   },
   {
    "duration": 44,
    "start_time": "2022-05-03T07:32:20.762Z"
   },
   {
    "duration": 49,
    "start_time": "2022-05-03T07:32:30.058Z"
   },
   {
    "duration": 86,
    "start_time": "2022-05-03T07:32:37.230Z"
   },
   {
    "duration": 75,
    "start_time": "2022-05-03T07:33:06.486Z"
   },
   {
    "duration": 5,
    "start_time": "2022-05-03T07:49:52.305Z"
   },
   {
    "duration": 10,
    "start_time": "2022-05-03T07:49:52.313Z"
   },
   {
    "duration": 6,
    "start_time": "2022-05-03T07:49:52.326Z"
   },
   {
    "duration": 6,
    "start_time": "2022-05-03T07:49:52.335Z"
   },
   {
    "duration": 6,
    "start_time": "2022-05-03T07:49:52.346Z"
   },
   {
    "duration": 45,
    "start_time": "2022-05-03T07:49:52.354Z"
   },
   {
    "duration": 52,
    "start_time": "2022-05-03T07:49:52.404Z"
   },
   {
    "duration": 273,
    "start_time": "2022-05-03T07:49:52.458Z"
   },
   {
    "duration": 127,
    "start_time": "2022-05-03T07:49:52.734Z"
   },
   {
    "duration": 187,
    "start_time": "2022-05-03T07:49:52.863Z"
   },
   {
    "duration": 19,
    "start_time": "2022-05-03T07:49:53.052Z"
   },
   {
    "duration": 3,
    "start_time": "2022-05-03T07:49:53.074Z"
   },
   {
    "duration": 33,
    "start_time": "2022-05-03T07:49:53.082Z"
   },
   {
    "duration": 6,
    "start_time": "2022-05-03T07:49:53.118Z"
   },
   {
    "duration": 22,
    "start_time": "2022-05-03T07:49:53.127Z"
   },
   {
    "duration": 46,
    "start_time": "2022-05-03T07:49:53.152Z"
   },
   {
    "duration": 31,
    "start_time": "2022-05-03T07:49:53.201Z"
   },
   {
    "duration": 15,
    "start_time": "2022-05-03T07:49:53.234Z"
   },
   {
    "duration": 10,
    "start_time": "2022-05-03T07:49:53.251Z"
   },
   {
    "duration": 38,
    "start_time": "2022-05-03T07:49:53.263Z"
   },
   {
    "duration": 18,
    "start_time": "2022-05-03T07:49:53.304Z"
   },
   {
    "duration": 10,
    "start_time": "2022-05-03T07:49:53.324Z"
   },
   {
    "duration": 70,
    "start_time": "2022-05-03T07:49:53.337Z"
   },
   {
    "duration": 50,
    "start_time": "2022-05-03T07:49:53.410Z"
   },
   {
    "duration": 194,
    "start_time": "2022-05-03T07:49:53.462Z"
   },
   {
    "duration": 16,
    "start_time": "2022-05-03T07:49:53.658Z"
   },
   {
    "duration": 24,
    "start_time": "2022-05-03T07:49:53.676Z"
   },
   {
    "duration": 67,
    "start_time": "2022-05-03T07:49:53.703Z"
   },
   {
    "duration": 38,
    "start_time": "2022-05-03T07:49:53.773Z"
   },
   {
    "duration": 118,
    "start_time": "2022-05-03T07:49:53.814Z"
   },
   {
    "duration": 28,
    "start_time": "2022-05-03T07:49:53.936Z"
   },
   {
    "duration": 32,
    "start_time": "2022-05-03T07:49:53.967Z"
   },
   {
    "duration": 38,
    "start_time": "2022-05-03T07:49:54.001Z"
   },
   {
    "duration": 59,
    "start_time": "2022-05-03T07:49:54.042Z"
   },
   {
    "duration": 133,
    "start_time": "2022-05-03T07:49:54.104Z"
   },
   {
    "duration": 13,
    "start_time": "2022-05-03T07:49:54.240Z"
   },
   {
    "duration": 29,
    "start_time": "2022-05-03T07:49:54.264Z"
   },
   {
    "duration": 19,
    "start_time": "2022-05-03T07:49:54.295Z"
   },
   {
    "duration": 10,
    "start_time": "2022-05-03T07:49:54.317Z"
   },
   {
    "duration": 13,
    "start_time": "2022-05-03T07:49:54.329Z"
   },
   {
    "duration": 10,
    "start_time": "2022-05-03T07:49:54.344Z"
   },
   {
    "duration": 99,
    "start_time": "2022-05-03T07:49:54.356Z"
   },
   {
    "duration": 8,
    "start_time": "2022-05-03T07:49:54.457Z"
   },
   {
    "duration": 73,
    "start_time": "2022-05-03T07:49:54.468Z"
   },
   {
    "duration": 11,
    "start_time": "2022-05-03T07:49:54.545Z"
   },
   {
    "duration": 73,
    "start_time": "2022-05-03T07:49:54.559Z"
   },
   {
    "duration": 7,
    "start_time": "2022-05-03T07:49:54.635Z"
   },
   {
    "duration": 22,
    "start_time": "2022-05-03T07:49:54.644Z"
   },
   {
    "duration": 37,
    "start_time": "2022-05-03T07:49:54.669Z"
   },
   {
    "duration": 22,
    "start_time": "2022-05-03T07:49:54.711Z"
   },
   {
    "duration": 18,
    "start_time": "2022-05-03T07:49:54.735Z"
   },
   {
    "duration": 11,
    "start_time": "2022-05-03T07:49:54.755Z"
   },
   {
    "duration": 18,
    "start_time": "2022-05-03T07:49:54.769Z"
   },
   {
    "duration": 27,
    "start_time": "2022-05-03T07:49:54.791Z"
   },
   {
    "duration": 13211,
    "start_time": "2022-05-03T07:49:54.821Z"
   },
   {
    "duration": 5,
    "start_time": "2022-05-03T07:50:08.034Z"
   },
   {
    "duration": 17,
    "start_time": "2022-05-03T07:50:08.042Z"
   },
   {
    "duration": 36,
    "start_time": "2022-05-03T07:50:08.062Z"
   },
   {
    "duration": 24,
    "start_time": "2022-05-03T07:50:08.100Z"
   },
   {
    "duration": 44,
    "start_time": "2022-05-03T07:50:08.127Z"
   },
   {
    "duration": 124,
    "start_time": "2022-05-03T07:50:08.174Z"
   },
   {
    "duration": 58,
    "start_time": "2022-05-03T07:50:08.301Z"
   },
   {
    "duration": 81,
    "start_time": "2022-05-03T07:50:08.361Z"
   },
   {
    "duration": 93,
    "start_time": "2022-05-03T07:50:08.446Z"
   },
   {
    "duration": 6,
    "start_time": "2022-05-03T07:50:08.541Z"
   },
   {
    "duration": 14,
    "start_time": "2022-05-03T07:50:08.549Z"
   },
   {
    "duration": 33,
    "start_time": "2022-05-03T07:50:08.565Z"
   },
   {
    "duration": 18,
    "start_time": "2022-05-03T07:50:08.602Z"
   },
   {
    "duration": 30,
    "start_time": "2022-05-03T07:50:08.623Z"
   },
   {
    "duration": 10,
    "start_time": "2022-05-03T07:50:08.656Z"
   },
   {
    "duration": 33,
    "start_time": "2022-05-03T07:50:08.695Z"
   },
   {
    "duration": 5,
    "start_time": "2022-05-03T07:50:08.730Z"
   },
   {
    "duration": 10,
    "start_time": "2022-05-03T07:50:08.738Z"
   },
   {
    "duration": 13,
    "start_time": "2022-05-03T07:50:08.751Z"
   },
   {
    "duration": 11,
    "start_time": "2022-05-03T07:50:08.792Z"
   },
   {
    "duration": 15,
    "start_time": "2022-05-03T07:50:08.806Z"
   },
   {
    "duration": 11,
    "start_time": "2022-05-03T07:50:08.823Z"
   },
   {
    "duration": 24,
    "start_time": "2022-05-03T07:50:08.837Z"
   },
   {
    "duration": 11,
    "start_time": "2022-05-03T07:50:08.864Z"
   },
   {
    "duration": 16,
    "start_time": "2022-05-03T07:50:08.900Z"
   },
   {
    "duration": 18,
    "start_time": "2022-05-03T07:50:08.919Z"
   },
   {
    "duration": 38,
    "start_time": "2022-05-03T07:50:08.940Z"
   },
   {
    "duration": 15,
    "start_time": "2022-05-03T07:50:08.980Z"
   },
   {
    "duration": 31,
    "start_time": "2022-05-03T07:50:08.998Z"
   },
   {
    "duration": 9,
    "start_time": "2022-05-03T07:50:09.031Z"
   },
   {
    "duration": 8,
    "start_time": "2022-05-03T07:50:09.043Z"
   },
   {
    "duration": 19,
    "start_time": "2022-05-03T07:50:09.054Z"
   },
   {
    "duration": 18,
    "start_time": "2022-05-03T07:50:09.075Z"
   },
   {
    "duration": 38,
    "start_time": "2022-05-03T07:50:09.095Z"
   },
   {
    "duration": 19,
    "start_time": "2022-05-03T07:50:09.136Z"
   },
   {
    "duration": 14,
    "start_time": "2022-05-03T07:50:09.157Z"
   },
   {
    "duration": 35,
    "start_time": "2022-05-03T07:50:09.196Z"
   },
   {
    "duration": 68,
    "start_time": "2022-05-03T07:50:09.234Z"
   },
   {
    "duration": 41,
    "start_time": "2022-05-03T07:50:09.305Z"
   },
   {
    "duration": 16,
    "start_time": "2022-05-03T07:50:09.348Z"
   },
   {
    "duration": 28,
    "start_time": "2022-05-03T07:50:09.366Z"
   },
   {
    "duration": 9,
    "start_time": "2022-05-03T07:50:09.404Z"
   },
   {
    "duration": 13,
    "start_time": "2022-05-03T07:50:09.416Z"
   },
   {
    "duration": 8,
    "start_time": "2022-05-03T07:50:09.432Z"
   },
   {
    "duration": 12,
    "start_time": "2022-05-03T07:50:09.442Z"
   },
   {
    "duration": 91,
    "start_time": "2022-05-03T07:50:09.456Z"
   },
   {
    "duration": 75,
    "start_time": "2022-05-03T07:50:09.550Z"
   },
   {
    "duration": 5,
    "start_time": "2022-05-03T07:50:09.627Z"
   },
   {
    "duration": 6,
    "start_time": "2022-05-03T07:50:09.636Z"
   },
   {
    "duration": 1069,
    "start_time": "2022-05-03T07:50:09.645Z"
   },
   {
    "duration": 10,
    "start_time": "2022-05-03T07:50:10.716Z"
   },
   {
    "duration": 16,
    "start_time": "2022-05-03T07:50:10.728Z"
   },
   {
    "duration": 11,
    "start_time": "2022-05-03T07:50:10.746Z"
   },
   {
    "duration": 37,
    "start_time": "2022-05-03T07:50:10.767Z"
   },
   {
    "duration": 12,
    "start_time": "2022-05-03T07:50:10.809Z"
   },
   {
    "duration": 8,
    "start_time": "2022-05-03T07:50:10.823Z"
   },
   {
    "duration": 9,
    "start_time": "2022-05-03T07:50:10.834Z"
   },
   {
    "duration": 10,
    "start_time": "2022-05-03T07:50:10.845Z"
   },
   {
    "duration": 11,
    "start_time": "2022-05-03T07:50:10.857Z"
   },
   {
    "duration": 43,
    "start_time": "2022-05-03T07:50:10.870Z"
   },
   {
    "duration": 9,
    "start_time": "2022-05-03T07:50:10.917Z"
   },
   {
    "duration": 7,
    "start_time": "2022-05-03T07:50:10.928Z"
   },
   {
    "duration": 7,
    "start_time": "2022-05-03T07:50:10.937Z"
   },
   {
    "duration": 13,
    "start_time": "2022-05-03T07:50:10.946Z"
   },
   {
    "duration": 10,
    "start_time": "2022-05-03T07:50:10.961Z"
   },
   {
    "duration": 9,
    "start_time": "2022-05-03T07:50:10.999Z"
   },
   {
    "duration": 16,
    "start_time": "2022-05-03T07:50:11.011Z"
   },
   {
    "duration": 15,
    "start_time": "2022-05-03T07:50:11.030Z"
   },
   {
    "duration": 14,
    "start_time": "2022-05-03T07:50:11.047Z"
   },
   {
    "duration": 11,
    "start_time": "2022-05-03T07:50:11.063Z"
   },
   {
    "duration": 20,
    "start_time": "2022-05-03T07:50:11.077Z"
   },
   {
    "duration": 18,
    "start_time": "2022-05-03T07:50:11.100Z"
   },
   {
    "duration": 10,
    "start_time": "2022-05-03T07:50:11.121Z"
   },
   {
    "duration": 8,
    "start_time": "2022-05-03T07:50:11.134Z"
   },
   {
    "duration": 9,
    "start_time": "2022-05-03T07:50:11.145Z"
   },
   {
    "duration": 10,
    "start_time": "2022-05-03T07:50:11.157Z"
   },
   {
    "duration": 213,
    "start_time": "2022-05-03T15:13:26.834Z"
   }
  ],
  "celltoolbar": "Необработанный формат ячейки",
  "kernelspec": {
   "display_name": "Python 3 (ipykernel)",
   "language": "python",
   "name": "python3"
  },
  "language_info": {
   "codemirror_mode": {
    "name": "ipython",
    "version": 3
   },
   "file_extension": ".py",
   "mimetype": "text/x-python",
   "name": "python",
   "nbconvert_exporter": "python",
   "pygments_lexer": "ipython3",
   "version": "3.10.4"
  },
  "latex_envs": {
   "LaTeX_envs_menu_present": true,
   "autoclose": false,
   "autocomplete": true,
   "bibliofile": "biblio.bib",
   "cite_by": "apalike",
   "current_citInitial": 1,
   "eqLabelWithNumbers": true,
   "eqNumInitial": 1,
   "hotkeys": {
    "equation": "Ctrl-E",
    "itemize": "Ctrl-I"
   },
   "labels_anchors": false,
   "latex_user_defs": false,
   "report_style_numbering": false,
   "user_envs_cfg": false
  },
  "nbTranslate": {
   "displayLangs": [
    "*"
   ],
   "hotkey": "alt-t",
   "langInMainMenu": true,
   "sourceLang": "en",
   "targetLang": "fr",
   "useGoogleTranslate": true
  },
  "toc": {
   "base_numbering": 1,
   "nav_menu": {
    "height": "123px",
    "width": "296px"
   },
   "number_sections": true,
   "sideBar": true,
   "skip_h1_title": true,
   "title_cell": "Содержание",
   "title_sidebar": "Contents",
   "toc_cell": true,
   "toc_position": {
    "height": "calc(100% - 180px)",
    "left": "10px",
    "top": "150px",
    "width": "309.375px"
   },
   "toc_section_display": true,
   "toc_window_display": true
  }
 },
 "nbformat": 4,
 "nbformat_minor": 2
}
